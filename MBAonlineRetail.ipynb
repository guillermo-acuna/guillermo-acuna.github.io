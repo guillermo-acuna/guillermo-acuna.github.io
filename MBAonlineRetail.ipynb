{
 "cells": [
  {
   "cell_type": "markdown",
   "metadata": {},
   "source": [
    "# Markety Basket Analysis - Online Retail Database\n",
    "\n",
    "En este artículo se hace un análisis de la canasta de mercado de un retail online de UK. La base de datos registra transacciones ocurridas entre el 01/12/2010 y 09/12/2011. Los datos fueron utilizados por primera vez en el siguiente artículo:\n",
    "\n",
    "*Daqing Chen, Sai Liang Sain, and Kun Guo, Data mining for the online retail industry: A case study of RFM model-based customer segmentation using data mining, Journal of Database Marketing and Customer Strategy Management, Vol. 19, No. 3, pp. 197â€“208, 2012 (Published online before print: 27 August 2012. doi: 10.1057/dbm.2012.17).*\n",
    "\n",
    "Se pueden descargar en el siguiente sitio web:\n",
    "https://archive.ics.uci.edu/ml/datasets/Online%20Retail\n",
    "\n",
    "Las variables que contiene son las siguientes:\n",
    "- InvoiceNo: Invoice number. Nominal, a 6-digit integral number uniquely assigned to each transaction. If this code starts with letter 'c', it indicates a cancellation.\n",
    "- StockCode: Product (item) code. Nominal, a 5-digit integral number uniquely assigned to each distinct product.\n",
    "- Description: Product (item) name. Nominal.\n",
    "- Quantity: The quantities of each product (item) per transaction. Numeric.\n",
    "- InvoiceDate: Invoice Date and time. Numeric, the day and time when each transaction was generated.\n",
    "- UnitPrice: Unit price. Numeric, Product price per unit in sterling.\n",
    "- CustomerID: Customer number. Nominal, a 5-digit integral number uniquely assigned to each customer.\n",
    "- Country: Country name. Nominal, the name of the country where each customer resides. \n",
    "\n",
    "A continuación se cargan los paquetes a utilizar en el análisis y se ajustan algunos formatos para los resultados."
   ]
  },
  {
   "cell_type": "code",
   "execution_count": 8,
   "metadata": {},
   "outputs": [],
   "source": [
    "import pandas as pd\n",
    "import matplotlib.pyplot as plt \n",
    "from mlxtend.preprocessing import TransactionEncoder\n",
    "from mlxtend.frequent_patterns import apriori, association_rules\n",
    "import seaborn as sns\n",
    "\n",
    "pd.set_option('display.float_format', lambda x: '%.4f' % x) # formato del output, 4 decimales\n",
    "pd.set_option('display.max_columns', 100) # número máximo de columnas a mostrar en el terminal\n",
    "pd.set_option('display.max_rows', 100) # número máximo de filas a mostrar en el terminal"
   ]
  },
  {
   "cell_type": "markdown",
   "metadata": {},
   "source": [
    "A continuación se carga la base de datos y se examinan las variables que contiene. Sólo se utilizarán las variables 'InvoiceNo' y 'Description' en el análisis. 'InvoiceNo', el número de factura, permite identificar las transacciones, mientras que en 'Description' se describen los productos comprados por los clientes."
   ]
  },
  {
   "cell_type": "code",
   "execution_count": 9,
   "metadata": {},
   "outputs": [
    {
     "name": "stdout",
     "output_type": "stream",
     "text": [
      "Variables (original): \n",
      " Index(['InvoiceNo', 'StockCode', 'Description', 'Quantity', 'InvoiceDate',\n",
      "       'UnitPrice', 'CustomerID', 'Country'],\n",
      "      dtype='object')\n",
      "\n",
      "\n",
      "Variables (subconjunto): \n",
      " Index(['InvoiceNo', 'Description'], dtype='object')\n"
     ]
    }
   ],
   "source": [
    "data = pd.read_csv('C:/Users/acuna/Dropbox/Consultora/Analisis/Market Basket Analysis/Online Retail.csv')\n",
    "print('Variables (original): \\n', data.columns)\n",
    "print('\\n')\n",
    "data = data[['InvoiceNo', 'Description']]\n",
    "print('Variables (subconjunto): \\n', data.columns)"
   ]
  },
  {
   "cell_type": "markdown",
   "metadata": {},
   "source": [
    "Luego se eliminan las observaciones con missing values ('NaN') y se examinan algunas características de la base de datos. La base de datos contiene un total de 540.455 observaciones (filas), que corresponden a un total de 24.446 transacciones que involucran una suma de 4223 productos."
   ]
  },
  {
   "cell_type": "code",
   "execution_count": 10,
   "metadata": {},
   "outputs": [
    {
     "name": "stdout",
     "output_type": "stream",
     "text": [
      "Data shape: \n",
      " (540455, 2)\n",
      "Número de transacciones: \n",
      " (24446,)\n",
      "Número de productos: \n",
      " (4223,)\n"
     ]
    }
   ],
   "source": [
    "data = data.dropna()\n",
    "print('Data shape: \\n', data.shape)\n",
    "print('Número de transacciones: \\n', data['InvoiceNo'].unique().shape)\n",
    "print('Número de productos: \\n', data['Description'].unique().shape)"
   ]
  },
  {
   "cell_type": "markdown",
   "metadata": {},
   "source": [
    "En la siguiente celda se transforma la base de datos en un diccionario, que agrupa los productos transados en una lista, para cada número de factura. En total se tienen 24.446 entradas en el diccionario, que se corresponde con el número de transacciones mostrado anteriormente."
   ]
  },
  {
   "cell_type": "code",
   "execution_count": 11,
   "metadata": {},
   "outputs": [
    {
     "name": "stdout",
     "output_type": "stream",
     "text": [
      "Número de entradas en el diccionario: \n",
      " 24446\n"
     ]
    }
   ],
   "source": [
    "# Diccionario con ítems por transacción, según número de factura\n",
    "basket = {}\n",
    "for index, row in data.iterrows():\n",
    "    key = row[\"InvoiceNo\"]   \n",
    "    #check key exists or not\n",
    "    if key not in basket:\n",
    "        basket[row[\"InvoiceNo\"]] = []\n",
    "        #append value\n",
    "        basket[row[\"InvoiceNo\"]].append(row[\"Description\"])\n",
    "    else:\n",
    "        basket[row[\"InvoiceNo\"]].append(row[\"Description\"])\n",
    "\n",
    "print('Número de entradas en el diccionario: \\n', len(basket))"
   ]
  },
  {
   "cell_type": "markdown",
   "metadata": {},
   "source": [
    "Luego, el diccionario se transforma en una lista de listas, en la que cada lista agrupa los productos de cada transacción."
   ]
  },
  {
   "cell_type": "code",
   "execution_count": 13,
   "metadata": {},
   "outputs": [],
   "source": [
    "# List of lists\n",
    "market_basket = list(basket.values())"
   ]
  },
  {
   "cell_type": "markdown",
   "metadata": {},
   "source": [
    "La lista de listas se puede utilizar como input del TransactionEncoder, que transforma la lista de listas en una base de datos en la que cada fila corresponde a una transacción, y cada columna corresponde a un producto. En los valores, un 'Verdadero' indica que dicho producto estuvo involucrado en la transacción."
   ]
  },
  {
   "cell_type": "code",
   "execution_count": 14,
   "metadata": {},
   "outputs": [
    {
     "name": "stdout",
     "output_type": "stream",
     "text": [
      "    4 PURPLE FLOCK DINNER CANDLES   50'S CHRISTMAS GIFT BAG LARGE  \\\n",
      "0                           False                           False   \n",
      "1                           False                           False   \n",
      "2                           False                           False   \n",
      "3                           False                           False   \n",
      "4                           False                           False   \n",
      "\n",
      "    DOLLY GIRL BEAKER   I LOVE LONDON MINI BACKPACK  \\\n",
      "0               False                         False   \n",
      "1               False                         False   \n",
      "2               False                         False   \n",
      "3               False                         False   \n",
      "4               False                         False   \n",
      "\n",
      "    I LOVE LONDON MINI RUCKSACK   NINE DRAWER OFFICE TIDY  \\\n",
      "0                         False                     False   \n",
      "1                         False                     False   \n",
      "2                         False                     False   \n",
      "3                         False                     False   \n",
      "4                         False                     False   \n",
      "\n",
      "    OVAL WALL MIRROR DIAMANTE    RED SPOT GIFT BAG LARGE  \\\n",
      "0                        False                     False   \n",
      "1                        False                     False   \n",
      "2                        False                     False   \n",
      "3                        False                     False   \n",
      "4                        False                     False   \n",
      "\n",
      "    SET 2 TEA TOWELS I LOVE LONDON    SPACEBOY BABY GIFT SET  \\\n",
      "0                             False                    False   \n",
      "1                             False                    False   \n",
      "2                             False                    False   \n",
      "3                             False                    False   \n",
      "4                             False                    False   \n",
      "\n",
      "    TOADSTOOL BEDSIDE LIGHT    TRELLIS COAT RACK  *Boombox Ipod Classic  \\\n",
      "0                      False               False                  False   \n",
      "1                      False               False                  False   \n",
      "2                      False               False                  False   \n",
      "3                      False               False                  False   \n",
      "4                      False               False                  False   \n",
      "\n",
      "   *USB Office Mirror Ball  10 COLOUR SPACEBOY PEN  \\\n",
      "0                    False                   False   \n",
      "1                    False                   False   \n",
      "2                    False                   False   \n",
      "3                    False                   False   \n",
      "4                    False                   False   \n",
      "\n",
      "   12 COLOURED PARTY BALLOONS  12 DAISY PEGS IN WOOD BOX  \\\n",
      "0                       False                      False   \n",
      "1                       False                      False   \n",
      "2                       False                      False   \n",
      "3                       False                      False   \n",
      "4                       False                      False   \n",
      "\n",
      "   12 EGG HOUSE PAINTED WOOD  12 HANGING EGGS HAND PAINTED  \\\n",
      "0                      False                         False   \n",
      "1                      False                         False   \n",
      "2                      False                         False   \n",
      "3                      False                         False   \n",
      "4                      False                         False   \n",
      "\n",
      "   12 IVORY ROSE PEG PLACE SETTINGS  12 MESSAGE CARDS WITH ENVELOPES  \\\n",
      "0                             False                            False   \n",
      "1                             False                            False   \n",
      "2                             False                            False   \n",
      "3                             False                            False   \n",
      "4                             False                            False   \n",
      "\n",
      "   12 PENCIL SMALL TUBE WOODLAND  12 PENCILS SMALL TUBE RED RETROSPOT  \\\n",
      "0                          False                                False   \n",
      "1                          False                                False   \n",
      "2                          False                                False   \n",
      "3                          False                                False   \n",
      "4                          False                                False   \n",
      "\n",
      "   12 PENCILS SMALL TUBE SKULL  12 PENCILS TALL TUBE POSY  \\\n",
      "0                        False                      False   \n",
      "1                        False                      False   \n",
      "2                        False                      False   \n",
      "3                        False                      False   \n",
      "4                        False                      False   \n",
      "\n",
      "   12 PENCILS TALL TUBE RED RETROSPOT  12 PENCILS TALL TUBE SKULLS  \\\n",
      "0                               False                        False   \n",
      "1                               False                        False   \n",
      "2                               False                        False   \n",
      "3                               False                        False   \n",
      "4                               False                        False   \n",
      "\n",
      "   12 PENCILS TALL TUBE WOODLAND  12 PINK HEN+CHICKS IN BASKET  \\\n",
      "0                          False                         False   \n",
      "1                          False                         False   \n",
      "2                          False                         False   \n",
      "3                          False                         False   \n",
      "4                          False                         False   \n",
      "\n",
      "   12 PINK ROSE PEG PLACE SETTINGS  12 RED ROSE PEG PLACE SETTINGS  \\\n",
      "0                            False                           False   \n",
      "1                            False                           False   \n",
      "2                            False                           False   \n",
      "3                            False                           False   \n",
      "4                            False                           False   \n",
      "\n",
      "   15 PINK FLUFFY CHICKS IN BOX  15CM CHRISTMAS GLASS BALL 20 LIGHTS  \\\n",
      "0                         False                                False   \n",
      "1                         False                                False   \n",
      "2                         False                                False   \n",
      "3                         False                                False   \n",
      "4                         False                                False   \n",
      "\n",
      "   16 PC CUTLERY SET PANTRY DESIGN  16 PIECE CUTLERY SET PANTRY DESIGN  \\\n",
      "0                            False                               False   \n",
      "1                            False                               False   \n",
      "2                            False                               False   \n",
      "3                            False                               False   \n",
      "4                            False                               False   \n",
      "\n",
      "   18PC WOODEN CUTLERY SET DISPOSABLE  2 DAISIES HAIR COMB  \\\n",
      "0                               False                False   \n",
      "1                               False                False   \n",
      "2                               False                False   \n",
      "3                               False                False   \n",
      "4                               False                False   \n",
      "\n",
      "   2 PICTURE BOOK EGGS EASTER BUNNY  2 PICTURE BOOK EGGS EASTER CHICKS  \\\n",
      "0                             False                              False   \n",
      "1                             False                              False   \n",
      "2                             False                              False   \n",
      "3                             False                              False   \n",
      "4                             False                              False   \n",
      "\n",
      "   2 PICTURE BOOK EGGS EASTER DUCKS  20 DOLLY PEGS RETROSPOT  \\\n",
      "0                             False                    False   \n",
      "1                             False                    False   \n",
      "2                             False                    False   \n",
      "3                             False                    False   \n",
      "4                             False                    False   \n",
      "\n",
      "   200 BENDY SKULL STRAWS  200 RED + WHITE BENDY STRAWS  20713  \\\n",
      "0                   False                         False  False   \n",
      "1                   False                         False  False   \n",
      "2                   False                         False  False   \n",
      "3                   False                         False  False   \n",
      "4                   False                         False  False   \n",
      "\n",
      "   20713 wrongly marked  3 BIRDS CANVAS SCREEN  \\\n",
      "0                 False                  False   \n",
      "1                 False                  False   \n",
      "2                 False                  False   \n",
      "3                 False                  False   \n",
      "4                 False                  False   \n",
      "\n",
      "   3 BLACK CATS W HEARTS BLANK CARD  3 DRAWER ANTIQUE WHITE WOOD CABINET  \\\n",
      "0                             False                                False   \n",
      "1                             False                                False   \n",
      "2                             False                                False   \n",
      "3                             False                                False   \n",
      "4                             False                                False   \n",
      "\n",
      "   3 GARDENIA MORRIS BOXED CANDLES  3 HEARTS HANGING DECORATION RUSTIC  ...  \\\n",
      "0                            False                               False  ...   \n",
      "1                            False                               False  ...   \n",
      "2                            False                               False  ...   \n",
      "3                            False                               False  ...   \n",
      "4                            False                               False  ...   \n",
      "\n",
      "   reverse previous adjustment  rusty throw away  rusty thrown away  samples  \\\n",
      "0                        False             False              False    False   \n",
      "1                        False             False              False    False   \n",
      "2                        False             False              False    False   \n",
      "3                        False             False              False    False   \n",
      "4                        False             False              False    False   \n",
      "\n",
      "   samples/damages  showroom  smashed  sold as 1  sold as 22467  \\\n",
      "0            False     False    False      False          False   \n",
      "1            False     False    False      False          False   \n",
      "2            False     False    False      False          False   \n",
      "3            False     False    False      False          False   \n",
      "4            False     False    False      False          False   \n",
      "\n",
      "   sold as set by dotcom  sold as set on dotcom  \\\n",
      "0                  False                  False   \n",
      "1                  False                  False   \n",
      "2                  False                  False   \n",
      "3                  False                  False   \n",
      "4                  False                  False   \n",
      "\n",
      "   sold as set on dotcom and amazon  sold as set/6 by dotcom  sold in set?  \\\n",
      "0                             False                    False         False   \n",
      "1                             False                    False         False   \n",
      "2                             False                    False         False   \n",
      "3                             False                    False         False   \n",
      "4                             False                    False         False   \n",
      "\n",
      "   sold with wrong barcode  stock check  stock creditted wrongly  taig adjust  \\\n",
      "0                    False        False                    False        False   \n",
      "1                    False        False                    False        False   \n",
      "2                    False        False                    False        False   \n",
      "3                    False        False                    False        False   \n",
      "4                    False        False                    False        False   \n",
      "\n",
      "   taig adjust no stock  temp adjustment   test  throw away  thrown away  \\\n",
      "0                 False            False  False       False        False   \n",
      "1                 False            False  False       False        False   \n",
      "2                 False            False  False       False        False   \n",
      "3                 False            False  False       False        False   \n",
      "4                 False            False  False       False        False   \n",
      "\n",
      "   thrown away-can't sell  thrown away-can't sell.  \\\n",
      "0                   False                    False   \n",
      "1                   False                    False   \n",
      "2                   False                    False   \n",
      "3                   False                    False   \n",
      "4                   False                    False   \n",
      "\n",
      "   to push order througha s stock was   water damage  water damaged  \\\n",
      "0                                False         False          False   \n",
      "1                                False         False          False   \n",
      "2                                False         False          False   \n",
      "3                                False         False          False   \n",
      "4                                False         False          False   \n",
      "\n",
      "   website fixed    wet  wet boxes  wet damaged  wet pallet  wet rusty  \\\n",
      "0          False  False      False        False       False      False   \n",
      "1          False  False      False        False       False      False   \n",
      "2          False  False      False        False       False      False   \n",
      "3          False  False      False        False       False      False   \n",
      "4          False  False      False        False       False      False   \n",
      "\n",
      "   wet/rusty   wet?  wrong barcode  wrong barcode (22467)  wrong code  \\\n",
      "0      False  False          False                  False       False   \n",
      "1      False  False          False                  False       False   \n",
      "2      False  False          False                  False       False   \n",
      "3      False  False          False                  False       False   \n",
      "4      False  False          False                  False       False   \n",
      "\n",
      "   wrong code?  wrongly coded 20713  wrongly coded 23343  wrongly coded-23343  \\\n",
      "0        False                False                False                False   \n",
      "1        False                False                False                False   \n",
      "2        False                False                False                False   \n",
      "3        False                False                False                False   \n",
      "4        False                False                False                False   \n",
      "\n",
      "   wrongly marked  wrongly marked 23343  wrongly marked carton 22804  \\\n",
      "0           False                 False                        False   \n",
      "1           False                 False                        False   \n",
      "2           False                 False                        False   \n",
      "3           False                 False                        False   \n",
      "4           False                 False                        False   \n",
      "\n",
      "   wrongly marked. 23343 in box  wrongly sold (22719) barcode  \\\n",
      "0                         False                         False   \n",
      "1                         False                         False   \n",
      "2                         False                         False   \n",
      "3                         False                         False   \n",
      "4                         False                         False   \n",
      "\n",
      "   wrongly sold as sets  wrongly sold sets  \n",
      "0                 False              False  \n",
      "1                 False              False  \n",
      "2                 False              False  \n",
      "3                 False              False  \n",
      "4                 False              False  \n",
      "\n",
      "[5 rows x 4223 columns]\n"
     ]
    }
   ],
   "source": [
    "# One-Hot Encoding\n",
    "encoder = TransactionEncoder().fit(market_basket)\n",
    "onehot = encoder.transform(market_basket)\n",
    "onehot = pd.DataFrame(onehot, columns = encoder.columns_)\n",
    "print(onehot.head())"
   ]
  },
  {
   "cell_type": "markdown",
   "metadata": {},
   "source": [
    "Con esta base de datos ya se puede calcular el **support** de los productos individuales, que muestra el porcentaje de veces que cada producto estuvo en una transacción. Se muestran los 10 productos con mayor y menor support."
   ]
  },
  {
   "cell_type": "code",
   "execution_count": 15,
   "metadata": {},
   "outputs": [
    {
     "name": "stdout",
     "output_type": "stream",
     "text": [
      "Productos con mayor support: \n",
      " WHITE HANGING HEART T-LIGHT HOLDER   0.0942\n",
      "REGENCY CAKESTAND 3 TIER             0.0887\n",
      "JUMBO BAG RED RETROSPOT              0.0873\n",
      "PARTY BUNTING                        0.0698\n",
      "LUNCH BAG RED RETROSPOT              0.0657\n",
      "ASSORTED COLOUR BIRD ORNAMENT        0.0600\n",
      "SET OF 3 CAKE TINS PANTRY DESIGN     0.0596\n",
      "PACK OF 72 RETROSPOT CAKE CASES      0.0546\n",
      "LUNCH BAG  BLACK SKULL.              0.0530\n",
      "NATURAL SLATE HEART CHALKBOARD       0.0518\n",
      "dtype: float64\n",
      "\n",
      "\n",
      "Productos con menor support: \n",
      " BELL HEART ANTIQUE GOLD              0.0000\n",
      "BIG POLKADOT MUG                     0.0000\n",
      "PEARL & SHELL 42\"NECKL. IVORY        0.0000\n",
      "WHITE FRANGIPANI HAIR CLIP           0.0000\n",
      "BIRD ON BRANCH CANVAS SCREEN         0.0000\n",
      "FLOWER SHOP DESIGN MUG               0.0000\n",
      "WHITE DOVE HONEYCOMB PAPER GARLAND   0.0000\n",
      "BIRTHDAY BANNER TAPE                 0.0000\n",
      "WHITE CHERRY LIGHTS                  0.0000\n",
      "wrongly sold sets                    0.0000\n",
      "dtype: float64\n"
     ]
    }
   ],
   "source": [
    "# Compute the support\n",
    "support = onehot.mean().sort_values(ascending=False)\n",
    "print('Productos con mayor support: \\n', support.head(10))\n",
    "print('\\n')\n",
    "print('Productos con menor support: \\n', support.tail(10))"
   ]
  },
  {
   "cell_type": "markdown",
   "metadata": {},
   "source": [
    "A continuación se aplica el algoritmo a priori, que filtra la base de datos, eliminando los productos y reglas de asociación con bajo support. De esta manera se reduce la cantidad total de combinaciones posibles de ítems, que puede ser un número signficativamente grande. Se ecogió un umbral de 0.01, y un tamaño de 2 ítems para las reglas de asociación. De esta manera, el número de asociaciones a analizar se restringe a 1.074."
   ]
  },
  {
   "cell_type": "code",
   "execution_count": 16,
   "metadata": {},
   "outputs": [
    {
     "name": "stdout",
     "output_type": "stream",
     "text": [
      "1074\n"
     ]
    }
   ],
   "source": [
    "frequent_items = apriori(onehot, min_support=0.01, max_len=2, use_colnames=True)\n",
    "print(len(frequent_items))"
   ]
  },
  {
   "cell_type": "markdown",
   "metadata": {},
   "source": [
    "Luego, se calculan las reglas de asociación. Es posible filtrar los resultados según alguna medida y umbral, pero por ahora se opta por usar un umbral igual a 0.0 (no filtrar). Las reglas de asociación son las siguientes:\n",
    "\n",
    "\n",
    "- **Support**: porcentaje de veces que aparece una regla de asociación sobre el total de transacciones. Puede no ser informativa, si se trata de ítems populares, que son comprados con frecuencia, independientemente uno del otro.\n",
    "\n",
    "\n",
    "- **Confidence**: probabilidad de comprar el ítem Y dado que he comprado el ítem X. Será más cercano a 1 en la medida que los productos se compren en conjunto.\n",
    "\n",
    "\n",
    "- **Lift**: si el indicador es mayor que 1 significa ue los ítems aparecen juntos en las transacciones más frecuentemente que lo que se esperaría sólo por al azar, por lo tanto, un valor alto del indicador, mayor que 1, sugiere que existe una asociación real entre ambos ítems.\n",
    "\n",
    "\n",
    "- **Leverage**: indicador similar a Lift, pero se distribuye entre -1 y +1.\n",
    "\n",
    "\n",
    "- **Conviction**: indica qué tan incorrecta sería una asociación observada asumiendo que dicha asociación se debe puramente al azar. Si es mayor que 1, entonces indica asociación."
   ]
  },
  {
   "cell_type": "code",
   "execution_count": 18,
   "metadata": {},
   "outputs": [
    {
     "name": "stdout",
     "output_type": "stream",
     "text": [
      "868\n",
      "                            antecedents                           consequents  \\\n",
      "0              (6 RIBBONS RUSTIC CHARM)  (WHITE HANGING HEART T-LIGHT HOLDER)   \n",
      "1  (WHITE HANGING HEART T-LIGHT HOLDER)              (6 RIBBONS RUSTIC CHARM)   \n",
      "2     (PAPER CHAIN KIT 50'S CHRISTMAS )     (60 CAKE CASES VINTAGE CHRISTMAS)   \n",
      "3     (60 CAKE CASES VINTAGE CHRISTMAS)     (PAPER CHAIN KIT 50'S CHRISTMAS )   \n",
      "4   (PAPER CHAIN KIT VINTAGE CHRISTMAS)     (60 CAKE CASES VINTAGE CHRISTMAS)   \n",
      "\n",
      "   antecedent support  consequent support  support  confidence    lift  \\\n",
      "0              0.0393              0.0942   0.0105      0.2674  2.8400   \n",
      "1              0.0942              0.0393   0.0105      0.1116  2.8400   \n",
      "2              0.0479              0.0254   0.0112      0.2333  9.1705   \n",
      "3              0.0254              0.0479   0.0112      0.4389  9.1705   \n",
      "4              0.0340              0.0254   0.0103      0.3041 11.9513   \n",
      "\n",
      "   leverage  conviction  \n",
      "0    0.0068      1.2365  \n",
      "1    0.0068      1.0814  \n",
      "2    0.0099      1.2712  \n",
      "3    0.0099      1.6969  \n",
      "4    0.0095      1.4004  \n"
     ]
    }
   ],
   "source": [
    "rules = association_rules(frequent_items, metric='support', min_threshold=0.0)\n",
    "print(len(rules))\n",
    "print(rules.head())"
   ]
  },
  {
   "cell_type": "markdown",
   "metadata": {},
   "source": [
    "En la siguiente celda se muestra un scatter plot de los indicadores support y confidence, en que el tamaño de cada punto está dado por el indicador lift. Este gráfico permite verificar la observación de Bayardo y Agrawal (1999), de que algunos valores altos de lift están asociados a transacciones con bajo support, por lo que no deberían descartarse las reglas de asociación en base al support.\n",
    "\n",
    "*Bayardo Jr., R.J. and Agrawal, R. (1999). Mining the Most Interesting Rules. In Proceedings of the Fifth ACM SIGKDD\n",
    "International Conference on Knowledge Discovery and Data Mining (pp. 145-154).*"
   ]
  },
  {
   "cell_type": "code",
   "execution_count": 27,
   "metadata": {},
   "outputs": [
    {
     "data": {
      "image/png": "[encoded data removed]",
      "text/plain": [
       "<Figure size 432x288 with 1 Axes>"
      ]
     },
     "metadata": {
      "needs_background": "light"
     },
     "output_type": "display_data"
    }
   ],
   "source": [
    "sns.scatterplot(x=\"support\", y=\"confidence\", size='lift', data = rules)\n",
    "plt.show()"
   ]
  },
  {
   "cell_type": "markdown",
   "metadata": {},
   "source": [
    "En consecuencia, se filtran las reglas de asociación en base a un Lift mayor que 1, aunque se obtiene el mismo dataset que antes."
   ]
  },
  {
   "cell_type": "code",
   "execution_count": 19,
   "metadata": {},
   "outputs": [
    {
     "name": "stdout",
     "output_type": "stream",
     "text": [
      "868\n",
      "                            antecedents                           consequents  \\\n",
      "0              (6 RIBBONS RUSTIC CHARM)  (WHITE HANGING HEART T-LIGHT HOLDER)   \n",
      "1  (WHITE HANGING HEART T-LIGHT HOLDER)              (6 RIBBONS RUSTIC CHARM)   \n",
      "2     (PAPER CHAIN KIT 50'S CHRISTMAS )     (60 CAKE CASES VINTAGE CHRISTMAS)   \n",
      "3     (60 CAKE CASES VINTAGE CHRISTMAS)     (PAPER CHAIN KIT 50'S CHRISTMAS )   \n",
      "4   (PAPER CHAIN KIT VINTAGE CHRISTMAS)     (60 CAKE CASES VINTAGE CHRISTMAS)   \n",
      "\n",
      "   antecedent support  consequent support  support  confidence    lift  \\\n",
      "0              0.0393              0.0942   0.0105      0.2674  2.8400   \n",
      "1              0.0942              0.0393   0.0105      0.1116  2.8400   \n",
      "2              0.0479              0.0254   0.0112      0.2333  9.1705   \n",
      "3              0.0254              0.0479   0.0112      0.4389  9.1705   \n",
      "4              0.0340              0.0254   0.0103      0.3041 11.9513   \n",
      "\n",
      "   leverage  conviction  \n",
      "0    0.0068      1.2365  \n",
      "1    0.0068      1.0814  \n",
      "2    0.0099      1.2712  \n",
      "3    0.0099      1.6969  \n",
      "4    0.0095      1.4004  \n"
     ]
    }
   ],
   "source": [
    "rules = association_rules(frequent_items, metric='lift', min_threshold=1.0)\n",
    "print(len(rules))\n",
    "print(rules.head())"
   ]
  },
  {
   "cell_type": "markdown",
   "metadata": {},
   "source": [
    "A continuación se muestran las mejores reglas de asociación según **support**, es decir, se muestran las asociaciones más frecuentes:"
   ]
  },
  {
   "cell_type": "code",
   "execution_count": 29,
   "metadata": {},
   "outputs": [
    {
     "name": "stdout",
     "output_type": "stream",
     "text": [
      "Mejores reglas de asociación según support: \n",
      ":                              antecedents                          consequents  \\\n",
      "364            (JUMBO BAG PINK POLKADOT)            (JUMBO BAG RED RETROSPOT)   \n",
      "365            (JUMBO BAG RED RETROSPOT)            (JUMBO BAG PINK POLKADOT)   \n",
      "212   (ROSES REGENCY TEACUP AND SAUCER )    (GREEN REGENCY TEACUP AND SAUCER)   \n",
      "213    (GREEN REGENCY TEACUP AND SAUCER)   (ROSES REGENCY TEACUP AND SAUCER )   \n",
      "424            (JUMBO BAG RED RETROSPOT)             (JUMBO STORAGE BAG SUKI)   \n",
      "425             (JUMBO STORAGE BAG SUKI)            (JUMBO BAG RED RETROSPOT)   \n",
      "421  (JUMBO SHOPPER VINTAGE RED PAISLEY)            (JUMBO BAG RED RETROSPOT)   \n",
      "420            (JUMBO BAG RED RETROSPOT)  (JUMBO SHOPPER VINTAGE RED PAISLEY)   \n",
      "560            (LUNCH BAG  BLACK SKULL.)            (LUNCH BAG RED RETROSPOT)   \n",
      "561            (LUNCH BAG RED RETROSPOT)            (LUNCH BAG  BLACK SKULL.)   \n",
      "\n",
      "     support  \n",
      "364   0.0341  \n",
      "365   0.0341  \n",
      "212   0.0321  \n",
      "213   0.0321  \n",
      "424   0.0300  \n",
      "425   0.0300  \n",
      "421   0.0279  \n",
      "420   0.0279  \n",
      "560   0.0265  \n",
      "561   0.0265  \n"
     ]
    }
   ],
   "source": [
    "print('Mejores reglas de asociación según support: \\n:',\n",
    "      rules.sort_values(by='support', ascending=False)[['antecedents', 'consequents','support']].head(10))"
   ]
  },
  {
   "cell_type": "markdown",
   "metadata": {},
   "source": [
    "Luego se muestran las mejores reglas de asociación según **confidence**:"
   ]
  },
  {
   "cell_type": "code",
   "execution_count": 30,
   "metadata": {},
   "outputs": [
    {
     "name": "stdout",
     "output_type": "stream",
     "text": [
      "Mejores reglas de asociación según confidence: \n",
      ":                               antecedents  \\\n",
      "804              (REGENCY TEA PLATE PINK)   \n",
      "808              (REGENCY TEA PLATE PINK)   \n",
      "806            (REGENCY TEA PLATE GREEN )   \n",
      "867  (WOODEN TREE CHRISTMAS SCANDINAVIAN)   \n",
      "843         (SET/6 RED SPOTTY PAPER CUPS)   \n",
      "208      (PINK REGENCY TEACUP AND SAUCER)   \n",
      "771       (POPPY'S PLAYHOUSE LIVINGROOM )   \n",
      "768       (POPPY'S PLAYHOUSE LIVINGROOM )   \n",
      "847        (SMALL MARSHMALLOWS PINK BOWL)   \n",
      "757      (PINK REGENCY TEACUP AND SAUCER)   \n",
      "\n",
      "                              consequents  confidence  \n",
      "804            (REGENCY TEA PLATE GREEN )      0.8981  \n",
      "808            (REGENCY TEA PLATE ROSES )      0.8662  \n",
      "806            (REGENCY TEA PLATE ROSES )      0.8342  \n",
      "867  (WOODEN STAR CHRISTMAS SCANDINAVIAN)      0.8319  \n",
      "843       (SET/6 RED SPOTTY PAPER PLATES)      0.8178  \n",
      "208     (GREEN REGENCY TEACUP AND SAUCER)      0.8040  \n",
      "771           (POPPY'S PLAYHOUSE KITCHEN)      0.7970  \n",
      "768          (POPPY'S PLAYHOUSE BEDROOM )      0.7939  \n",
      "847  (SMALL DOLLY MIX DESIGN ORANGE BOWL)      0.7812  \n",
      "757    (ROSES REGENCY TEACUP AND SAUCER )      0.7665  \n"
     ]
    }
   ],
   "source": [
    "print('Mejores reglas de asociación según confidence: \\n:',\n",
    "      rules.sort_values(by='confidence', ascending=False)[['antecedents', 'consequents','confidence']].head(10))"
   ]
  },
  {
   "cell_type": "markdown",
   "metadata": {},
   "source": [
    "Mejores reglas de asociación según **lift**:"
   ]
  },
  {
   "cell_type": "code",
   "execution_count": 31,
   "metadata": {},
   "outputs": [
    {
     "name": "stdout",
     "output_type": "stream",
     "text": [
      "Mejores reglas de asociación según lift: \n",
      ":                          antecedents                      consequents    lift\n",
      "804         (REGENCY TEA PLATE PINK)       (REGENCY TEA PLATE GREEN ) 56.8774\n",
      "805       (REGENCY TEA PLATE GREEN )         (REGENCY TEA PLATE PINK) 56.8774\n",
      "803         (REGENCY MILK JUG PINK )       (REGENCY SUGAR BOWL GREEN) 51.9631\n",
      "802       (REGENCY SUGAR BOWL GREEN)         (REGENCY MILK JUG PINK ) 51.9631\n",
      "809       (REGENCY TEA PLATE ROSES )         (REGENCY TEA PLATE PINK) 46.3373\n",
      "808         (REGENCY TEA PLATE PINK)       (REGENCY TEA PLATE ROSES ) 46.3373\n",
      "769     (POPPY'S PLAYHOUSE BEDROOM )  (POPPY'S PLAYHOUSE LIVINGROOM ) 45.5602\n",
      "768  (POPPY'S PLAYHOUSE LIVINGROOM )     (POPPY'S PLAYHOUSE BEDROOM ) 45.5602\n",
      "807       (REGENCY TEA PLATE ROSES )       (REGENCY TEA PLATE GREEN ) 44.6231\n",
      "806       (REGENCY TEA PLATE GREEN )       (REGENCY TEA PLATE ROSES ) 44.6231\n"
     ]
    }
   ],
   "source": [
    "print('Mejores reglas de asociación según lift: \\n:',\n",
    "      rules.sort_values(by='lift', ascending=False)[['antecedents', 'consequents','lift']].head(10))"
   ]
  },
  {
   "cell_type": "markdown",
   "metadata": {},
   "source": [
    "Mejores reglas de asociación según **conviction**:"
   ]
  },
  {
   "cell_type": "code",
   "execution_count": 32,
   "metadata": {},
   "outputs": [
    {
     "name": "stdout",
     "output_type": "stream",
     "text": [
      "Mejores reglas de asociación según conviction: \n",
      ":                               antecedents  \\\n",
      "804              (REGENCY TEA PLATE PINK)   \n",
      "808              (REGENCY TEA PLATE PINK)   \n",
      "806            (REGENCY TEA PLATE GREEN )   \n",
      "867  (WOODEN TREE CHRISTMAS SCANDINAVIAN)   \n",
      "843         (SET/6 RED SPOTTY PAPER CUPS)   \n",
      "208      (PINK REGENCY TEACUP AND SAUCER)   \n",
      "771       (POPPY'S PLAYHOUSE LIVINGROOM )   \n",
      "768       (POPPY'S PLAYHOUSE LIVINGROOM )   \n",
      "847        (SMALL MARSHMALLOWS PINK BOWL)   \n",
      "757      (PINK REGENCY TEACUP AND SAUCER)   \n",
      "\n",
      "                              consequents  conviction  \n",
      "804            (REGENCY TEA PLATE GREEN )      9.6576  \n",
      "808            (REGENCY TEA PLATE ROSES )      7.3364  \n",
      "806            (REGENCY TEA PLATE ROSES )      5.9185  \n",
      "867  (WOODEN STAR CHRISTMAS SCANDINAVIAN)      5.8221  \n",
      "843       (SET/6 RED SPOTTY PAPER PLATES)      5.3689  \n",
      "208     (GREEN REGENCY TEACUP AND SAUCER)      4.8813  \n",
      "771           (POPPY'S PLAYHOUSE KITCHEN)      4.8367  \n",
      "768          (POPPY'S PLAYHOUSE BEDROOM )      4.7684  \n",
      "847  (SMALL DOLLY MIX DESIGN ORANGE BOWL)      4.4727  \n",
      "757    (ROSES REGENCY TEACUP AND SAUCER )      4.0872  \n"
     ]
    }
   ],
   "source": [
    "print('Mejores reglas de asociación según conviction: \\n:',\n",
    "      rules.sort_values(by='conviction', ascending=False)[['antecedents', 'consequents','conviction']].head(10))"
   ]
  },
  {
   "cell_type": "markdown",
   "metadata": {},
   "source": [
    "A continuación se grafican las 10 mejores reglas según el indicador **support**. Mientras más arriba se encuentre el círculo, mejor será la regla. Las mejores reglas del gráfico también destacan por tener un gran lift."
   ]
  },
  {
   "cell_type": "code",
   "execution_count": 33,
   "metadata": {},
   "outputs": [
    {
     "data": {
      "image/png": "[encoded data removed]",
      "text/plain": [
       "<Figure size 432x288 with 1 Axes>"
      ]
     },
     "metadata": {
      "needs_background": "light"
     },
     "output_type": "display_data"
    }
   ],
   "source": [
    "# Scatterplot\n",
    "top_rules = rules.sort_values(by='support', ascending=False)[:10]\n",
    "sns.scatterplot(x=\"support\", y=\"confidence\", size='lift', data = top_rules)\n",
    "plt.show()"
   ]
  },
  {
   "cell_type": "markdown",
   "metadata": {},
   "source": [
    "Luego se grafican las 10 mejores reglas según **confidence**. Se observa que en este caso, también se encuentran varias reglas con gran lift, aunque el support se ubica en un rango intermedio."
   ]
  },
  {
   "cell_type": "code",
   "execution_count": 34,
   "metadata": {},
   "outputs": [
    {
     "data": {
      "image/png": "[encoded data removed]",
      "text/plain": [
       "<Figure size 432x288 with 1 Axes>"
      ]
     },
     "metadata": {
      "needs_background": "light"
     },
     "output_type": "display_data"
    }
   ],
   "source": [
    "top_rules = rules.sort_values(by='confidence', ascending=False)[:10]\n",
    "sns.scatterplot(x=\"support\", y=\"confidence\", size='lift', data = top_rules)\n",
    "plt.show()"
   ]
  },
  {
   "cell_type": "markdown",
   "metadata": {},
   "source": [
    "Mejores reglas según **lift**. Se observa que estas reglas tienen gran confidence, pero un support de valores intermedios."
   ]
  },
  {
   "cell_type": "code",
   "execution_count": 35,
   "metadata": {},
   "outputs": [
    {
     "data": {
      "image/png": "[encoded data removed]",
      "text/plain": [
       "<Figure size 432x288 with 1 Axes>"
      ]
     },
     "metadata": {
      "needs_background": "light"
     },
     "output_type": "display_data"
    }
   ],
   "source": [
    "top_rules = rules.sort_values(by='lift', ascending=False)[:10]\n",
    "sns.scatterplot(x=\"support\", y=\"confidence\", size='lift', data = top_rules)\n",
    "plt.show()"
   ]
  },
  {
   "cell_type": "markdown",
   "metadata": {},
   "source": [
    "Por último, se muestra un **heatmap** (mapa de calor) según support. Los valores más claros corresponden a reglas de asociación con mayor support."
   ]
  },
  {
   "cell_type": "code",
   "execution_count": 36,
   "metadata": {},
   "outputs": [
    {
     "data": {
      "image/png": "[encoded data removed]",
      "text/plain": [
       "<Figure size 432x288 with 2 Axes>"
      ]
     },
     "metadata": {
      "needs_background": "light"
     },
     "output_type": "display_data"
    }
   ],
   "source": [
    "# Heatmap\n",
    "top_rules = rules.sort_values(by='support', ascending=False)[:10]\n",
    "top_rules['antecedents'] = top_rules['antecedents'].apply(lambda a: ','.join(list(a)))\n",
    "top_rules['consequents'] = top_rules['consequents'].apply(lambda a: ','.join(list(a)))\n",
    "pivot = top_rules.pivot(index='consequents', columns='antecedents', values='support')\n",
    "sns.heatmap(pivot)\n",
    "plt.yticks(rotation=0)\n",
    "plt.show()"
   ]
  }
 ],
 "metadata": {
  "kernelspec": {
   "display_name": "Python 3",
   "language": "python",
   "name": "python3"
  },
  "language_info": {
   "codemirror_mode": {
    "name": "ipython",
    "version": 3
   },
   "file_extension": ".py",
   "mimetype": "text/x-python",
   "name": "python",
   "nbconvert_exporter": "python",
   "pygments_lexer": "ipython3",
   "version": "3.7.6"
  }
 },
 "nbformat": 4,
 "nbformat_minor": 4
}
