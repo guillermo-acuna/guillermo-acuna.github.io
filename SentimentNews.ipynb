{
 "cells": [
  {
   "cell_type": "markdown",
   "metadata": {},
   "source": [
    "# Análisis del Sentimiento de las noticias económicas en Chile 2020"
   ]
  },
  {
   "source": [
    "Este es un trabajo en progreso. La base de datos es pequeña, por lo que no se espera obtener resultados excelentes. Este análisis se irá actualizando a medida que vaya obteniendo más datos para el análisis."
   ],
   "cell_type": "markdown",
   "metadata": {}
  },
  {
   "source": [
    "En primer lugar importo los paquetes a utilizar en los análisis."
   ],
   "cell_type": "markdown",
   "metadata": {}
  },
  {
   "cell_type": "code",
   "execution_count": 7,
   "metadata": {},
   "outputs": [],
   "source": [
    "import pandas as pd\n",
    "import numpy as np\n",
    "import matplotlib.pyplot as plt\n",
    "import nltk\n",
    "import re\n",
    "import unidecode\n",
    "\n",
    "from sklearn.feature_extraction.text import CountVectorizer\n",
    "from sklearn.model_selection import train_test_split, GridSearchCV\n",
    "from sklearn.naive_bayes import MultinomialNB\n",
    "from sklearn.linear_model import LogisticRegression\n",
    "from sklearn.metrics import accuracy_score, roc_auc_score, f1_score\n",
    "from sklearn.preprocessing import StandardScaler\n",
    "\n",
    "import tensorflow as tf\n",
    "from tensorflow.keras.models import Sequential\n",
    "from tensorflow.keras.layers import Dense, Flatten, BatchNormalization, Dropout, Embedding, GlobalAveragePooling1D, GlobalMaxPool1D, LSTM\n",
    "from tensorflow.keras import regularizers\n",
    "from tensorflow.keras.callbacks import ModelCheckpoint\n",
    "from tensorflow.keras.preprocessing.text import Tokenizer\n",
    "from tensorflow.keras.preprocessing.sequence import pad_sequences\n",
    "import json"
   ]
  },
  {
   "source": [
    "Luego cargo los datos y los examino brevemente."
   ],
   "cell_type": "markdown",
   "metadata": {}
  },
  {
   "source": [
    "La base de datos contiene una serie de variables, además de las noticias. Se registra el mes y año en que se publicó, el sentimiento (sentimiento/response) que puede ser negativo, neutral o positivo, y el texto de la noticia. Además se observan otras dos variables: fuente y empresa. Su presencia se explica debido a que también se han recopilado fragmentos de textos de las memorias corporativas de empresas en Chile, que también contienen textos con significado económico. En este análisis se considerarán sólo las noticias económicas."
   ],
   "cell_type": "markdown",
   "metadata": {}
  },
  {
   "cell_type": "code",
   "execution_count": 8,
   "metadata": {},
   "outputs": [
    {
     "output_type": "execute_result",
     "data": {
      "text/plain": "  month    year   fuente sentimiento  response empresa  \\\n0     4  2020.0  noticia    negativo      -1.0       .   \n1     4  2020.0  noticia    negativo      -1.0       .   \n2     4  2020.0  noticia    positivo       1.0       .   \n3     4  2020.0  noticia    negativo      -1.0       .   \n4     4  2020.0  noticia    positivo       1.0       .   \n\n                                               texto  \n0  Economía global anotaría en 2020 su peor año d...  \n1  Goldman Sachs prevé una crisis cuatro veces pe...  \n2  Amazon logra su máxima cotización histórica en...  \n3  Sin embargo, este incremento súbito del volume...  \n4  Venta online de productos para mascotas aument...  ",
      "text/html": "<div>\n<style scoped>\n    .dataframe tbody tr th:only-of-type {\n        vertical-align: middle;\n    }\n\n    .dataframe tbody tr th {\n        vertical-align: top;\n    }\n\n    .dataframe thead th {\n        text-align: right;\n    }\n</style>\n<table border=\"1\" class=\"dataframe\">\n  <thead>\n    <tr style=\"text-align: right;\">\n      <th></th>\n      <th>month</th>\n      <th>year</th>\n      <th>fuente</th>\n      <th>sentimiento</th>\n      <th>response</th>\n      <th>empresa</th>\n      <th>texto</th>\n    </tr>\n  </thead>\n  <tbody>\n    <tr>\n      <th>0</th>\n      <td>4</td>\n      <td>2020.0</td>\n      <td>noticia</td>\n      <td>negativo</td>\n      <td>-1.0</td>\n      <td>.</td>\n      <td>Economía global anotaría en 2020 su peor año d...</td>\n    </tr>\n    <tr>\n      <th>1</th>\n      <td>4</td>\n      <td>2020.0</td>\n      <td>noticia</td>\n      <td>negativo</td>\n      <td>-1.0</td>\n      <td>.</td>\n      <td>Goldman Sachs prevé una crisis cuatro veces pe...</td>\n    </tr>\n    <tr>\n      <th>2</th>\n      <td>4</td>\n      <td>2020.0</td>\n      <td>noticia</td>\n      <td>positivo</td>\n      <td>1.0</td>\n      <td>.</td>\n      <td>Amazon logra su máxima cotización histórica en...</td>\n    </tr>\n    <tr>\n      <th>3</th>\n      <td>4</td>\n      <td>2020.0</td>\n      <td>noticia</td>\n      <td>negativo</td>\n      <td>-1.0</td>\n      <td>.</td>\n      <td>Sin embargo, este incremento súbito del volume...</td>\n    </tr>\n    <tr>\n      <th>4</th>\n      <td>4</td>\n      <td>2020.0</td>\n      <td>noticia</td>\n      <td>positivo</td>\n      <td>1.0</td>\n      <td>.</td>\n      <td>Venta online de productos para mascotas aument...</td>\n    </tr>\n  </tbody>\n</table>\n</div>"
     },
     "metadata": {},
     "execution_count": 8
    }
   ],
   "source": [
    "pd.set_option('display.max_columns', 20) # número máximo de columnas a mostrar en el terminal\n",
    "pd.set_option('display.max_rows', 100) # número máximo de filas a mostrar en el terminal\n",
    "\n",
    "dataset = pd.read_csv('Sentimientos.csv')\n",
    "dataset = dataset[dataset['fuente'] != 'memoria']\n",
    "dataset = dataset.dropna().reset_index(drop=True)\n",
    "dataset.head()"
   ]
  },
  {
   "source": [
    "En la siguiente celda muestro la composición de la base de datos. El 71% de las noticias son negativas, el 16% son neutrales y el 13% son positivias."
   ],
   "cell_type": "markdown",
   "metadata": {}
  },
  {
   "cell_type": "code",
   "execution_count": 9,
   "metadata": {},
   "outputs": [
    {
     "output_type": "execute_result",
     "data": {
      "text/plain": "-1.0    0.711864\n 0.0    0.158596\n 1.0    0.129540\nName: response, dtype: float64"
     },
     "metadata": {},
     "execution_count": 9
    }
   ],
   "source": [
    "dataset0 = dataset.copy()\n",
    "dataset['response'].value_counts(normalize=True)"
   ]
  },
  {
   "source": [
    "En este análisis se trabajará sólo con noticias positivas y negativas. Se excluyen las noticias neutrales."
   ],
   "cell_type": "markdown",
   "metadata": {}
  },
  {
   "cell_type": "code",
   "execution_count": 10,
   "metadata": {},
   "outputs": [
    {
     "output_type": "execute_result",
     "data": {
      "text/plain": "0.0    0.846043\n1.0    0.153957\nName: response, dtype: float64"
     },
     "metadata": {},
     "execution_count": 10
    }
   ],
   "source": [
    "dataset = dataset.drop(dataset[dataset['response'] == 0].index)\n",
    "dataset = dataset.reset_index(drop=True)\n",
    "dataset['response'] = dataset['response'].replace(-1, 0)\n",
    "dataset['response'].value_counts(normalize=True)"
   ]
  },
  {
   "source": [
    "De esta manera, la base de datos termina con 695 noticias económicas, lo que es una muestra pequeña, sobre todo para el caso de las redes neuronales."
   ],
   "cell_type": "markdown",
   "metadata": {}
  },
  {
   "cell_type": "code",
   "execution_count": 11,
   "metadata": {
    "tags": []
   },
   "outputs": [
    {
     "output_type": "stream",
     "name": "stdout",
     "text": "Dimensiones de los datos: \n (695, 7) \n\n<class 'pandas.core.frame.DataFrame'>\nRangeIndex: 695 entries, 0 to 694\nData columns (total 7 columns):\n #   Column       Non-Null Count  Dtype  \n---  ------       --------------  -----  \n 0   month        695 non-null    object \n 1   year         695 non-null    float64\n 2   fuente       695 non-null    object \n 3   sentimiento  695 non-null    object \n 4   response     695 non-null    float64\n 5   empresa      695 non-null    object \n 6   texto        695 non-null    object \ndtypes: float64(2), object(5)\nmemory usage: 38.1+ KB\nNone\n"
    }
   ],
   "source": [
    "print('Dimensiones de los datos: \\n', dataset.shape, '\\n')\n",
    "print(dataset.info())"
   ]
  },
  {
   "source": [
    "En la siguiente celda se muestra que la noticia más larga contiene 2.403 palabras, mientras que la más corta contiene 45 palabras."
   ],
   "cell_type": "markdown",
   "metadata": {}
  },
  {
   "cell_type": "code",
   "execution_count": 12,
   "metadata": {
    "tags": []
   },
   "outputs": [
    {
     "output_type": "stream",
     "name": "stdout",
     "text": "Número de palabras de la noticia más larga: \n 2403 \n\nNúmero de palabras de la noticia más corta: \n 45 \n\n"
    }
   ],
   "source": [
    "x = []\n",
    "for e in dataset['texto']:\n",
    "    x.append(len(e.split()))\n",
    "print('Número de palabras de la noticia más larga: \\n',  max(x), '\\n')\n",
    "print('Número de palabras de la noticia más corta: \\n',  min(x), '\\n')"
   ]
  },
  {
   "source": [
    "En la siguiente celda se muestra un ejemplo de noticia seleccionada al azar."
   ],
   "cell_type": "markdown",
   "metadata": {}
  },
  {
   "cell_type": "code",
   "execution_count": 13,
   "metadata": {},
   "outputs": [],
   "source": [
    "data = dataset['texto']"
   ]
  },
  {
   "cell_type": "code",
   "execution_count": 15,
   "metadata": {
    "tags": []
   },
   "outputs": [
    {
     "output_type": "stream",
     "name": "stdout",
     "text": "Noticia 603 : \n La empresa chilena NotCo, firma líder en tecnología de alimentos en América Latina, cerró una ronda de financiación de capital, logrando recaudar unos US$85 millones y se convirtió en la startup con mayor inversión extranjera en Chile, según CB Insights. \"Esta ronda de financiamiento no hace más que confirmar que vamos por buen camino y de paso, incentivarnos a seguir trabajando en beneficio de la salud de las personas como también del planeta, pero de una manera deliciosa y revolucionaria pensada en el largo plazo\", expresó sostiene Matías Muchnick, CEO y cofundador de NotCo. Noticias relacionadas Foro Económico Mundial destaca a empresa chilena entre los \"100 Pioneros tecnológicos\": \"Es la consolidación de un sueño\" Foro Económico Mundial destaca a empresa chilena entre los \"100 Pioneros tecnológicos\": \"Es la consolidación de un sueño\" Fundador de Amazon y hombre más rico del mundo invierte en startup chilena de comida en base a plantas Fundador de Amazon y hombre más rico del mundo invierte en startup chilena de comida en base a plantas La compañía utiliza inteligencia artificial para descubrir nuevas alternativas basadas en plantas para productos alimenticios como la mayonesa, la leche y el queso. El financiamiento logrado en la ronda apoyará la consolidación de las operaciones de Latinoamérica y respaldará una fuerte expansión en Estados Unidos, con un futuro lanzamiento en dicho país, según indicó la propia firma. El proceso fue dirigido por Future Positive, de Fred Blackford y Biz Stone's, cofundador de Twitter, y la firma de capital privado de bienes de consumo líder en el mundo, L Catterton. Además, se confirmó que Fred Blackford y Ramiro Lauzan se unirán al directorio de la compañía, donde ya se encuentran Nico Szekasy (Kazsek Ventures) y Elio Leoni (The Craftory). Con el cierre de esta ronda, NotCo suma un total de US$118 millones en capital recaudado, y trae nuevos inversionistas globales a la lista de patrocinadores, que ya incluyen a Bezos Expedition (de Jeff Bezos), The Craftory, General Catalyst, IndieBio, Maya Capital, Humboldt Capital y el líder VC. en Latam, Kaszek Ventures. Hace pocos meses, el World Economic Forum eligió a NotCo como una de las 100 startups más innovadoras a nivel global mediante el reconocimiento denominado \"Los Pioneros de la Tecnología de 2020\", siendo la única firma local seleccionada y una de las cuatro elegidas en Latinoamérica. Además, en marzo de 2019, Jeff Bezos, CEO de Amazon y hombre más rico del planeta, ya había invertido en la compañía chilena, respondiendo a la seriedad e innovación en sus productos. La compañía ha lanzado NotMilk, NotBurger, NotIceCream y NotMayo en Brasil, Argentina y Chile, y en menos de tres años se ha convertido en la empresa de tecnología de alimentos más grande y de más rápido crecimiento en América Latina.\n\n\n"
    }
   ],
   "source": [
    "k = np.random.randint(0, len(data))\n",
    "print('Noticia %d :' % k, '\\n', data[k])"
   ]
  },
  {
   "source": [
    "# Preprocesamiento de los datos\n",
    "En la siguientes celda se hace un preprocesamiento de los datos, para estructuralos, de forma de obtener una base de datos que se pueda utilizar en los algoritmos de machine learning. Este preprocesamiento servirá para dos modelos: Regresión logística y Red neuronal artificial."
   ],
   "cell_type": "markdown",
   "metadata": {}
  },
  {
   "source": [
    "En primer preprocesamiento consiste en poner las palabras en minúsculas, eliminar los números y carácteres especiales de los textos, y se retiran las stopwords y los acentos. "
   ],
   "cell_type": "markdown",
   "metadata": {}
  },
  {
   "cell_type": "code",
   "execution_count": 16,
   "metadata": {},
   "outputs": [],
   "source": [
    "sw = pd.read_csv('spanish.txt', header=None, names=['stopwords'])\n",
    "stopwords = sw['stopwords'].tolist()"
   ]
  },
  {
   "cell_type": "code",
   "execution_count": 17,
   "metadata": {},
   "outputs": [],
   "source": [
    "def preprocess(s):\n",
    "    s = s.lower()\n",
    "    s = re.sub('[0-9]+', '', s) \n",
    "    s = re.sub('[!\"#$%&()*+,-./:;<=>¿?@[\\\\]^_`{|}~\\t—’‘“”]', '', s)\n",
    "    tokens = nltk.tokenize.word_tokenize(s) \n",
    "    tokens = [t for t in tokens if t not in stopwords] \n",
    "    tokens = [unidecode.unidecode(t) for t in tokens]\n",
    "    jtokens = ' '.join(tokens)\n",
    "    return jtokens\n",
    "\n",
    "pdata = [preprocess(t) for t in data]"
   ]
  },
  {
   "source": [
    "En la siguiente celda se muestra la misma noticia anterior preprocesada."
   ],
   "cell_type": "markdown",
   "metadata": {}
  },
  {
   "cell_type": "code",
   "execution_count": 18,
   "metadata": {
    "tags": []
   },
   "outputs": [
    {
     "output_type": "stream",
     "name": "stdout",
     "text": "Noticia 603 : \n empresa chilena notco firma lider tecnologia alimentos america latina cerro ronda financiacion capital logrando recaudar us millones convirtio startup mayor inversion extranjera chile segun cb insights ronda financiamiento hace confirmar vamos buen camino paso incentivarnos seguir trabajando beneficio salud personas planeta manera deliciosa revolucionaria pensada largo plazo expreso sostiene matias muchnick ceo cofundador notco noticias relacionadas foro economico mundial destaca empresa chilena pioneros tecnologicos consolidacion sueno foro economico mundial destaca empresa chilena pioneros tecnologicos consolidacion sueno fundador amazon hombre rico mundo invierte startup chilena comida base plantas fundador amazon hombre rico mundo invierte startup chilena comida base plantas compania utiliza inteligencia artificial descubrir nuevas alternativas basadas plantas productos alimenticios mayonesa leche queso financiamiento logrado ronda apoyara consolidacion operaciones latinoamerica respaldara fuerte expansion unidos futuro lanzamiento dicho pais segun indico propia firma proceso dirigido future positive fred blackford biz stone 's cofundador twitter firma capital privado bienes consumo lider mundo l catterton ademas confirmo fred blackford ramiro lauzan uniran directorio compania encuentran nico szekasy kazsek ventures elio leoni the craftory cierre ronda notco suma total us millones capital recaudado trae nuevos inversionistas globales lista patrocinadores incluyen bezos expedition jeff bezos the craftory general catalyst indiebio maya capital humboldt capital lider vc latam kaszek ventures hace pocos meses world economic forum eligio notco startups innovadoras nivel global mediante reconocimiento denominado pioneros tecnologia unica firma local seleccionada cuatro elegidas latinoamerica ademas marzo jeff bezos ceo amazon hombre rico planeta invertido compania chilena respondiendo seriedad innovacion productos compania lanzado notmilk notburger noticecream notmayo brasil argentina chile menos tres anos convertido empresa tecnologia alimentos grande rapido crecimiento america latina\n"
    }
   ],
   "source": [
    "print('Noticia %d :' % k, '\\n', pdata[k])"
   ]
  },
  {
   "source": [
    "Luego se verifica cómo cambió la noticia más larga y la más corta luego del preprocesamiento. Se observa una reducción importante de palabras."
   ],
   "cell_type": "markdown",
   "metadata": {}
  },
  {
   "cell_type": "code",
   "execution_count": 19,
   "metadata": {
    "tags": []
   },
   "outputs": [
    {
     "output_type": "stream",
     "name": "stdout",
     "text": "Número de palabras de la noticia más larga: \n 1161 \n\nNúmero de palabras de la noticia más corta: \n 20 \n\n"
    }
   ],
   "source": [
    "x = []\n",
    "for e in pdata:\n",
    "    x.append(len(e.split()))\n",
    "print('Número de palabras de la noticia más larga: \\n',  max(x), '\\n')\n",
    "print('Número de palabras de la noticia más corta: \\n',  min(x), '\\n')"
   ]
  },
  {
   "source": [
    "El siguiente paso es vectorizar, para lo cual se usa el método CountVectorizer de SKLearn. Se establece un máximo de 2500 palabras y se usan ngrams de 1 y 2 palabras. Este método cuenta el número de veces que aparece cada palabra del vocabulario en cada texto."
   ],
   "cell_type": "markdown",
   "metadata": {}
  },
  {
   "cell_type": "code",
   "execution_count": 20,
   "metadata": {
    "tags": []
   },
   "outputs": [
    {
     "output_type": "stream",
     "name": "stdout",
     "text": "(695, 2500)\n"
    }
   ],
   "source": [
    "vect = CountVectorizer(max_features=2500, ngram_range=(1,2))\n",
    "vdat = vect.fit_transform(pdata)\n",
    "vdata = pd.DataFrame(vdat.toarray(), columns=vect.get_feature_names())\n",
    "print(vdata.shape)"
   ]
  },
  {
   "source": [
    "Así ha quedado la base de datos."
   ],
   "cell_type": "markdown",
   "metadata": {}
  },
  {
   "cell_type": "code",
   "execution_count": 21,
   "metadata": {
    "tags": []
   },
   "outputs": [
    {
     "output_type": "stream",
     "name": "stdout",
     "text": "abcdin  abril  abril junio  abril mayo  abriljunio  abrir  aca  academico  \\\n0       0      0            0           0           0      0    0          0   \n1       0      1            0           1           0      0    0          0   \n2       0      0            0           0           0      0    0          0   \n3       0      0            0           0           0      0    0          0   \n4       0      0            0           0           0      0    0          0   \n\n   acceder  acceso  ...  wall  wall street  walmart  web  wti  york  zaldivar  \\\n0        0       0  ...     0            0        0    0    0     0         0   \n1        0       0  ...     0            0        0    0    0     0         0   \n2        0       0  ...     0            0        0    0    0     1         0   \n3        0       0  ...     0            0        0    1    0     0         0   \n4        0       0  ...     0            0        0    1    0     0         0   \n\n   zona  zona euro  zonas  \n0     0          0      0  \n1     0          0      0  \n2     0          0      0  \n3     0          0      0  \n4     0          0      0  \n\n[5 rows x 2500 columns]\n"
    }
   ],
   "source": [
    "print(vdata.head())"
   ]
  },
  {
   "source": [
    "Luego se define la variable dependiente *y*, y los predictores *X*."
   ],
   "cell_type": "markdown",
   "metadata": {}
  },
  {
   "cell_type": "code",
   "execution_count": 22,
   "metadata": {},
   "outputs": [],
   "source": [
    "y = dataset['response']\n",
    "X = vdata"
   ]
  },
  {
   "source": [
    "Se dividen los datos en un set de entrenamiento y otro de testeo."
   ],
   "cell_type": "markdown",
   "metadata": {}
  },
  {
   "cell_type": "code",
   "execution_count": 23,
   "metadata": {},
   "outputs": [],
   "source": [
    "X_train, X_test, y_train, y_test = train_test_split(X, y, test_size=0.3, stratify=y, random_state=123)"
   ]
  },
  {
   "source": [
    "Finalmente, se estandarizan los datos, usando los parámetros del training set. Esto se hace luego de la división de los datos para evitar contaminar el testing set con información del training set."
   ],
   "cell_type": "markdown",
   "metadata": {}
  },
  {
   "cell_type": "code",
   "execution_count": 24,
   "metadata": {
    "tags": []
   },
   "outputs": [],
   "source": [
    "scaler = StandardScaler()\n",
    "scaler.fit(X_train)\n",
    "nX_train = scaler.transform(X_train)\n",
    "nX_train = pd.DataFrame(nX_train, columns=X_train.columns)\n",
    "\n",
    "nX_test = scaler.transform(X_test)\n",
    "nX_test = pd.DataFrame(nX_test, columns=X_test.columns)"
   ]
  },
  {
   "cell_type": "markdown",
   "metadata": {},
   "source": [
    "# Regresión Logística\n",
    "El primer modelo a probar. Se trata de un modelo sencillo que servirá de benchmark para los demás.\n",
    "\n",
    "Los modelos se evaluarán en base a 3 medidas: accuracy, ROC AUC y F1 Score."
   ]
  },
  {
   "cell_type": "code",
   "execution_count": 64,
   "metadata": {
    "tags": []
   },
   "outputs": [
    {
     "name": "stdout",
     "output_type": "stream",
     "text": [
      "Fitting 5 folds for each of 16 candidates, totalling 80 fits\n"
     ]
    },
    {
     "name": "stderr",
     "output_type": "stream",
     "text": [
      "[Parallel(n_jobs=-1)]: Using backend LokyBackend with 8 concurrent workers.\n",
      "[Parallel(n_jobs=-1)]: Done  34 tasks      | elapsed:    4.6s\n",
      "[Parallel(n_jobs=-1)]: Done  80 out of  80 | elapsed:    6.6s finished\n"
     ]
    },
    {
     "name": "stdout",
     "output_type": "stream",
     "text": [
      "Best CV params {'C': 1000, 'penalty': 'l2'}\n",
      "Test accuracy of best CV params: 0.9043062200956937\n",
      "Area Under the ROC Curve: 0.957274011299435\n",
      "F1 Score: 0.6551724137931033\n"
     ]
    }
   ],
   "source": [
    "model = LogisticRegression(random_state=123)\n",
    "parameters = {'C':[1, 100, 500, 1000, 5000, 10000, 12500, 25000], \n",
    "              'penalty':['l1', 'l2']}\n",
    "searcher = GridSearchCV(estimator=model, \n",
    "                        param_grid=parameters, \n",
    "                        n_jobs=-1, \n",
    "                        verbose=1)\n",
    "searcher.fit(nX_train, y_train)\n",
    "print(\"Best CV params\", searcher.best_params_)\n",
    "\n",
    "best_model = searcher.best_estimator_\n",
    "y_pred = best_model.predict(nX_test)\n",
    "y_pred_proba = best_model.predict_proba(nX_test)[:,1]\n",
    "\n",
    "Accuracy1 = accuracy_score(y_test, y_pred)\n",
    "ROC_AUC1 = roc_auc_score(y_test, y_pred_proba)\n",
    "F1Score1 = f1_score(y_test, y_pred)\n",
    "print(\"Test accuracy of best CV params:\", Accuracy1)\n",
    "print(\"Area Under the ROC Curve:\", ROC_AUC1)\n",
    "print(\"F1 Score:\", F1Score1)"
   ]
  },
  {
   "source": [
    "Se observa que la regresión logística obtuvo un excelente desempeño, lo que es muy bueno, considerando que permite obtener coeficientes interpretables.\n",
    "\n",
    "A continuación se muestran los coeficientes más bajos y más altos, que se pueden interpretar como las palabras más negativas y más positivas, respectivamente."
   ],
   "cell_type": "markdown",
   "metadata": {}
  },
  {
   "cell_type": "code",
   "execution_count": 65,
   "metadata": {
    "tags": []
   },
   "outputs": [
    {
     "name": "stdout",
     "output_type": "stream",
     "text": [
      "                         Coeficientes\n",
      "perdio                      -0.336897\n",
      "impacto                     -0.239861\n",
      "bajaron                     -0.229538\n",
      "millones millones           -0.227841\n",
      "sostuvo                     -0.225835\n",
      "pandemia coronavirus        -0.221591\n",
      "impacto pandemia            -0.214897\n",
      "debido                      -0.211046\n",
      "primera vez                 -0.210509\n",
      "perspectivas economicas     -0.208365\n",
      "                 Coeficientes\n",
      "elaborado            0.321472\n",
      "compra               0.324783\n",
      "lunes                0.327429\n",
      "subio                0.344058\n",
      "tecnologicos         0.376932\n",
      "puntos               0.383296\n",
      "economia pais        0.390556\n",
      "alza                 0.395226\n",
      "empresas sector      0.418715\n",
      "supero               0.451120\n"
     ]
    }
   ],
   "source": [
    "coeficientes =  pd.DataFrame(best_model.coef_, columns=X_train.columns, index=['Coeficientes'])\n",
    "coeficientes = coeficientes.T\n",
    "coeficientes = coeficientes.sort_values('Coeficientes')\n",
    "print(coeficientes.head(10))\n",
    "print(coeficientes.tail(10))"
   ]
  },
  {
   "cell_type": "markdown",
   "metadata": {},
   "source": [
    "# Red Neuronal Artificial\n",
    "El segundo modelo es una red artificial tradicional, compuesta sólo de dense layers."
   ]
  },
  {
   "cell_type": "code",
   "execution_count": 25,
   "metadata": {},
   "outputs": [],
   "source": [
    "def get_model():\n",
    "    model = Sequential([\n",
    "                    Dense(128, kernel_initializer='he_uniform', kernel_regularizer=regularizers.l2(1e-5), activation='relu', input_shape=(X_train.shape[1],)),\n",
    "                    BatchNormalization(),\n",
    "                    Dense(128, kernel_initializer='he_uniform', kernel_regularizer=regularizers.l2(1e-5), activation='relu'),\n",
    "                    Dropout(0.5),\n",
    "                    Dense(64, kernel_initializer='he_uniform', kernel_regularizer=regularizers.l2(1e-5), activation='relu'),\n",
    "                    BatchNormalization(),\n",
    "                    Dense(64, kernel_initializer='he_uniform', kernel_regularizer=regularizers.l2(1e-5), activation='relu'),\n",
    "                    Dropout(0.5),\n",
    "                    Dense(1, activation='sigmoid')\n",
    "    ])\n",
    "    model.compile(optimizer='adam', loss='binary_crossentropy', metrics=['accuracy', 'AUC'])\n",
    "    return model"
   ]
  },
  {
   "source": [
    "El resumen del modelo muestra que tiene 349.889 parámetros entrenables, lo que es mucho para una base de datos tan pequeña, por lo que se espera overfitting."
   ],
   "cell_type": "markdown",
   "metadata": {}
  },
  {
   "cell_type": "code",
   "execution_count": 26,
   "metadata": {
    "tags": []
   },
   "outputs": [
    {
     "output_type": "stream",
     "name": "stdout",
     "text": "Model: \"sequential\"\n_________________________________________________________________\nLayer (type)                 Output Shape              Param #   \n=================================================================\ndense (Dense)                (None, 128)               320128    \n_________________________________________________________________\nbatch_normalization (BatchNo (None, 128)               512       \n_________________________________________________________________\ndense_1 (Dense)              (None, 128)               16512     \n_________________________________________________________________\ndropout (Dropout)            (None, 128)               0         \n_________________________________________________________________\ndense_2 (Dense)              (None, 64)                8256      \n_________________________________________________________________\nbatch_normalization_1 (Batch (None, 64)                256       \n_________________________________________________________________\ndense_3 (Dense)              (None, 64)                4160      \n_________________________________________________________________\ndropout_1 (Dropout)          (None, 64)                0         \n_________________________________________________________________\ndense_4 (Dense)              (None, 1)                 65        \n=================================================================\nTotal params: 349,889\nTrainable params: 349,505\nNon-trainable params: 384\n_________________________________________________________________\n"
    }
   ],
   "source": [
    "model = get_model()\n",
    "model.summary()"
   ]
  },
  {
   "source": [
    "Durante el entrenamiento se irán guardando los weights que produzcan el mejor desempeño."
   ],
   "cell_type": "markdown",
   "metadata": {}
  },
  {
   "cell_type": "code",
   "execution_count": 27,
   "metadata": {
    "tags": []
   },
   "outputs": [
    {
     "output_type": "stream",
     "name": "stdout",
     "text": "Epoch 1/20\n7/8 [=========================>....] - ETA: 0s - loss: 0.7318 - accuracy: 0.6719 - auc: 0.5578\nEpoch 00001: val_accuracy improved from -inf to 0.78469, saving model to C:/Users/acuna/OneDrive/Documents/Callbacks\\checkpoint\n8/8 [==============================] - 1s 120ms/step - loss: 0.7093 - accuracy: 0.6790 - auc: 0.5651 - val_loss: 0.5532 - val_accuracy: 0.7847 - val_auc: 0.5428\nEpoch 2/20\n7/8 [=========================>....] - ETA: 0s - loss: 0.5673 - accuracy: 0.7478 - auc: 0.6188\nEpoch 00002: val_accuracy improved from 0.78469 to 0.80861, saving model to C:/Users/acuna/OneDrive/Documents/Callbacks\\checkpoint\n8/8 [==============================] - 0s 21ms/step - loss: 0.5606 - accuracy: 0.7510 - auc: 0.6273 - val_loss: 0.5014 - val_accuracy: 0.8086 - val_auc: 0.6255\nEpoch 3/20\n7/8 [=========================>....] - ETA: 0s - loss: 0.4882 - accuracy: 0.8058 - auc: 0.6806\nEpoch 00003: val_accuracy improved from 0.80861 to 0.83254, saving model to C:/Users/acuna/OneDrive/Documents/Callbacks\\checkpoint\n8/8 [==============================] - 0s 20ms/step - loss: 0.4986 - accuracy: 0.7963 - auc: 0.6748 - val_loss: 0.4625 - val_accuracy: 0.8325 - val_auc: 0.6760\nEpoch 4/20\n6/8 [=====================>........] - ETA: 0s - loss: 0.3720 - accuracy: 0.8516 - auc: 0.8064\nEpoch 00004: val_accuracy improved from 0.83254 to 0.85646, saving model to C:/Users/acuna/OneDrive/Documents/Callbacks\\checkpoint\n8/8 [==============================] - 0s 21ms/step - loss: 0.3705 - accuracy: 0.8539 - auc: 0.8105 - val_loss: 0.4298 - val_accuracy: 0.8565 - val_auc: 0.7365\nEpoch 5/20\n7/8 [=========================>....] - ETA: 0s - loss: 0.3635 - accuracy: 0.8594 - auc: 0.8268\nEpoch 00005: val_accuracy improved from 0.85646 to 0.87081, saving model to C:/Users/acuna/OneDrive/Documents/Callbacks\\checkpoint\n8/8 [==============================] - 0s 23ms/step - loss: 0.3567 - accuracy: 0.8621 - auc: 0.8273 - val_loss: 0.3991 - val_accuracy: 0.8708 - val_auc: 0.7928\nEpoch 6/20\n7/8 [=========================>....] - ETA: 0s - loss: 0.3066 - accuracy: 0.8884 - auc: 0.8676\nEpoch 00006: val_accuracy improved from 0.87081 to 0.88517, saving model to C:/Users/acuna/OneDrive/Documents/Callbacks\\checkpoint\n8/8 [==============================] - 0s 21ms/step - loss: 0.3011 - accuracy: 0.8889 - auc: 0.8725 - val_loss: 0.3888 - val_accuracy: 0.8852 - val_auc: 0.8345\nEpoch 7/20\n6/8 [=====================>........] - ETA: 0s - loss: 0.2440 - accuracy: 0.9036 - auc: 0.9244\nEpoch 00007: val_accuracy improved from 0.88517 to 0.89474, saving model to C:/Users/acuna/OneDrive/Documents/Callbacks\\checkpoint\n8/8 [==============================] - 0s 24ms/step - loss: 0.2361 - accuracy: 0.9095 - auc: 0.9279 - val_loss: 0.3748 - val_accuracy: 0.8947 - val_auc: 0.8716\nEpoch 8/20\n6/8 [=====================>........] - ETA: 0s - loss: 0.2167 - accuracy: 0.9141 - auc: 0.9374\nEpoch 00008: val_accuracy did not improve from 0.89474\n8/8 [==============================] - 0s 15ms/step - loss: 0.2235 - accuracy: 0.9115 - auc: 0.9361 - val_loss: 0.3674 - val_accuracy: 0.8947 - val_auc: 0.8928\nEpoch 9/20\n7/8 [=========================>....] - ETA: 0s - loss: 0.2012 - accuracy: 0.9397 - auc: 0.9556\nEpoch 00009: val_accuracy did not improve from 0.89474\n8/8 [==============================] - 0s 14ms/step - loss: 0.2003 - accuracy: 0.9383 - auc: 0.9533 - val_loss: 0.3605 - val_accuracy: 0.8947 - val_auc: 0.9030\nEpoch 10/20\n5/8 [=================>............] - ETA: 0s - loss: 0.1642 - accuracy: 0.9531 - auc: 0.9737\nEpoch 00010: val_accuracy did not improve from 0.89474\n8/8 [==============================] - 0s 20ms/step - loss: 0.1606 - accuracy: 0.9527 - auc: 0.9754 - val_loss: 0.3591 - val_accuracy: 0.8852 - val_auc: 0.9063\nEpoch 11/20\n6/8 [=====================>........] - ETA: 0s - loss: 0.1280 - accuracy: 0.9479 - auc: 0.9846\nEpoch 00011: val_accuracy did not improve from 0.89474\n8/8 [==============================] - 0s 18ms/step - loss: 0.1214 - accuracy: 0.9547 - auc: 0.9846 - val_loss: 0.3608 - val_accuracy: 0.8900 - val_auc: 0.9109\nEpoch 12/20\n6/8 [=====================>........] - ETA: 0s - loss: 0.0968 - accuracy: 0.9818 - auc: 0.9911\nEpoch 00012: val_accuracy improved from 0.89474 to 0.90431, saving model to C:/Users/acuna/OneDrive/Documents/Callbacks\\checkpoint\n8/8 [==============================] - 0s 25ms/step - loss: 0.1014 - accuracy: 0.9733 - auc: 0.9913 - val_loss: 0.3557 - val_accuracy: 0.9043 - val_auc: 0.9146\nEpoch 13/20\n6/8 [=====================>........] - ETA: 0s - loss: 0.1127 - accuracy: 0.9609 - auc: 0.9886\nEpoch 00013: val_accuracy did not improve from 0.90431\n8/8 [==============================] - 0s 15ms/step - loss: 0.1150 - accuracy: 0.9630 - auc: 0.9867 - val_loss: 0.3785 - val_accuracy: 0.9043 - val_auc: 0.9198\nEpoch 14/20\n6/8 [=====================>........] - ETA: 0s - loss: 0.0955 - accuracy: 0.9661 - auc: 0.9918\nEpoch 00014: val_accuracy improved from 0.90431 to 0.91866, saving model to C:/Users/acuna/OneDrive/Documents/Callbacks\\checkpoint\n8/8 [==============================] - 0s 23ms/step - loss: 0.0920 - accuracy: 0.9691 - auc: 0.9927 - val_loss: 0.3812 - val_accuracy: 0.9187 - val_auc: 0.9221\nEpoch 15/20\n6/8 [=====================>........] - ETA: 0s - loss: 0.0660 - accuracy: 0.9844 - auc: 0.9973\nEpoch 00015: val_accuracy did not improve from 0.91866\n8/8 [==============================] - 0s 18ms/step - loss: 0.0625 - accuracy: 0.9835 - auc: 0.9980 - val_loss: 0.3815 - val_accuracy: 0.9187 - val_auc: 0.9234\nEpoch 16/20\n6/8 [=====================>........] - ETA: 0s - loss: 0.0758 - accuracy: 0.9818 - auc: 0.9936\nEpoch 00016: val_accuracy did not improve from 0.91866\n8/8 [==============================] - 0s 20ms/step - loss: 0.0702 - accuracy: 0.9815 - auc: 0.9953 - val_loss: 0.3668 - val_accuracy: 0.9139 - val_auc: 0.9283\nEpoch 17/20\n7/8 [=========================>....] - ETA: 0s - loss: 0.0519 - accuracy: 0.9888 - auc: 0.9983\nEpoch 00017: val_accuracy did not improve from 0.91866\n8/8 [==============================] - 0s 15ms/step - loss: 0.0507 - accuracy: 0.9897 - auc: 0.9986 - val_loss: 0.3584 - val_accuracy: 0.9139 - val_auc: 0.9301\nEpoch 18/20\n7/8 [=========================>....] - ETA: 0s - loss: 0.0329 - accuracy: 0.9955 - auc: 0.9999\nEpoch 00018: val_accuracy improved from 0.91866 to 0.92344, saving model to C:/Users/acuna/OneDrive/Documents/Callbacks\\checkpoint\n8/8 [==============================] - 0s 23ms/step - loss: 0.0347 - accuracy: 0.9959 - auc: 0.9999 - val_loss: 0.3545 - val_accuracy: 0.9234 - val_auc: 0.9333\nEpoch 19/20\n6/8 [=====================>........] - ETA: 0s - loss: 0.0435 - accuracy: 0.9974 - auc: 0.9996\nEpoch 00019: val_accuracy did not improve from 0.92344\n8/8 [==============================] - 0s 15ms/step - loss: 0.0444 - accuracy: 0.9959 - auc: 0.9991 - val_loss: 0.3554 - val_accuracy: 0.9187 - val_auc: 0.9319\nEpoch 20/20\n6/8 [=====================>........] - ETA: 0s - loss: 0.0419 - accuracy: 0.9948 - auc: 0.9990\nEpoch 00020: val_accuracy did not improve from 0.92344\n8/8 [==============================] - 0s 16ms/step - loss: 0.0407 - accuracy: 0.9959 - auc: 0.9991 - val_loss: 0.3535 - val_accuracy: 0.9234 - val_auc: 0.9322\n"
    }
   ],
   "source": [
    "checkpoint_best_path = 'C:/Users/acuna/OneDrive/Documents/Callbacks/checkpoint'\n",
    "checkpoint_best = ModelCheckpoint(filepath=checkpoint_best_path,\n",
    "                                  save_weights_only=True,\n",
    "                                  save_freq='epoch',\n",
    "                                  monitor='val_accuracy',\n",
    "                                  save_best_only=True,\n",
    "                                  verbose=1\n",
    "                                 )\n",
    "history = model.fit(nX_train, y_train, epochs=20, validation_data=(nX_test, y_test), batch_size=64, callbacks=[checkpoint_best])"
   ]
  },
  {
   "cell_type": "code",
   "execution_count": 28,
   "metadata": {
    "tags": []
   },
   "outputs": [
    {
     "output_type": "display_data",
     "data": {
      "text/plain": "<Figure size 432x288 with 1 Axes>",
      "image/svg+xml": "<?xml version=\"1.0\" encoding=\"utf-8\" standalone=\"no\"?>\r\n<!DOCTYPE svg PUBLIC \"-//W3C//DTD SVG 1.1//EN\"\r\n  \"http://www.w3.org/Graphics/SVG/1.1/DTD/svg11.dtd\">\r\n<!-- Created with matplotlib (https://matplotlib.org/) -->\r\n<svg height=\"277.314375pt\" version=\"1.1\" viewBox=\"0 0 385.78125 277.314375\" width=\"385.78125pt\" xmlns=\"http://www.w3.org/2000/svg\" xmlns:xlink=\"http://www.w3.org/1999/xlink\">\r\n <metadata>\r\n  <rdf:RDF xmlns:cc=\"http://creativecommons.org/ns#\" xmlns:dc=\"http://purl.org/dc/elements/1.1/\" xmlns:rdf=\"http://www.w3.org/1999/02/22-rdf-syntax-ns#\">\r\n   <cc:Work>\r\n    <dc:type rdf:resource=\"http://purl.org/dc/dcmitype/StillImage\"/>\r\n    <dc:date>2020-10-27T12:27:42.011145</dc:date>\r\n    <dc:format>image/svg+xml</dc:format>\r\n    <dc:creator>\r\n     <cc:Agent>\r\n      <dc:title>Matplotlib v3.3.1, https://matplotlib.org/</dc:title>\r\n     </cc:Agent>\r\n    </dc:creator>\r\n   </cc:Work>\r\n  </rdf:RDF>\r\n </metadata>\r\n <defs>\r\n  <style type=\"text/css\">*{stroke-linecap:butt;stroke-linejoin:round;}</style>\r\n </defs>\r\n <g id=\"figure_1\">\r\n  <g id=\"patch_1\">\r\n   <path d=\"M 0 277.314375 \r\nL 385.78125 277.314375 \r\nL 385.78125 0 \r\nL 0 0 \r\nz\r\n\" style=\"fill:none;\"/>\r\n  </g>\r\n  <g id=\"axes_1\">\r\n   <g id=\"patch_2\">\r\n    <path d=\"M 43.78125 239.758125 \r\nL 378.58125 239.758125 \r\nL 378.58125 22.318125 \r\nL 43.78125 22.318125 \r\nz\r\n\" style=\"fill:#ffffff;\"/>\r\n   </g>\r\n   <g id=\"matplotlib.axis_1\">\r\n    <g id=\"xtick_1\">\r\n     <g id=\"line2d_1\">\r\n      <defs>\r\n       <path d=\"M 0 0 \r\nL 0 3.5 \r\n\" id=\"m4959335edd\" style=\"stroke:#000000;stroke-width:0.8;\"/>\r\n      </defs>\r\n      <g>\r\n       <use style=\"stroke:#000000;stroke-width:0.8;\" x=\"58.999432\" xlink:href=\"#m4959335edd\" y=\"239.758125\"/>\r\n      </g>\r\n     </g>\r\n     <g id=\"text_1\">\r\n      <!-- 0.0 -->\r\n      <g transform=\"translate(51.047869 254.356562)scale(0.1 -0.1)\">\r\n       <defs>\r\n        <path d=\"M 31.78125 66.40625 \r\nQ 24.171875 66.40625 20.328125 58.90625 \r\nQ 16.5 51.421875 16.5 36.375 \r\nQ 16.5 21.390625 20.328125 13.890625 \r\nQ 24.171875 6.390625 31.78125 6.390625 \r\nQ 39.453125 6.390625 43.28125 13.890625 \r\nQ 47.125 21.390625 47.125 36.375 \r\nQ 47.125 51.421875 43.28125 58.90625 \r\nQ 39.453125 66.40625 31.78125 66.40625 \r\nz\r\nM 31.78125 74.21875 \r\nQ 44.046875 74.21875 50.515625 64.515625 \r\nQ 56.984375 54.828125 56.984375 36.375 \r\nQ 56.984375 17.96875 50.515625 8.265625 \r\nQ 44.046875 -1.421875 31.78125 -1.421875 \r\nQ 19.53125 -1.421875 13.0625 8.265625 \r\nQ 6.59375 17.96875 6.59375 36.375 \r\nQ 6.59375 54.828125 13.0625 64.515625 \r\nQ 19.53125 74.21875 31.78125 74.21875 \r\nz\r\n\" id=\"DejaVuSans-48\"/>\r\n        <path d=\"M 10.6875 12.40625 \r\nL 21 12.40625 \r\nL 21 0 \r\nL 10.6875 0 \r\nz\r\n\" id=\"DejaVuSans-46\"/>\r\n       </defs>\r\n       <use xlink:href=\"#DejaVuSans-48\"/>\r\n       <use x=\"63.623047\" xlink:href=\"#DejaVuSans-46\"/>\r\n       <use x=\"95.410156\" xlink:href=\"#DejaVuSans-48\"/>\r\n      </g>\r\n     </g>\r\n    </g>\r\n    <g id=\"xtick_2\">\r\n     <g id=\"line2d_2\">\r\n      <g>\r\n       <use style=\"stroke:#000000;stroke-width:0.8;\" x=\"99.047279\" xlink:href=\"#m4959335edd\" y=\"239.758125\"/>\r\n      </g>\r\n     </g>\r\n     <g id=\"text_2\">\r\n      <!-- 2.5 -->\r\n      <g transform=\"translate(91.095716 254.356562)scale(0.1 -0.1)\">\r\n       <defs>\r\n        <path d=\"M 19.1875 8.296875 \r\nL 53.609375 8.296875 \r\nL 53.609375 0 \r\nL 7.328125 0 \r\nL 7.328125 8.296875 \r\nQ 12.9375 14.109375 22.625 23.890625 \r\nQ 32.328125 33.6875 34.8125 36.53125 \r\nQ 39.546875 41.84375 41.421875 45.53125 \r\nQ 43.3125 49.21875 43.3125 52.78125 \r\nQ 43.3125 58.59375 39.234375 62.25 \r\nQ 35.15625 65.921875 28.609375 65.921875 \r\nQ 23.96875 65.921875 18.8125 64.3125 \r\nQ 13.671875 62.703125 7.8125 59.421875 \r\nL 7.8125 69.390625 \r\nQ 13.765625 71.78125 18.9375 73 \r\nQ 24.125 74.21875 28.421875 74.21875 \r\nQ 39.75 74.21875 46.484375 68.546875 \r\nQ 53.21875 62.890625 53.21875 53.421875 \r\nQ 53.21875 48.921875 51.53125 44.890625 \r\nQ 49.859375 40.875 45.40625 35.40625 \r\nQ 44.1875 33.984375 37.640625 27.21875 \r\nQ 31.109375 20.453125 19.1875 8.296875 \r\nz\r\n\" id=\"DejaVuSans-50\"/>\r\n        <path d=\"M 10.796875 72.90625 \r\nL 49.515625 72.90625 \r\nL 49.515625 64.59375 \r\nL 19.828125 64.59375 \r\nL 19.828125 46.734375 \r\nQ 21.96875 47.46875 24.109375 47.828125 \r\nQ 26.265625 48.1875 28.421875 48.1875 \r\nQ 40.625 48.1875 47.75 41.5 \r\nQ 54.890625 34.8125 54.890625 23.390625 \r\nQ 54.890625 11.625 47.5625 5.09375 \r\nQ 40.234375 -1.421875 26.90625 -1.421875 \r\nQ 22.3125 -1.421875 17.546875 -0.640625 \r\nQ 12.796875 0.140625 7.71875 1.703125 \r\nL 7.71875 11.625 \r\nQ 12.109375 9.234375 16.796875 8.0625 \r\nQ 21.484375 6.890625 26.703125 6.890625 \r\nQ 35.15625 6.890625 40.078125 11.328125 \r\nQ 45.015625 15.765625 45.015625 23.390625 \r\nQ 45.015625 31 40.078125 35.4375 \r\nQ 35.15625 39.890625 26.703125 39.890625 \r\nQ 22.75 39.890625 18.8125 39.015625 \r\nQ 14.890625 38.140625 10.796875 36.28125 \r\nz\r\n\" id=\"DejaVuSans-53\"/>\r\n       </defs>\r\n       <use xlink:href=\"#DejaVuSans-50\"/>\r\n       <use x=\"63.623047\" xlink:href=\"#DejaVuSans-46\"/>\r\n       <use x=\"95.410156\" xlink:href=\"#DejaVuSans-53\"/>\r\n      </g>\r\n     </g>\r\n    </g>\r\n    <g id=\"xtick_3\">\r\n     <g id=\"line2d_3\">\r\n      <g>\r\n       <use style=\"stroke:#000000;stroke-width:0.8;\" x=\"139.095126\" xlink:href=\"#m4959335edd\" y=\"239.758125\"/>\r\n      </g>\r\n     </g>\r\n     <g id=\"text_3\">\r\n      <!-- 5.0 -->\r\n      <g transform=\"translate(131.143563 254.356562)scale(0.1 -0.1)\">\r\n       <use xlink:href=\"#DejaVuSans-53\"/>\r\n       <use x=\"63.623047\" xlink:href=\"#DejaVuSans-46\"/>\r\n       <use x=\"95.410156\" xlink:href=\"#DejaVuSans-48\"/>\r\n      </g>\r\n     </g>\r\n    </g>\r\n    <g id=\"xtick_4\">\r\n     <g id=\"line2d_4\">\r\n      <g>\r\n       <use style=\"stroke:#000000;stroke-width:0.8;\" x=\"179.142972\" xlink:href=\"#m4959335edd\" y=\"239.758125\"/>\r\n      </g>\r\n     </g>\r\n     <g id=\"text_4\">\r\n      <!-- 7.5 -->\r\n      <g transform=\"translate(171.19141 254.356562)scale(0.1 -0.1)\">\r\n       <defs>\r\n        <path d=\"M 8.203125 72.90625 \r\nL 55.078125 72.90625 \r\nL 55.078125 68.703125 \r\nL 28.609375 0 \r\nL 18.3125 0 \r\nL 43.21875 64.59375 \r\nL 8.203125 64.59375 \r\nz\r\n\" id=\"DejaVuSans-55\"/>\r\n       </defs>\r\n       <use xlink:href=\"#DejaVuSans-55\"/>\r\n       <use x=\"63.623047\" xlink:href=\"#DejaVuSans-46\"/>\r\n       <use x=\"95.410156\" xlink:href=\"#DejaVuSans-53\"/>\r\n      </g>\r\n     </g>\r\n    </g>\r\n    <g id=\"xtick_5\">\r\n     <g id=\"line2d_5\">\r\n      <g>\r\n       <use style=\"stroke:#000000;stroke-width:0.8;\" x=\"219.190819\" xlink:href=\"#m4959335edd\" y=\"239.758125\"/>\r\n      </g>\r\n     </g>\r\n     <g id=\"text_5\">\r\n      <!-- 10.0 -->\r\n      <g transform=\"translate(208.058007 254.356562)scale(0.1 -0.1)\">\r\n       <defs>\r\n        <path d=\"M 12.40625 8.296875 \r\nL 28.515625 8.296875 \r\nL 28.515625 63.921875 \r\nL 10.984375 60.40625 \r\nL 10.984375 69.390625 \r\nL 28.421875 72.90625 \r\nL 38.28125 72.90625 \r\nL 38.28125 8.296875 \r\nL 54.390625 8.296875 \r\nL 54.390625 0 \r\nL 12.40625 0 \r\nz\r\n\" id=\"DejaVuSans-49\"/>\r\n       </defs>\r\n       <use xlink:href=\"#DejaVuSans-49\"/>\r\n       <use x=\"63.623047\" xlink:href=\"#DejaVuSans-48\"/>\r\n       <use x=\"127.246094\" xlink:href=\"#DejaVuSans-46\"/>\r\n       <use x=\"159.033203\" xlink:href=\"#DejaVuSans-48\"/>\r\n      </g>\r\n     </g>\r\n    </g>\r\n    <g id=\"xtick_6\">\r\n     <g id=\"line2d_6\">\r\n      <g>\r\n       <use style=\"stroke:#000000;stroke-width:0.8;\" x=\"259.238666\" xlink:href=\"#m4959335edd\" y=\"239.758125\"/>\r\n      </g>\r\n     </g>\r\n     <g id=\"text_6\">\r\n      <!-- 12.5 -->\r\n      <g transform=\"translate(248.105854 254.356562)scale(0.1 -0.1)\">\r\n       <use xlink:href=\"#DejaVuSans-49\"/>\r\n       <use x=\"63.623047\" xlink:href=\"#DejaVuSans-50\"/>\r\n       <use x=\"127.246094\" xlink:href=\"#DejaVuSans-46\"/>\r\n       <use x=\"159.033203\" xlink:href=\"#DejaVuSans-53\"/>\r\n      </g>\r\n     </g>\r\n    </g>\r\n    <g id=\"xtick_7\">\r\n     <g id=\"line2d_7\">\r\n      <g>\r\n       <use style=\"stroke:#000000;stroke-width:0.8;\" x=\"299.286513\" xlink:href=\"#m4959335edd\" y=\"239.758125\"/>\r\n      </g>\r\n     </g>\r\n     <g id=\"text_7\">\r\n      <!-- 15.0 -->\r\n      <g transform=\"translate(288.153701 254.356562)scale(0.1 -0.1)\">\r\n       <use xlink:href=\"#DejaVuSans-49\"/>\r\n       <use x=\"63.623047\" xlink:href=\"#DejaVuSans-53\"/>\r\n       <use x=\"127.246094\" xlink:href=\"#DejaVuSans-46\"/>\r\n       <use x=\"159.033203\" xlink:href=\"#DejaVuSans-48\"/>\r\n      </g>\r\n     </g>\r\n    </g>\r\n    <g id=\"xtick_8\">\r\n     <g id=\"line2d_8\">\r\n      <g>\r\n       <use style=\"stroke:#000000;stroke-width:0.8;\" x=\"339.33436\" xlink:href=\"#m4959335edd\" y=\"239.758125\"/>\r\n      </g>\r\n     </g>\r\n     <g id=\"text_8\">\r\n      <!-- 17.5 -->\r\n      <g transform=\"translate(328.201548 254.356562)scale(0.1 -0.1)\">\r\n       <use xlink:href=\"#DejaVuSans-49\"/>\r\n       <use x=\"63.623047\" xlink:href=\"#DejaVuSans-55\"/>\r\n       <use x=\"127.246094\" xlink:href=\"#DejaVuSans-46\"/>\r\n       <use x=\"159.033203\" xlink:href=\"#DejaVuSans-53\"/>\r\n      </g>\r\n     </g>\r\n    </g>\r\n    <g id=\"text_9\">\r\n     <!-- Epoch -->\r\n     <g transform=\"translate(195.870313 268.034687)scale(0.1 -0.1)\">\r\n      <defs>\r\n       <path d=\"M 9.8125 72.90625 \r\nL 55.90625 72.90625 \r\nL 55.90625 64.59375 \r\nL 19.671875 64.59375 \r\nL 19.671875 43.015625 \r\nL 54.390625 43.015625 \r\nL 54.390625 34.71875 \r\nL 19.671875 34.71875 \r\nL 19.671875 8.296875 \r\nL 56.78125 8.296875 \r\nL 56.78125 0 \r\nL 9.8125 0 \r\nz\r\n\" id=\"DejaVuSans-69\"/>\r\n       <path d=\"M 18.109375 8.203125 \r\nL 18.109375 -20.796875 \r\nL 9.078125 -20.796875 \r\nL 9.078125 54.6875 \r\nL 18.109375 54.6875 \r\nL 18.109375 46.390625 \r\nQ 20.953125 51.265625 25.265625 53.625 \r\nQ 29.59375 56 35.59375 56 \r\nQ 45.5625 56 51.78125 48.09375 \r\nQ 58.015625 40.1875 58.015625 27.296875 \r\nQ 58.015625 14.40625 51.78125 6.484375 \r\nQ 45.5625 -1.421875 35.59375 -1.421875 \r\nQ 29.59375 -1.421875 25.265625 0.953125 \r\nQ 20.953125 3.328125 18.109375 8.203125 \r\nz\r\nM 48.6875 27.296875 \r\nQ 48.6875 37.203125 44.609375 42.84375 \r\nQ 40.53125 48.484375 33.40625 48.484375 \r\nQ 26.265625 48.484375 22.1875 42.84375 \r\nQ 18.109375 37.203125 18.109375 27.296875 \r\nQ 18.109375 17.390625 22.1875 11.75 \r\nQ 26.265625 6.109375 33.40625 6.109375 \r\nQ 40.53125 6.109375 44.609375 11.75 \r\nQ 48.6875 17.390625 48.6875 27.296875 \r\nz\r\n\" id=\"DejaVuSans-112\"/>\r\n       <path d=\"M 30.609375 48.390625 \r\nQ 23.390625 48.390625 19.1875 42.75 \r\nQ 14.984375 37.109375 14.984375 27.296875 \r\nQ 14.984375 17.484375 19.15625 11.84375 \r\nQ 23.34375 6.203125 30.609375 6.203125 \r\nQ 37.796875 6.203125 41.984375 11.859375 \r\nQ 46.1875 17.53125 46.1875 27.296875 \r\nQ 46.1875 37.015625 41.984375 42.703125 \r\nQ 37.796875 48.390625 30.609375 48.390625 \r\nz\r\nM 30.609375 56 \r\nQ 42.328125 56 49.015625 48.375 \r\nQ 55.71875 40.765625 55.71875 27.296875 \r\nQ 55.71875 13.875 49.015625 6.21875 \r\nQ 42.328125 -1.421875 30.609375 -1.421875 \r\nQ 18.84375 -1.421875 12.171875 6.21875 \r\nQ 5.515625 13.875 5.515625 27.296875 \r\nQ 5.515625 40.765625 12.171875 48.375 \r\nQ 18.84375 56 30.609375 56 \r\nz\r\n\" id=\"DejaVuSans-111\"/>\r\n       <path d=\"M 48.78125 52.59375 \r\nL 48.78125 44.1875 \r\nQ 44.96875 46.296875 41.140625 47.34375 \r\nQ 37.3125 48.390625 33.40625 48.390625 \r\nQ 24.65625 48.390625 19.8125 42.84375 \r\nQ 14.984375 37.3125 14.984375 27.296875 \r\nQ 14.984375 17.28125 19.8125 11.734375 \r\nQ 24.65625 6.203125 33.40625 6.203125 \r\nQ 37.3125 6.203125 41.140625 7.25 \r\nQ 44.96875 8.296875 48.78125 10.40625 \r\nL 48.78125 2.09375 \r\nQ 45.015625 0.34375 40.984375 -0.53125 \r\nQ 36.96875 -1.421875 32.421875 -1.421875 \r\nQ 20.0625 -1.421875 12.78125 6.34375 \r\nQ 5.515625 14.109375 5.515625 27.296875 \r\nQ 5.515625 40.671875 12.859375 48.328125 \r\nQ 20.21875 56 33.015625 56 \r\nQ 37.15625 56 41.109375 55.140625 \r\nQ 45.0625 54.296875 48.78125 52.59375 \r\nz\r\n\" id=\"DejaVuSans-99\"/>\r\n       <path d=\"M 54.890625 33.015625 \r\nL 54.890625 0 \r\nL 45.90625 0 \r\nL 45.90625 32.71875 \r\nQ 45.90625 40.484375 42.875 44.328125 \r\nQ 39.84375 48.1875 33.796875 48.1875 \r\nQ 26.515625 48.1875 22.3125 43.546875 \r\nQ 18.109375 38.921875 18.109375 30.90625 \r\nL 18.109375 0 \r\nL 9.078125 0 \r\nL 9.078125 75.984375 \r\nL 18.109375 75.984375 \r\nL 18.109375 46.1875 \r\nQ 21.34375 51.125 25.703125 53.5625 \r\nQ 30.078125 56 35.796875 56 \r\nQ 45.21875 56 50.046875 50.171875 \r\nQ 54.890625 44.34375 54.890625 33.015625 \r\nz\r\n\" id=\"DejaVuSans-104\"/>\r\n      </defs>\r\n      <use xlink:href=\"#DejaVuSans-69\"/>\r\n      <use x=\"63.183594\" xlink:href=\"#DejaVuSans-112\"/>\r\n      <use x=\"126.660156\" xlink:href=\"#DejaVuSans-111\"/>\r\n      <use x=\"187.841797\" xlink:href=\"#DejaVuSans-99\"/>\r\n      <use x=\"242.822266\" xlink:href=\"#DejaVuSans-104\"/>\r\n     </g>\r\n    </g>\r\n   </g>\r\n   <g id=\"matplotlib.axis_2\">\r\n    <g id=\"ytick_1\">\r\n     <g id=\"line2d_9\">\r\n      <defs>\r\n       <path d=\"M 0 0 \r\nL -3.5 0 \r\n\" id=\"md45ce766e2\" style=\"stroke:#000000;stroke-width:0.8;\"/>\r\n      </defs>\r\n      <g>\r\n       <use style=\"stroke:#000000;stroke-width:0.8;\" x=\"43.78125\" xlink:href=\"#md45ce766e2\" y=\"210.750047\"/>\r\n      </g>\r\n     </g>\r\n     <g id=\"text_10\">\r\n      <!-- 0.1 -->\r\n      <g transform=\"translate(20.878125 214.549265)scale(0.1 -0.1)\">\r\n       <use xlink:href=\"#DejaVuSans-48\"/>\r\n       <use x=\"63.623047\" xlink:href=\"#DejaVuSans-46\"/>\r\n       <use x=\"95.410156\" xlink:href=\"#DejaVuSans-49\"/>\r\n      </g>\r\n     </g>\r\n    </g>\r\n    <g id=\"ytick_2\">\r\n     <g id=\"line2d_10\">\r\n      <g>\r\n       <use style=\"stroke:#000000;stroke-width:0.8;\" x=\"43.78125\" xlink:href=\"#md45ce766e2\" y=\"181.447715\"/>\r\n      </g>\r\n     </g>\r\n     <g id=\"text_11\">\r\n      <!-- 0.2 -->\r\n      <g transform=\"translate(20.878125 185.246934)scale(0.1 -0.1)\">\r\n       <use xlink:href=\"#DejaVuSans-48\"/>\r\n       <use x=\"63.623047\" xlink:href=\"#DejaVuSans-46\"/>\r\n       <use x=\"95.410156\" xlink:href=\"#DejaVuSans-50\"/>\r\n      </g>\r\n     </g>\r\n    </g>\r\n    <g id=\"ytick_3\">\r\n     <g id=\"line2d_11\">\r\n      <g>\r\n       <use style=\"stroke:#000000;stroke-width:0.8;\" x=\"43.78125\" xlink:href=\"#md45ce766e2\" y=\"152.145384\"/>\r\n      </g>\r\n     </g>\r\n     <g id=\"text_12\">\r\n      <!-- 0.3 -->\r\n      <g transform=\"translate(20.878125 155.944603)scale(0.1 -0.1)\">\r\n       <defs>\r\n        <path d=\"M 40.578125 39.3125 \r\nQ 47.65625 37.796875 51.625 33 \r\nQ 55.609375 28.21875 55.609375 21.1875 \r\nQ 55.609375 10.40625 48.1875 4.484375 \r\nQ 40.765625 -1.421875 27.09375 -1.421875 \r\nQ 22.515625 -1.421875 17.65625 -0.515625 \r\nQ 12.796875 0.390625 7.625 2.203125 \r\nL 7.625 11.71875 \r\nQ 11.71875 9.328125 16.59375 8.109375 \r\nQ 21.484375 6.890625 26.8125 6.890625 \r\nQ 36.078125 6.890625 40.9375 10.546875 \r\nQ 45.796875 14.203125 45.796875 21.1875 \r\nQ 45.796875 27.640625 41.28125 31.265625 \r\nQ 36.765625 34.90625 28.71875 34.90625 \r\nL 20.21875 34.90625 \r\nL 20.21875 43.015625 \r\nL 29.109375 43.015625 \r\nQ 36.375 43.015625 40.234375 45.921875 \r\nQ 44.09375 48.828125 44.09375 54.296875 \r\nQ 44.09375 59.90625 40.109375 62.90625 \r\nQ 36.140625 65.921875 28.71875 65.921875 \r\nQ 24.65625 65.921875 20.015625 65.03125 \r\nQ 15.375 64.15625 9.8125 62.3125 \r\nL 9.8125 71.09375 \r\nQ 15.4375 72.65625 20.34375 73.4375 \r\nQ 25.25 74.21875 29.59375 74.21875 \r\nQ 40.828125 74.21875 47.359375 69.109375 \r\nQ 53.90625 64.015625 53.90625 55.328125 \r\nQ 53.90625 49.265625 50.4375 45.09375 \r\nQ 46.96875 40.921875 40.578125 39.3125 \r\nz\r\n\" id=\"DejaVuSans-51\"/>\r\n       </defs>\r\n       <use xlink:href=\"#DejaVuSans-48\"/>\r\n       <use x=\"63.623047\" xlink:href=\"#DejaVuSans-46\"/>\r\n       <use x=\"95.410156\" xlink:href=\"#DejaVuSans-51\"/>\r\n      </g>\r\n     </g>\r\n    </g>\r\n    <g id=\"ytick_4\">\r\n     <g id=\"line2d_12\">\r\n      <g>\r\n       <use style=\"stroke:#000000;stroke-width:0.8;\" x=\"43.78125\" xlink:href=\"#md45ce766e2\" y=\"122.843053\"/>\r\n      </g>\r\n     </g>\r\n     <g id=\"text_13\">\r\n      <!-- 0.4 -->\r\n      <g transform=\"translate(20.878125 126.642272)scale(0.1 -0.1)\">\r\n       <defs>\r\n        <path d=\"M 37.796875 64.3125 \r\nL 12.890625 25.390625 \r\nL 37.796875 25.390625 \r\nz\r\nM 35.203125 72.90625 \r\nL 47.609375 72.90625 \r\nL 47.609375 25.390625 \r\nL 58.015625 25.390625 \r\nL 58.015625 17.1875 \r\nL 47.609375 17.1875 \r\nL 47.609375 0 \r\nL 37.796875 0 \r\nL 37.796875 17.1875 \r\nL 4.890625 17.1875 \r\nL 4.890625 26.703125 \r\nz\r\n\" id=\"DejaVuSans-52\"/>\r\n       </defs>\r\n       <use xlink:href=\"#DejaVuSans-48\"/>\r\n       <use x=\"63.623047\" xlink:href=\"#DejaVuSans-46\"/>\r\n       <use x=\"95.410156\" xlink:href=\"#DejaVuSans-52\"/>\r\n      </g>\r\n     </g>\r\n    </g>\r\n    <g id=\"ytick_5\">\r\n     <g id=\"line2d_13\">\r\n      <g>\r\n       <use style=\"stroke:#000000;stroke-width:0.8;\" x=\"43.78125\" xlink:href=\"#md45ce766e2\" y=\"93.540722\"/>\r\n      </g>\r\n     </g>\r\n     <g id=\"text_14\">\r\n      <!-- 0.5 -->\r\n      <g transform=\"translate(20.878125 97.339941)scale(0.1 -0.1)\">\r\n       <use xlink:href=\"#DejaVuSans-48\"/>\r\n       <use x=\"63.623047\" xlink:href=\"#DejaVuSans-46\"/>\r\n       <use x=\"95.410156\" xlink:href=\"#DejaVuSans-53\"/>\r\n      </g>\r\n     </g>\r\n    </g>\r\n    <g id=\"ytick_6\">\r\n     <g id=\"line2d_14\">\r\n      <g>\r\n       <use style=\"stroke:#000000;stroke-width:0.8;\" x=\"43.78125\" xlink:href=\"#md45ce766e2\" y=\"64.238391\"/>\r\n      </g>\r\n     </g>\r\n     <g id=\"text_15\">\r\n      <!-- 0.6 -->\r\n      <g transform=\"translate(20.878125 68.03761)scale(0.1 -0.1)\">\r\n       <defs>\r\n        <path d=\"M 33.015625 40.375 \r\nQ 26.375 40.375 22.484375 35.828125 \r\nQ 18.609375 31.296875 18.609375 23.390625 \r\nQ 18.609375 15.53125 22.484375 10.953125 \r\nQ 26.375 6.390625 33.015625 6.390625 \r\nQ 39.65625 6.390625 43.53125 10.953125 \r\nQ 47.40625 15.53125 47.40625 23.390625 \r\nQ 47.40625 31.296875 43.53125 35.828125 \r\nQ 39.65625 40.375 33.015625 40.375 \r\nz\r\nM 52.59375 71.296875 \r\nL 52.59375 62.3125 \r\nQ 48.875 64.0625 45.09375 64.984375 \r\nQ 41.3125 65.921875 37.59375 65.921875 \r\nQ 27.828125 65.921875 22.671875 59.328125 \r\nQ 17.53125 52.734375 16.796875 39.40625 \r\nQ 19.671875 43.65625 24.015625 45.921875 \r\nQ 28.375 48.1875 33.59375 48.1875 \r\nQ 44.578125 48.1875 50.953125 41.515625 \r\nQ 57.328125 34.859375 57.328125 23.390625 \r\nQ 57.328125 12.15625 50.6875 5.359375 \r\nQ 44.046875 -1.421875 33.015625 -1.421875 \r\nQ 20.359375 -1.421875 13.671875 8.265625 \r\nQ 6.984375 17.96875 6.984375 36.375 \r\nQ 6.984375 53.65625 15.1875 63.9375 \r\nQ 23.390625 74.21875 37.203125 74.21875 \r\nQ 40.921875 74.21875 44.703125 73.484375 \r\nQ 48.484375 72.75 52.59375 71.296875 \r\nz\r\n\" id=\"DejaVuSans-54\"/>\r\n       </defs>\r\n       <use xlink:href=\"#DejaVuSans-48\"/>\r\n       <use x=\"63.623047\" xlink:href=\"#DejaVuSans-46\"/>\r\n       <use x=\"95.410156\" xlink:href=\"#DejaVuSans-54\"/>\r\n      </g>\r\n     </g>\r\n    </g>\r\n    <g id=\"ytick_7\">\r\n     <g id=\"line2d_15\">\r\n      <g>\r\n       <use style=\"stroke:#000000;stroke-width:0.8;\" x=\"43.78125\" xlink:href=\"#md45ce766e2\" y=\"34.93606\"/>\r\n      </g>\r\n     </g>\r\n     <g id=\"text_16\">\r\n      <!-- 0.7 -->\r\n      <g transform=\"translate(20.878125 38.735278)scale(0.1 -0.1)\">\r\n       <use xlink:href=\"#DejaVuSans-48\"/>\r\n       <use x=\"63.623047\" xlink:href=\"#DejaVuSans-46\"/>\r\n       <use x=\"95.410156\" xlink:href=\"#DejaVuSans-55\"/>\r\n      </g>\r\n     </g>\r\n    </g>\r\n    <g id=\"text_17\">\r\n     <!-- Loss -->\r\n     <g transform=\"translate(14.798438 142.005312)rotate(-90)scale(0.1 -0.1)\">\r\n      <defs>\r\n       <path d=\"M 9.8125 72.90625 \r\nL 19.671875 72.90625 \r\nL 19.671875 8.296875 \r\nL 55.171875 8.296875 \r\nL 55.171875 0 \r\nL 9.8125 0 \r\nz\r\n\" id=\"DejaVuSans-76\"/>\r\n       <path d=\"M 44.28125 53.078125 \r\nL 44.28125 44.578125 \r\nQ 40.484375 46.53125 36.375 47.5 \r\nQ 32.28125 48.484375 27.875 48.484375 \r\nQ 21.1875 48.484375 17.84375 46.4375 \r\nQ 14.5 44.390625 14.5 40.28125 \r\nQ 14.5 37.15625 16.890625 35.375 \r\nQ 19.28125 33.59375 26.515625 31.984375 \r\nL 29.59375 31.296875 \r\nQ 39.15625 29.25 43.1875 25.515625 \r\nQ 47.21875 21.78125 47.21875 15.09375 \r\nQ 47.21875 7.46875 41.1875 3.015625 \r\nQ 35.15625 -1.421875 24.609375 -1.421875 \r\nQ 20.21875 -1.421875 15.453125 -0.5625 \r\nQ 10.6875 0.296875 5.421875 2 \r\nL 5.421875 11.28125 \r\nQ 10.40625 8.6875 15.234375 7.390625 \r\nQ 20.0625 6.109375 24.8125 6.109375 \r\nQ 31.15625 6.109375 34.5625 8.28125 \r\nQ 37.984375 10.453125 37.984375 14.40625 \r\nQ 37.984375 18.0625 35.515625 20.015625 \r\nQ 33.0625 21.96875 24.703125 23.78125 \r\nL 21.578125 24.515625 \r\nQ 13.234375 26.265625 9.515625 29.90625 \r\nQ 5.8125 33.546875 5.8125 39.890625 \r\nQ 5.8125 47.609375 11.28125 51.796875 \r\nQ 16.75 56 26.8125 56 \r\nQ 31.78125 56 36.171875 55.265625 \r\nQ 40.578125 54.546875 44.28125 53.078125 \r\nz\r\n\" id=\"DejaVuSans-115\"/>\r\n      </defs>\r\n      <use xlink:href=\"#DejaVuSans-76\"/>\r\n      <use x=\"53.962891\" xlink:href=\"#DejaVuSans-111\"/>\r\n      <use x=\"115.144531\" xlink:href=\"#DejaVuSans-115\"/>\r\n      <use x=\"167.244141\" xlink:href=\"#DejaVuSans-115\"/>\r\n     </g>\r\n    </g>\r\n   </g>\r\n   <g id=\"line2d_16\">\r\n    <path clip-path=\"url(#p4d32e9350c)\" d=\"M 58.999432 32.201761 \r\nL 75.018571 75.790081 \r\nL 91.037709 93.960087 \r\nL 107.056848 131.482351 \r\nL 123.075987 135.538393 \r\nL 139.095126 151.823115 \r\nL 155.114264 170.860006 \r\nL 171.133403 174.556983 \r\nL 187.152542 181.345375 \r\nL 203.171681 193.001621 \r\nL 219.190819 204.48073 \r\nL 235.209958 210.340422 \r\nL 251.229097 206.347138 \r\nL 267.248236 213.08714 \r\nL 283.267374 221.744685 \r\nL 299.286513 219.482103 \r\nL 315.305652 225.186067 \r\nL 331.324791 229.874489 \r\nL 347.343929 227.048183 \r\nL 363.363068 228.114257 \r\n\" style=\"fill:none;stroke:#1f77b4;stroke-linecap:square;stroke-width:1.5;\"/>\r\n   </g>\r\n   <g id=\"line2d_17\">\r\n    <path clip-path=\"url(#p4d32e9350c)\" d=\"M 58.999432 77.945173 \r\nL 75.018571 93.116519 \r\nL 91.037709 104.527653 \r\nL 107.056848 114.107263 \r\nL 123.075987 123.109977 \r\nL 139.095126 126.125309 \r\nL 155.114264 130.241563 \r\nL 171.133403 132.405562 \r\nL 187.152542 134.414555 \r\nL 203.171681 134.828969 \r\nL 219.190819 134.339959 \r\nL 235.209958 135.817021 \r\nL 251.229097 129.142989 \r\nL 267.248236 128.361475 \r\nL 283.267374 128.272908 \r\nL 299.286513 132.577921 \r\nL 315.305652 135.023238 \r\nL 331.324791 136.166454 \r\nL 347.343929 135.924312 \r\nL 363.363068 136.463238 \r\n\" style=\"fill:none;stroke:#ff7f0e;stroke-linecap:square;stroke-width:1.5;\"/>\r\n   </g>\r\n   <g id=\"patch_3\">\r\n    <path d=\"M 43.78125 239.758125 \r\nL 43.78125 22.318125 \r\n\" style=\"fill:none;stroke:#000000;stroke-linecap:square;stroke-linejoin:miter;stroke-width:0.8;\"/>\r\n   </g>\r\n   <g id=\"patch_4\">\r\n    <path d=\"M 378.58125 239.758125 \r\nL 378.58125 22.318125 \r\n\" style=\"fill:none;stroke:#000000;stroke-linecap:square;stroke-linejoin:miter;stroke-width:0.8;\"/>\r\n   </g>\r\n   <g id=\"patch_5\">\r\n    <path d=\"M 43.78125 239.758125 \r\nL 378.58125 239.758125 \r\n\" style=\"fill:none;stroke:#000000;stroke-linecap:square;stroke-linejoin:miter;stroke-width:0.8;\"/>\r\n   </g>\r\n   <g id=\"patch_6\">\r\n    <path d=\"M 43.78125 22.318125 \r\nL 378.58125 22.318125 \r\n\" style=\"fill:none;stroke:#000000;stroke-linecap:square;stroke-linejoin:miter;stroke-width:0.8;\"/>\r\n   </g>\r\n   <g id=\"text_18\">\r\n    <!-- Loss vs. epochs -->\r\n    <g transform=\"translate(164.22375 16.318125)scale(0.12 -0.12)\">\r\n     <defs>\r\n      <path id=\"DejaVuSans-32\"/>\r\n      <path d=\"M 2.984375 54.6875 \r\nL 12.5 54.6875 \r\nL 29.59375 8.796875 \r\nL 46.6875 54.6875 \r\nL 56.203125 54.6875 \r\nL 35.6875 0 \r\nL 23.484375 0 \r\nz\r\n\" id=\"DejaVuSans-118\"/>\r\n      <path d=\"M 56.203125 29.59375 \r\nL 56.203125 25.203125 \r\nL 14.890625 25.203125 \r\nQ 15.484375 15.921875 20.484375 11.0625 \r\nQ 25.484375 6.203125 34.421875 6.203125 \r\nQ 39.59375 6.203125 44.453125 7.46875 \r\nQ 49.3125 8.734375 54.109375 11.28125 \r\nL 54.109375 2.78125 \r\nQ 49.265625 0.734375 44.1875 -0.34375 \r\nQ 39.109375 -1.421875 33.890625 -1.421875 \r\nQ 20.796875 -1.421875 13.15625 6.1875 \r\nQ 5.515625 13.8125 5.515625 26.8125 \r\nQ 5.515625 40.234375 12.765625 48.109375 \r\nQ 20.015625 56 32.328125 56 \r\nQ 43.359375 56 49.78125 48.890625 \r\nQ 56.203125 41.796875 56.203125 29.59375 \r\nz\r\nM 47.21875 32.234375 \r\nQ 47.125 39.59375 43.09375 43.984375 \r\nQ 39.0625 48.390625 32.421875 48.390625 \r\nQ 24.90625 48.390625 20.390625 44.140625 \r\nQ 15.875 39.890625 15.1875 32.171875 \r\nz\r\n\" id=\"DejaVuSans-101\"/>\r\n     </defs>\r\n     <use xlink:href=\"#DejaVuSans-76\"/>\r\n     <use x=\"53.962891\" xlink:href=\"#DejaVuSans-111\"/>\r\n     <use x=\"115.144531\" xlink:href=\"#DejaVuSans-115\"/>\r\n     <use x=\"167.244141\" xlink:href=\"#DejaVuSans-115\"/>\r\n     <use x=\"219.34375\" xlink:href=\"#DejaVuSans-32\"/>\r\n     <use x=\"251.130859\" xlink:href=\"#DejaVuSans-118\"/>\r\n     <use x=\"310.310547\" xlink:href=\"#DejaVuSans-115\"/>\r\n     <use x=\"362.410156\" xlink:href=\"#DejaVuSans-46\"/>\r\n     <use x=\"394.197266\" xlink:href=\"#DejaVuSans-32\"/>\r\n     <use x=\"425.984375\" xlink:href=\"#DejaVuSans-101\"/>\r\n     <use x=\"487.507812\" xlink:href=\"#DejaVuSans-112\"/>\r\n     <use x=\"550.984375\" xlink:href=\"#DejaVuSans-111\"/>\r\n     <use x=\"612.166016\" xlink:href=\"#DejaVuSans-99\"/>\r\n     <use x=\"667.146484\" xlink:href=\"#DejaVuSans-104\"/>\r\n     <use x=\"730.525391\" xlink:href=\"#DejaVuSans-115\"/>\r\n    </g>\r\n   </g>\r\n   <g id=\"legend_1\">\r\n    <g id=\"patch_7\">\r\n     <path d=\"M 290.2 59.674375 \r\nL 371.58125 59.674375 \r\nQ 373.58125 59.674375 373.58125 57.674375 \r\nL 373.58125 29.318125 \r\nQ 373.58125 27.318125 371.58125 27.318125 \r\nL 290.2 27.318125 \r\nQ 288.2 27.318125 288.2 29.318125 \r\nL 288.2 57.674375 \r\nQ 288.2 59.674375 290.2 59.674375 \r\nz\r\n\" style=\"fill:#ffffff;opacity:0.8;stroke:#cccccc;stroke-linejoin:miter;\"/>\r\n    </g>\r\n    <g id=\"line2d_18\">\r\n     <path d=\"M 292.2 35.416562 \r\nL 312.2 35.416562 \r\n\" style=\"fill:none;stroke:#1f77b4;stroke-linecap:square;stroke-width:1.5;\"/>\r\n    </g>\r\n    <g id=\"line2d_19\"/>\r\n    <g id=\"text_19\">\r\n     <!-- Training -->\r\n     <g transform=\"translate(320.2 38.916562)scale(0.1 -0.1)\">\r\n      <defs>\r\n       <path d=\"M -0.296875 72.90625 \r\nL 61.375 72.90625 \r\nL 61.375 64.59375 \r\nL 35.5 64.59375 \r\nL 35.5 0 \r\nL 25.59375 0 \r\nL 25.59375 64.59375 \r\nL -0.296875 64.59375 \r\nz\r\n\" id=\"DejaVuSans-84\"/>\r\n       <path d=\"M 41.109375 46.296875 \r\nQ 39.59375 47.171875 37.8125 47.578125 \r\nQ 36.03125 48 33.890625 48 \r\nQ 26.265625 48 22.1875 43.046875 \r\nQ 18.109375 38.09375 18.109375 28.8125 \r\nL 18.109375 0 \r\nL 9.078125 0 \r\nL 9.078125 54.6875 \r\nL 18.109375 54.6875 \r\nL 18.109375 46.1875 \r\nQ 20.953125 51.171875 25.484375 53.578125 \r\nQ 30.03125 56 36.53125 56 \r\nQ 37.453125 56 38.578125 55.875 \r\nQ 39.703125 55.765625 41.0625 55.515625 \r\nz\r\n\" id=\"DejaVuSans-114\"/>\r\n       <path d=\"M 34.28125 27.484375 \r\nQ 23.390625 27.484375 19.1875 25 \r\nQ 14.984375 22.515625 14.984375 16.5 \r\nQ 14.984375 11.71875 18.140625 8.90625 \r\nQ 21.296875 6.109375 26.703125 6.109375 \r\nQ 34.1875 6.109375 38.703125 11.40625 \r\nQ 43.21875 16.703125 43.21875 25.484375 \r\nL 43.21875 27.484375 \r\nz\r\nM 52.203125 31.203125 \r\nL 52.203125 0 \r\nL 43.21875 0 \r\nL 43.21875 8.296875 \r\nQ 40.140625 3.328125 35.546875 0.953125 \r\nQ 30.953125 -1.421875 24.3125 -1.421875 \r\nQ 15.921875 -1.421875 10.953125 3.296875 \r\nQ 6 8.015625 6 15.921875 \r\nQ 6 25.140625 12.171875 29.828125 \r\nQ 18.359375 34.515625 30.609375 34.515625 \r\nL 43.21875 34.515625 \r\nL 43.21875 35.40625 \r\nQ 43.21875 41.609375 39.140625 45 \r\nQ 35.0625 48.390625 27.6875 48.390625 \r\nQ 23 48.390625 18.546875 47.265625 \r\nQ 14.109375 46.140625 10.015625 43.890625 \r\nL 10.015625 52.203125 \r\nQ 14.9375 54.109375 19.578125 55.046875 \r\nQ 24.21875 56 28.609375 56 \r\nQ 40.484375 56 46.34375 49.84375 \r\nQ 52.203125 43.703125 52.203125 31.203125 \r\nz\r\n\" id=\"DejaVuSans-97\"/>\r\n       <path d=\"M 9.421875 54.6875 \r\nL 18.40625 54.6875 \r\nL 18.40625 0 \r\nL 9.421875 0 \r\nz\r\nM 9.421875 75.984375 \r\nL 18.40625 75.984375 \r\nL 18.40625 64.59375 \r\nL 9.421875 64.59375 \r\nz\r\n\" id=\"DejaVuSans-105\"/>\r\n       <path d=\"M 54.890625 33.015625 \r\nL 54.890625 0 \r\nL 45.90625 0 \r\nL 45.90625 32.71875 \r\nQ 45.90625 40.484375 42.875 44.328125 \r\nQ 39.84375 48.1875 33.796875 48.1875 \r\nQ 26.515625 48.1875 22.3125 43.546875 \r\nQ 18.109375 38.921875 18.109375 30.90625 \r\nL 18.109375 0 \r\nL 9.078125 0 \r\nL 9.078125 54.6875 \r\nL 18.109375 54.6875 \r\nL 18.109375 46.1875 \r\nQ 21.34375 51.125 25.703125 53.5625 \r\nQ 30.078125 56 35.796875 56 \r\nQ 45.21875 56 50.046875 50.171875 \r\nQ 54.890625 44.34375 54.890625 33.015625 \r\nz\r\n\" id=\"DejaVuSans-110\"/>\r\n       <path d=\"M 45.40625 27.984375 \r\nQ 45.40625 37.75 41.375 43.109375 \r\nQ 37.359375 48.484375 30.078125 48.484375 \r\nQ 22.859375 48.484375 18.828125 43.109375 \r\nQ 14.796875 37.75 14.796875 27.984375 \r\nQ 14.796875 18.265625 18.828125 12.890625 \r\nQ 22.859375 7.515625 30.078125 7.515625 \r\nQ 37.359375 7.515625 41.375 12.890625 \r\nQ 45.40625 18.265625 45.40625 27.984375 \r\nz\r\nM 54.390625 6.78125 \r\nQ 54.390625 -7.171875 48.1875 -13.984375 \r\nQ 42 -20.796875 29.203125 -20.796875 \r\nQ 24.46875 -20.796875 20.265625 -20.09375 \r\nQ 16.0625 -19.390625 12.109375 -17.921875 \r\nL 12.109375 -9.1875 \r\nQ 16.0625 -11.328125 19.921875 -12.34375 \r\nQ 23.78125 -13.375 27.78125 -13.375 \r\nQ 36.625 -13.375 41.015625 -8.765625 \r\nQ 45.40625 -4.15625 45.40625 5.171875 \r\nL 45.40625 9.625 \r\nQ 42.625 4.78125 38.28125 2.390625 \r\nQ 33.9375 0 27.875 0 \r\nQ 17.828125 0 11.671875 7.65625 \r\nQ 5.515625 15.328125 5.515625 27.984375 \r\nQ 5.515625 40.671875 11.671875 48.328125 \r\nQ 17.828125 56 27.875 56 \r\nQ 33.9375 56 38.28125 53.609375 \r\nQ 42.625 51.21875 45.40625 46.390625 \r\nL 45.40625 54.6875 \r\nL 54.390625 54.6875 \r\nz\r\n\" id=\"DejaVuSans-103\"/>\r\n      </defs>\r\n      <use xlink:href=\"#DejaVuSans-84\"/>\r\n      <use x=\"46.333984\" xlink:href=\"#DejaVuSans-114\"/>\r\n      <use x=\"87.447266\" xlink:href=\"#DejaVuSans-97\"/>\r\n      <use x=\"148.726562\" xlink:href=\"#DejaVuSans-105\"/>\r\n      <use x=\"176.509766\" xlink:href=\"#DejaVuSans-110\"/>\r\n      <use x=\"239.888672\" xlink:href=\"#DejaVuSans-105\"/>\r\n      <use x=\"267.671875\" xlink:href=\"#DejaVuSans-110\"/>\r\n      <use x=\"331.050781\" xlink:href=\"#DejaVuSans-103\"/>\r\n     </g>\r\n    </g>\r\n    <g id=\"line2d_20\">\r\n     <path d=\"M 292.2 50.094687 \r\nL 312.2 50.094687 \r\n\" style=\"fill:none;stroke:#ff7f0e;stroke-linecap:square;stroke-width:1.5;\"/>\r\n    </g>\r\n    <g id=\"line2d_21\"/>\r\n    <g id=\"text_20\">\r\n     <!-- Validation -->\r\n     <g transform=\"translate(320.2 53.594687)scale(0.1 -0.1)\">\r\n      <defs>\r\n       <path d=\"M 28.609375 0 \r\nL 0.78125 72.90625 \r\nL 11.078125 72.90625 \r\nL 34.1875 11.53125 \r\nL 57.328125 72.90625 \r\nL 67.578125 72.90625 \r\nL 39.796875 0 \r\nz\r\n\" id=\"DejaVuSans-86\"/>\r\n       <path d=\"M 9.421875 75.984375 \r\nL 18.40625 75.984375 \r\nL 18.40625 0 \r\nL 9.421875 0 \r\nz\r\n\" id=\"DejaVuSans-108\"/>\r\n       <path d=\"M 45.40625 46.390625 \r\nL 45.40625 75.984375 \r\nL 54.390625 75.984375 \r\nL 54.390625 0 \r\nL 45.40625 0 \r\nL 45.40625 8.203125 \r\nQ 42.578125 3.328125 38.25 0.953125 \r\nQ 33.9375 -1.421875 27.875 -1.421875 \r\nQ 17.96875 -1.421875 11.734375 6.484375 \r\nQ 5.515625 14.40625 5.515625 27.296875 \r\nQ 5.515625 40.1875 11.734375 48.09375 \r\nQ 17.96875 56 27.875 56 \r\nQ 33.9375 56 38.25 53.625 \r\nQ 42.578125 51.265625 45.40625 46.390625 \r\nz\r\nM 14.796875 27.296875 \r\nQ 14.796875 17.390625 18.875 11.75 \r\nQ 22.953125 6.109375 30.078125 6.109375 \r\nQ 37.203125 6.109375 41.296875 11.75 \r\nQ 45.40625 17.390625 45.40625 27.296875 \r\nQ 45.40625 37.203125 41.296875 42.84375 \r\nQ 37.203125 48.484375 30.078125 48.484375 \r\nQ 22.953125 48.484375 18.875 42.84375 \r\nQ 14.796875 37.203125 14.796875 27.296875 \r\nz\r\n\" id=\"DejaVuSans-100\"/>\r\n       <path d=\"M 18.3125 70.21875 \r\nL 18.3125 54.6875 \r\nL 36.8125 54.6875 \r\nL 36.8125 47.703125 \r\nL 18.3125 47.703125 \r\nL 18.3125 18.015625 \r\nQ 18.3125 11.328125 20.140625 9.421875 \r\nQ 21.96875 7.515625 27.59375 7.515625 \r\nL 36.8125 7.515625 \r\nL 36.8125 0 \r\nL 27.59375 0 \r\nQ 17.1875 0 13.234375 3.875 \r\nQ 9.28125 7.765625 9.28125 18.015625 \r\nL 9.28125 47.703125 \r\nL 2.6875 47.703125 \r\nL 2.6875 54.6875 \r\nL 9.28125 54.6875 \r\nL 9.28125 70.21875 \r\nz\r\n\" id=\"DejaVuSans-116\"/>\r\n      </defs>\r\n      <use xlink:href=\"#DejaVuSans-86\"/>\r\n      <use x=\"60.658203\" xlink:href=\"#DejaVuSans-97\"/>\r\n      <use x=\"121.9375\" xlink:href=\"#DejaVuSans-108\"/>\r\n      <use x=\"149.720703\" xlink:href=\"#DejaVuSans-105\"/>\r\n      <use x=\"177.503906\" xlink:href=\"#DejaVuSans-100\"/>\r\n      <use x=\"240.980469\" xlink:href=\"#DejaVuSans-97\"/>\r\n      <use x=\"302.259766\" xlink:href=\"#DejaVuSans-116\"/>\r\n      <use x=\"341.46875\" xlink:href=\"#DejaVuSans-105\"/>\r\n      <use x=\"369.251953\" xlink:href=\"#DejaVuSans-111\"/>\r\n      <use x=\"430.433594\" xlink:href=\"#DejaVuSans-110\"/>\r\n     </g>\r\n    </g>\r\n   </g>\r\n  </g>\r\n </g>\r\n <defs>\r\n  <clipPath id=\"p4d32e9350c\">\r\n   <rect height=\"217.44\" width=\"334.8\" x=\"43.78125\" y=\"22.318125\"/>\r\n  </clipPath>\r\n </defs>\r\n</svg>\r\n",
      "image/png": "[encoded data removed]"
     },
     "metadata": {
      "needs_background": "light"
     }
    }
   ],
   "source": [
    "plt.plot(history.history['loss'])\n",
    "plt.plot(history.history['val_loss'])\n",
    "plt.title('Loss vs. epochs')\n",
    "plt.ylabel('Loss')\n",
    "plt.xlabel('Epoch')\n",
    "plt.legend(['Training', 'Validation'], loc='upper right')\n",
    "plt.show()"
   ]
  },
  {
   "cell_type": "code",
   "execution_count": 29,
   "metadata": {},
   "outputs": [
    {
     "output_type": "display_data",
     "data": {
      "text/plain": "<Figure size 432x288 with 1 Axes>",
      "image/svg+xml": "<?xml version=\"1.0\" encoding=\"utf-8\" standalone=\"no\"?>\r\n<!DOCTYPE svg PUBLIC \"-//W3C//DTD SVG 1.1//EN\"\r\n  \"http://www.w3.org/Graphics/SVG/1.1/DTD/svg11.dtd\">\r\n<!-- Created with matplotlib (https://matplotlib.org/) -->\r\n<svg height=\"277.314375pt\" version=\"1.1\" viewBox=\"0 0 392.14375 277.314375\" width=\"392.14375pt\" xmlns=\"http://www.w3.org/2000/svg\" xmlns:xlink=\"http://www.w3.org/1999/xlink\">\r\n <metadata>\r\n  <rdf:RDF xmlns:cc=\"http://creativecommons.org/ns#\" xmlns:dc=\"http://purl.org/dc/elements/1.1/\" xmlns:rdf=\"http://www.w3.org/1999/02/22-rdf-syntax-ns#\">\r\n   <cc:Work>\r\n    <dc:type rdf:resource=\"http://purl.org/dc/dcmitype/StillImage\"/>\r\n    <dc:date>2020-10-27T12:27:44.085298</dc:date>\r\n    <dc:format>image/svg+xml</dc:format>\r\n    <dc:creator>\r\n     <cc:Agent>\r\n      <dc:title>Matplotlib v3.3.1, https://matplotlib.org/</dc:title>\r\n     </cc:Agent>\r\n    </dc:creator>\r\n   </cc:Work>\r\n  </rdf:RDF>\r\n </metadata>\r\n <defs>\r\n  <style type=\"text/css\">*{stroke-linecap:butt;stroke-linejoin:round;}</style>\r\n </defs>\r\n <g id=\"figure_1\">\r\n  <g id=\"patch_1\">\r\n   <path d=\"M 0 277.314375 \r\nL 392.14375 277.314375 \r\nL 392.14375 0 \r\nL 0 0 \r\nz\r\n\" style=\"fill:none;\"/>\r\n  </g>\r\n  <g id=\"axes_1\">\r\n   <g id=\"patch_2\">\r\n    <path d=\"M 50.14375 239.758125 \r\nL 384.94375 239.758125 \r\nL 384.94375 22.318125 \r\nL 50.14375 22.318125 \r\nz\r\n\" style=\"fill:#ffffff;\"/>\r\n   </g>\r\n   <g id=\"matplotlib.axis_1\">\r\n    <g id=\"xtick_1\">\r\n     <g id=\"line2d_1\">\r\n      <defs>\r\n       <path d=\"M 0 0 \r\nL 0 3.5 \r\n\" id=\"md25102de38\" style=\"stroke:#000000;stroke-width:0.8;\"/>\r\n      </defs>\r\n      <g>\r\n       <use style=\"stroke:#000000;stroke-width:0.8;\" x=\"65.361932\" xlink:href=\"#md25102de38\" y=\"239.758125\"/>\r\n      </g>\r\n     </g>\r\n     <g id=\"text_1\">\r\n      <!-- 0.0 -->\r\n      <g transform=\"translate(57.410369 254.356562)scale(0.1 -0.1)\">\r\n       <defs>\r\n        <path d=\"M 31.78125 66.40625 \r\nQ 24.171875 66.40625 20.328125 58.90625 \r\nQ 16.5 51.421875 16.5 36.375 \r\nQ 16.5 21.390625 20.328125 13.890625 \r\nQ 24.171875 6.390625 31.78125 6.390625 \r\nQ 39.453125 6.390625 43.28125 13.890625 \r\nQ 47.125 21.390625 47.125 36.375 \r\nQ 47.125 51.421875 43.28125 58.90625 \r\nQ 39.453125 66.40625 31.78125 66.40625 \r\nz\r\nM 31.78125 74.21875 \r\nQ 44.046875 74.21875 50.515625 64.515625 \r\nQ 56.984375 54.828125 56.984375 36.375 \r\nQ 56.984375 17.96875 50.515625 8.265625 \r\nQ 44.046875 -1.421875 31.78125 -1.421875 \r\nQ 19.53125 -1.421875 13.0625 8.265625 \r\nQ 6.59375 17.96875 6.59375 36.375 \r\nQ 6.59375 54.828125 13.0625 64.515625 \r\nQ 19.53125 74.21875 31.78125 74.21875 \r\nz\r\n\" id=\"DejaVuSans-48\"/>\r\n        <path d=\"M 10.6875 12.40625 \r\nL 21 12.40625 \r\nL 21 0 \r\nL 10.6875 0 \r\nz\r\n\" id=\"DejaVuSans-46\"/>\r\n       </defs>\r\n       <use xlink:href=\"#DejaVuSans-48\"/>\r\n       <use x=\"63.623047\" xlink:href=\"#DejaVuSans-46\"/>\r\n       <use x=\"95.410156\" xlink:href=\"#DejaVuSans-48\"/>\r\n      </g>\r\n     </g>\r\n    </g>\r\n    <g id=\"xtick_2\">\r\n     <g id=\"line2d_2\">\r\n      <g>\r\n       <use style=\"stroke:#000000;stroke-width:0.8;\" x=\"105.409779\" xlink:href=\"#md25102de38\" y=\"239.758125\"/>\r\n      </g>\r\n     </g>\r\n     <g id=\"text_2\">\r\n      <!-- 2.5 -->\r\n      <g transform=\"translate(97.458216 254.356562)scale(0.1 -0.1)\">\r\n       <defs>\r\n        <path d=\"M 19.1875 8.296875 \r\nL 53.609375 8.296875 \r\nL 53.609375 0 \r\nL 7.328125 0 \r\nL 7.328125 8.296875 \r\nQ 12.9375 14.109375 22.625 23.890625 \r\nQ 32.328125 33.6875 34.8125 36.53125 \r\nQ 39.546875 41.84375 41.421875 45.53125 \r\nQ 43.3125 49.21875 43.3125 52.78125 \r\nQ 43.3125 58.59375 39.234375 62.25 \r\nQ 35.15625 65.921875 28.609375 65.921875 \r\nQ 23.96875 65.921875 18.8125 64.3125 \r\nQ 13.671875 62.703125 7.8125 59.421875 \r\nL 7.8125 69.390625 \r\nQ 13.765625 71.78125 18.9375 73 \r\nQ 24.125 74.21875 28.421875 74.21875 \r\nQ 39.75 74.21875 46.484375 68.546875 \r\nQ 53.21875 62.890625 53.21875 53.421875 \r\nQ 53.21875 48.921875 51.53125 44.890625 \r\nQ 49.859375 40.875 45.40625 35.40625 \r\nQ 44.1875 33.984375 37.640625 27.21875 \r\nQ 31.109375 20.453125 19.1875 8.296875 \r\nz\r\n\" id=\"DejaVuSans-50\"/>\r\n        <path d=\"M 10.796875 72.90625 \r\nL 49.515625 72.90625 \r\nL 49.515625 64.59375 \r\nL 19.828125 64.59375 \r\nL 19.828125 46.734375 \r\nQ 21.96875 47.46875 24.109375 47.828125 \r\nQ 26.265625 48.1875 28.421875 48.1875 \r\nQ 40.625 48.1875 47.75 41.5 \r\nQ 54.890625 34.8125 54.890625 23.390625 \r\nQ 54.890625 11.625 47.5625 5.09375 \r\nQ 40.234375 -1.421875 26.90625 -1.421875 \r\nQ 22.3125 -1.421875 17.546875 -0.640625 \r\nQ 12.796875 0.140625 7.71875 1.703125 \r\nL 7.71875 11.625 \r\nQ 12.109375 9.234375 16.796875 8.0625 \r\nQ 21.484375 6.890625 26.703125 6.890625 \r\nQ 35.15625 6.890625 40.078125 11.328125 \r\nQ 45.015625 15.765625 45.015625 23.390625 \r\nQ 45.015625 31 40.078125 35.4375 \r\nQ 35.15625 39.890625 26.703125 39.890625 \r\nQ 22.75 39.890625 18.8125 39.015625 \r\nQ 14.890625 38.140625 10.796875 36.28125 \r\nz\r\n\" id=\"DejaVuSans-53\"/>\r\n       </defs>\r\n       <use xlink:href=\"#DejaVuSans-50\"/>\r\n       <use x=\"63.623047\" xlink:href=\"#DejaVuSans-46\"/>\r\n       <use x=\"95.410156\" xlink:href=\"#DejaVuSans-53\"/>\r\n      </g>\r\n     </g>\r\n    </g>\r\n    <g id=\"xtick_3\">\r\n     <g id=\"line2d_3\">\r\n      <g>\r\n       <use style=\"stroke:#000000;stroke-width:0.8;\" x=\"145.457626\" xlink:href=\"#md25102de38\" y=\"239.758125\"/>\r\n      </g>\r\n     </g>\r\n     <g id=\"text_3\">\r\n      <!-- 5.0 -->\r\n      <g transform=\"translate(137.506063 254.356562)scale(0.1 -0.1)\">\r\n       <use xlink:href=\"#DejaVuSans-53\"/>\r\n       <use x=\"63.623047\" xlink:href=\"#DejaVuSans-46\"/>\r\n       <use x=\"95.410156\" xlink:href=\"#DejaVuSans-48\"/>\r\n      </g>\r\n     </g>\r\n    </g>\r\n    <g id=\"xtick_4\">\r\n     <g id=\"line2d_4\">\r\n      <g>\r\n       <use style=\"stroke:#000000;stroke-width:0.8;\" x=\"185.505472\" xlink:href=\"#md25102de38\" y=\"239.758125\"/>\r\n      </g>\r\n     </g>\r\n     <g id=\"text_4\">\r\n      <!-- 7.5 -->\r\n      <g transform=\"translate(177.55391 254.356562)scale(0.1 -0.1)\">\r\n       <defs>\r\n        <path d=\"M 8.203125 72.90625 \r\nL 55.078125 72.90625 \r\nL 55.078125 68.703125 \r\nL 28.609375 0 \r\nL 18.3125 0 \r\nL 43.21875 64.59375 \r\nL 8.203125 64.59375 \r\nz\r\n\" id=\"DejaVuSans-55\"/>\r\n       </defs>\r\n       <use xlink:href=\"#DejaVuSans-55\"/>\r\n       <use x=\"63.623047\" xlink:href=\"#DejaVuSans-46\"/>\r\n       <use x=\"95.410156\" xlink:href=\"#DejaVuSans-53\"/>\r\n      </g>\r\n     </g>\r\n    </g>\r\n    <g id=\"xtick_5\">\r\n     <g id=\"line2d_5\">\r\n      <g>\r\n       <use style=\"stroke:#000000;stroke-width:0.8;\" x=\"225.553319\" xlink:href=\"#md25102de38\" y=\"239.758125\"/>\r\n      </g>\r\n     </g>\r\n     <g id=\"text_5\">\r\n      <!-- 10.0 -->\r\n      <g transform=\"translate(214.420507 254.356562)scale(0.1 -0.1)\">\r\n       <defs>\r\n        <path d=\"M 12.40625 8.296875 \r\nL 28.515625 8.296875 \r\nL 28.515625 63.921875 \r\nL 10.984375 60.40625 \r\nL 10.984375 69.390625 \r\nL 28.421875 72.90625 \r\nL 38.28125 72.90625 \r\nL 38.28125 8.296875 \r\nL 54.390625 8.296875 \r\nL 54.390625 0 \r\nL 12.40625 0 \r\nz\r\n\" id=\"DejaVuSans-49\"/>\r\n       </defs>\r\n       <use xlink:href=\"#DejaVuSans-49\"/>\r\n       <use x=\"63.623047\" xlink:href=\"#DejaVuSans-48\"/>\r\n       <use x=\"127.246094\" xlink:href=\"#DejaVuSans-46\"/>\r\n       <use x=\"159.033203\" xlink:href=\"#DejaVuSans-48\"/>\r\n      </g>\r\n     </g>\r\n    </g>\r\n    <g id=\"xtick_6\">\r\n     <g id=\"line2d_6\">\r\n      <g>\r\n       <use style=\"stroke:#000000;stroke-width:0.8;\" x=\"265.601166\" xlink:href=\"#md25102de38\" y=\"239.758125\"/>\r\n      </g>\r\n     </g>\r\n     <g id=\"text_6\">\r\n      <!-- 12.5 -->\r\n      <g transform=\"translate(254.468354 254.356562)scale(0.1 -0.1)\">\r\n       <use xlink:href=\"#DejaVuSans-49\"/>\r\n       <use x=\"63.623047\" xlink:href=\"#DejaVuSans-50\"/>\r\n       <use x=\"127.246094\" xlink:href=\"#DejaVuSans-46\"/>\r\n       <use x=\"159.033203\" xlink:href=\"#DejaVuSans-53\"/>\r\n      </g>\r\n     </g>\r\n    </g>\r\n    <g id=\"xtick_7\">\r\n     <g id=\"line2d_7\">\r\n      <g>\r\n       <use style=\"stroke:#000000;stroke-width:0.8;\" x=\"305.649013\" xlink:href=\"#md25102de38\" y=\"239.758125\"/>\r\n      </g>\r\n     </g>\r\n     <g id=\"text_7\">\r\n      <!-- 15.0 -->\r\n      <g transform=\"translate(294.516201 254.356562)scale(0.1 -0.1)\">\r\n       <use xlink:href=\"#DejaVuSans-49\"/>\r\n       <use x=\"63.623047\" xlink:href=\"#DejaVuSans-53\"/>\r\n       <use x=\"127.246094\" xlink:href=\"#DejaVuSans-46\"/>\r\n       <use x=\"159.033203\" xlink:href=\"#DejaVuSans-48\"/>\r\n      </g>\r\n     </g>\r\n    </g>\r\n    <g id=\"xtick_8\">\r\n     <g id=\"line2d_8\">\r\n      <g>\r\n       <use style=\"stroke:#000000;stroke-width:0.8;\" x=\"345.69686\" xlink:href=\"#md25102de38\" y=\"239.758125\"/>\r\n      </g>\r\n     </g>\r\n     <g id=\"text_8\">\r\n      <!-- 17.5 -->\r\n      <g transform=\"translate(334.564048 254.356562)scale(0.1 -0.1)\">\r\n       <use xlink:href=\"#DejaVuSans-49\"/>\r\n       <use x=\"63.623047\" xlink:href=\"#DejaVuSans-55\"/>\r\n       <use x=\"127.246094\" xlink:href=\"#DejaVuSans-46\"/>\r\n       <use x=\"159.033203\" xlink:href=\"#DejaVuSans-53\"/>\r\n      </g>\r\n     </g>\r\n    </g>\r\n    <g id=\"text_9\">\r\n     <!-- Epoch -->\r\n     <g transform=\"translate(202.232813 268.034687)scale(0.1 -0.1)\">\r\n      <defs>\r\n       <path d=\"M 9.8125 72.90625 \r\nL 55.90625 72.90625 \r\nL 55.90625 64.59375 \r\nL 19.671875 64.59375 \r\nL 19.671875 43.015625 \r\nL 54.390625 43.015625 \r\nL 54.390625 34.71875 \r\nL 19.671875 34.71875 \r\nL 19.671875 8.296875 \r\nL 56.78125 8.296875 \r\nL 56.78125 0 \r\nL 9.8125 0 \r\nz\r\n\" id=\"DejaVuSans-69\"/>\r\n       <path d=\"M 18.109375 8.203125 \r\nL 18.109375 -20.796875 \r\nL 9.078125 -20.796875 \r\nL 9.078125 54.6875 \r\nL 18.109375 54.6875 \r\nL 18.109375 46.390625 \r\nQ 20.953125 51.265625 25.265625 53.625 \r\nQ 29.59375 56 35.59375 56 \r\nQ 45.5625 56 51.78125 48.09375 \r\nQ 58.015625 40.1875 58.015625 27.296875 \r\nQ 58.015625 14.40625 51.78125 6.484375 \r\nQ 45.5625 -1.421875 35.59375 -1.421875 \r\nQ 29.59375 -1.421875 25.265625 0.953125 \r\nQ 20.953125 3.328125 18.109375 8.203125 \r\nz\r\nM 48.6875 27.296875 \r\nQ 48.6875 37.203125 44.609375 42.84375 \r\nQ 40.53125 48.484375 33.40625 48.484375 \r\nQ 26.265625 48.484375 22.1875 42.84375 \r\nQ 18.109375 37.203125 18.109375 27.296875 \r\nQ 18.109375 17.390625 22.1875 11.75 \r\nQ 26.265625 6.109375 33.40625 6.109375 \r\nQ 40.53125 6.109375 44.609375 11.75 \r\nQ 48.6875 17.390625 48.6875 27.296875 \r\nz\r\n\" id=\"DejaVuSans-112\"/>\r\n       <path d=\"M 30.609375 48.390625 \r\nQ 23.390625 48.390625 19.1875 42.75 \r\nQ 14.984375 37.109375 14.984375 27.296875 \r\nQ 14.984375 17.484375 19.15625 11.84375 \r\nQ 23.34375 6.203125 30.609375 6.203125 \r\nQ 37.796875 6.203125 41.984375 11.859375 \r\nQ 46.1875 17.53125 46.1875 27.296875 \r\nQ 46.1875 37.015625 41.984375 42.703125 \r\nQ 37.796875 48.390625 30.609375 48.390625 \r\nz\r\nM 30.609375 56 \r\nQ 42.328125 56 49.015625 48.375 \r\nQ 55.71875 40.765625 55.71875 27.296875 \r\nQ 55.71875 13.875 49.015625 6.21875 \r\nQ 42.328125 -1.421875 30.609375 -1.421875 \r\nQ 18.84375 -1.421875 12.171875 6.21875 \r\nQ 5.515625 13.875 5.515625 27.296875 \r\nQ 5.515625 40.765625 12.171875 48.375 \r\nQ 18.84375 56 30.609375 56 \r\nz\r\n\" id=\"DejaVuSans-111\"/>\r\n       <path d=\"M 48.78125 52.59375 \r\nL 48.78125 44.1875 \r\nQ 44.96875 46.296875 41.140625 47.34375 \r\nQ 37.3125 48.390625 33.40625 48.390625 \r\nQ 24.65625 48.390625 19.8125 42.84375 \r\nQ 14.984375 37.3125 14.984375 27.296875 \r\nQ 14.984375 17.28125 19.8125 11.734375 \r\nQ 24.65625 6.203125 33.40625 6.203125 \r\nQ 37.3125 6.203125 41.140625 7.25 \r\nQ 44.96875 8.296875 48.78125 10.40625 \r\nL 48.78125 2.09375 \r\nQ 45.015625 0.34375 40.984375 -0.53125 \r\nQ 36.96875 -1.421875 32.421875 -1.421875 \r\nQ 20.0625 -1.421875 12.78125 6.34375 \r\nQ 5.515625 14.109375 5.515625 27.296875 \r\nQ 5.515625 40.671875 12.859375 48.328125 \r\nQ 20.21875 56 33.015625 56 \r\nQ 37.15625 56 41.109375 55.140625 \r\nQ 45.0625 54.296875 48.78125 52.59375 \r\nz\r\n\" id=\"DejaVuSans-99\"/>\r\n       <path d=\"M 54.890625 33.015625 \r\nL 54.890625 0 \r\nL 45.90625 0 \r\nL 45.90625 32.71875 \r\nQ 45.90625 40.484375 42.875 44.328125 \r\nQ 39.84375 48.1875 33.796875 48.1875 \r\nQ 26.515625 48.1875 22.3125 43.546875 \r\nQ 18.109375 38.921875 18.109375 30.90625 \r\nL 18.109375 0 \r\nL 9.078125 0 \r\nL 9.078125 75.984375 \r\nL 18.109375 75.984375 \r\nL 18.109375 46.1875 \r\nQ 21.34375 51.125 25.703125 53.5625 \r\nQ 30.078125 56 35.796875 56 \r\nQ 45.21875 56 50.046875 50.171875 \r\nQ 54.890625 44.34375 54.890625 33.015625 \r\nz\r\n\" id=\"DejaVuSans-104\"/>\r\n      </defs>\r\n      <use xlink:href=\"#DejaVuSans-69\"/>\r\n      <use x=\"63.183594\" xlink:href=\"#DejaVuSans-112\"/>\r\n      <use x=\"126.660156\" xlink:href=\"#DejaVuSans-111\"/>\r\n      <use x=\"187.841797\" xlink:href=\"#DejaVuSans-99\"/>\r\n      <use x=\"242.822266\" xlink:href=\"#DejaVuSans-104\"/>\r\n     </g>\r\n    </g>\r\n   </g>\r\n   <g id=\"matplotlib.axis_2\">\r\n    <g id=\"ytick_1\">\r\n     <g id=\"line2d_9\">\r\n      <defs>\r\n       <path d=\"M 0 0 \r\nL -3.5 0 \r\n\" id=\"m0d84eac81f\" style=\"stroke:#000000;stroke-width:0.8;\"/>\r\n      </defs>\r\n      <g>\r\n       <use style=\"stroke:#000000;stroke-width:0.8;\" x=\"50.14375\" xlink:href=\"#m0d84eac81f\" y=\"216.781887\"/>\r\n      </g>\r\n     </g>\r\n     <g id=\"text_10\">\r\n      <!-- 0.70 -->\r\n      <g transform=\"translate(20.878125 220.581106)scale(0.1 -0.1)\">\r\n       <use xlink:href=\"#DejaVuSans-48\"/>\r\n       <use x=\"63.623047\" xlink:href=\"#DejaVuSans-46\"/>\r\n       <use x=\"95.410156\" xlink:href=\"#DejaVuSans-55\"/>\r\n       <use x=\"159.033203\" xlink:href=\"#DejaVuSans-48\"/>\r\n      </g>\r\n     </g>\r\n    </g>\r\n    <g id=\"ytick_2\">\r\n     <g id=\"line2d_10\">\r\n      <g>\r\n       <use style=\"stroke:#000000;stroke-width:0.8;\" x=\"50.14375\" xlink:href=\"#m0d84eac81f\" y=\"185.59067\"/>\r\n      </g>\r\n     </g>\r\n     <g id=\"text_11\">\r\n      <!-- 0.75 -->\r\n      <g transform=\"translate(20.878125 189.389889)scale(0.1 -0.1)\">\r\n       <use xlink:href=\"#DejaVuSans-48\"/>\r\n       <use x=\"63.623047\" xlink:href=\"#DejaVuSans-46\"/>\r\n       <use x=\"95.410156\" xlink:href=\"#DejaVuSans-55\"/>\r\n       <use x=\"159.033203\" xlink:href=\"#DejaVuSans-53\"/>\r\n      </g>\r\n     </g>\r\n    </g>\r\n    <g id=\"ytick_3\">\r\n     <g id=\"line2d_11\">\r\n      <g>\r\n       <use style=\"stroke:#000000;stroke-width:0.8;\" x=\"50.14375\" xlink:href=\"#m0d84eac81f\" y=\"154.399453\"/>\r\n      </g>\r\n     </g>\r\n     <g id=\"text_12\">\r\n      <!-- 0.80 -->\r\n      <g transform=\"translate(20.878125 158.198671)scale(0.1 -0.1)\">\r\n       <defs>\r\n        <path d=\"M 31.78125 34.625 \r\nQ 24.75 34.625 20.71875 30.859375 \r\nQ 16.703125 27.09375 16.703125 20.515625 \r\nQ 16.703125 13.921875 20.71875 10.15625 \r\nQ 24.75 6.390625 31.78125 6.390625 \r\nQ 38.8125 6.390625 42.859375 10.171875 \r\nQ 46.921875 13.96875 46.921875 20.515625 \r\nQ 46.921875 27.09375 42.890625 30.859375 \r\nQ 38.875 34.625 31.78125 34.625 \r\nz\r\nM 21.921875 38.8125 \r\nQ 15.578125 40.375 12.03125 44.71875 \r\nQ 8.5 49.078125 8.5 55.328125 \r\nQ 8.5 64.0625 14.71875 69.140625 \r\nQ 20.953125 74.21875 31.78125 74.21875 \r\nQ 42.671875 74.21875 48.875 69.140625 \r\nQ 55.078125 64.0625 55.078125 55.328125 \r\nQ 55.078125 49.078125 51.53125 44.71875 \r\nQ 48 40.375 41.703125 38.8125 \r\nQ 48.828125 37.15625 52.796875 32.3125 \r\nQ 56.78125 27.484375 56.78125 20.515625 \r\nQ 56.78125 9.90625 50.3125 4.234375 \r\nQ 43.84375 -1.421875 31.78125 -1.421875 \r\nQ 19.734375 -1.421875 13.25 4.234375 \r\nQ 6.78125 9.90625 6.78125 20.515625 \r\nQ 6.78125 27.484375 10.78125 32.3125 \r\nQ 14.796875 37.15625 21.921875 38.8125 \r\nz\r\nM 18.3125 54.390625 \r\nQ 18.3125 48.734375 21.84375 45.5625 \r\nQ 25.390625 42.390625 31.78125 42.390625 \r\nQ 38.140625 42.390625 41.71875 45.5625 \r\nQ 45.3125 48.734375 45.3125 54.390625 \r\nQ 45.3125 60.0625 41.71875 63.234375 \r\nQ 38.140625 66.40625 31.78125 66.40625 \r\nQ 25.390625 66.40625 21.84375 63.234375 \r\nQ 18.3125 60.0625 18.3125 54.390625 \r\nz\r\n\" id=\"DejaVuSans-56\"/>\r\n       </defs>\r\n       <use xlink:href=\"#DejaVuSans-48\"/>\r\n       <use x=\"63.623047\" xlink:href=\"#DejaVuSans-46\"/>\r\n       <use x=\"95.410156\" xlink:href=\"#DejaVuSans-56\"/>\r\n       <use x=\"159.033203\" xlink:href=\"#DejaVuSans-48\"/>\r\n      </g>\r\n     </g>\r\n    </g>\r\n    <g id=\"ytick_4\">\r\n     <g id=\"line2d_12\">\r\n      <g>\r\n       <use style=\"stroke:#000000;stroke-width:0.8;\" x=\"50.14375\" xlink:href=\"#m0d84eac81f\" y=\"123.208236\"/>\r\n      </g>\r\n     </g>\r\n     <g id=\"text_13\">\r\n      <!-- 0.85 -->\r\n      <g transform=\"translate(20.878125 127.007454)scale(0.1 -0.1)\">\r\n       <use xlink:href=\"#DejaVuSans-48\"/>\r\n       <use x=\"63.623047\" xlink:href=\"#DejaVuSans-46\"/>\r\n       <use x=\"95.410156\" xlink:href=\"#DejaVuSans-56\"/>\r\n       <use x=\"159.033203\" xlink:href=\"#DejaVuSans-53\"/>\r\n      </g>\r\n     </g>\r\n    </g>\r\n    <g id=\"ytick_5\">\r\n     <g id=\"line2d_13\">\r\n      <g>\r\n       <use style=\"stroke:#000000;stroke-width:0.8;\" x=\"50.14375\" xlink:href=\"#m0d84eac81f\" y=\"92.017019\"/>\r\n      </g>\r\n     </g>\r\n     <g id=\"text_14\">\r\n      <!-- 0.90 -->\r\n      <g transform=\"translate(20.878125 95.816237)scale(0.1 -0.1)\">\r\n       <defs>\r\n        <path d=\"M 10.984375 1.515625 \r\nL 10.984375 10.5 \r\nQ 14.703125 8.734375 18.5 7.8125 \r\nQ 22.3125 6.890625 25.984375 6.890625 \r\nQ 35.75 6.890625 40.890625 13.453125 \r\nQ 46.046875 20.015625 46.78125 33.40625 \r\nQ 43.953125 29.203125 39.59375 26.953125 \r\nQ 35.25 24.703125 29.984375 24.703125 \r\nQ 19.046875 24.703125 12.671875 31.3125 \r\nQ 6.296875 37.9375 6.296875 49.421875 \r\nQ 6.296875 60.640625 12.9375 67.421875 \r\nQ 19.578125 74.21875 30.609375 74.21875 \r\nQ 43.265625 74.21875 49.921875 64.515625 \r\nQ 56.59375 54.828125 56.59375 36.375 \r\nQ 56.59375 19.140625 48.40625 8.859375 \r\nQ 40.234375 -1.421875 26.421875 -1.421875 \r\nQ 22.703125 -1.421875 18.890625 -0.6875 \r\nQ 15.09375 0.046875 10.984375 1.515625 \r\nz\r\nM 30.609375 32.421875 \r\nQ 37.25 32.421875 41.125 36.953125 \r\nQ 45.015625 41.5 45.015625 49.421875 \r\nQ 45.015625 57.28125 41.125 61.84375 \r\nQ 37.25 66.40625 30.609375 66.40625 \r\nQ 23.96875 66.40625 20.09375 61.84375 \r\nQ 16.21875 57.28125 16.21875 49.421875 \r\nQ 16.21875 41.5 20.09375 36.953125 \r\nQ 23.96875 32.421875 30.609375 32.421875 \r\nz\r\n\" id=\"DejaVuSans-57\"/>\r\n       </defs>\r\n       <use xlink:href=\"#DejaVuSans-48\"/>\r\n       <use x=\"63.623047\" xlink:href=\"#DejaVuSans-46\"/>\r\n       <use x=\"95.410156\" xlink:href=\"#DejaVuSans-57\"/>\r\n       <use x=\"159.033203\" xlink:href=\"#DejaVuSans-48\"/>\r\n      </g>\r\n     </g>\r\n    </g>\r\n    <g id=\"ytick_6\">\r\n     <g id=\"line2d_14\">\r\n      <g>\r\n       <use style=\"stroke:#000000;stroke-width:0.8;\" x=\"50.14375\" xlink:href=\"#m0d84eac81f\" y=\"60.825802\"/>\r\n      </g>\r\n     </g>\r\n     <g id=\"text_15\">\r\n      <!-- 0.95 -->\r\n      <g transform=\"translate(20.878125 64.62502)scale(0.1 -0.1)\">\r\n       <use xlink:href=\"#DejaVuSans-48\"/>\r\n       <use x=\"63.623047\" xlink:href=\"#DejaVuSans-46\"/>\r\n       <use x=\"95.410156\" xlink:href=\"#DejaVuSans-57\"/>\r\n       <use x=\"159.033203\" xlink:href=\"#DejaVuSans-53\"/>\r\n      </g>\r\n     </g>\r\n    </g>\r\n    <g id=\"ytick_7\">\r\n     <g id=\"line2d_15\">\r\n      <g>\r\n       <use style=\"stroke:#000000;stroke-width:0.8;\" x=\"50.14375\" xlink:href=\"#m0d84eac81f\" y=\"29.634585\"/>\r\n      </g>\r\n     </g>\r\n     <g id=\"text_16\">\r\n      <!-- 1.00 -->\r\n      <g transform=\"translate(20.878125 33.433803)scale(0.1 -0.1)\">\r\n       <use xlink:href=\"#DejaVuSans-49\"/>\r\n       <use x=\"63.623047\" xlink:href=\"#DejaVuSans-46\"/>\r\n       <use x=\"95.410156\" xlink:href=\"#DejaVuSans-48\"/>\r\n       <use x=\"159.033203\" xlink:href=\"#DejaVuSans-48\"/>\r\n      </g>\r\n     </g>\r\n    </g>\r\n    <g id=\"text_17\">\r\n     <!-- Accuracy -->\r\n     <g transform=\"translate(14.798438 153.86625)rotate(-90)scale(0.1 -0.1)\">\r\n      <defs>\r\n       <path d=\"M 34.1875 63.1875 \r\nL 20.796875 26.90625 \r\nL 47.609375 26.90625 \r\nz\r\nM 28.609375 72.90625 \r\nL 39.796875 72.90625 \r\nL 67.578125 0 \r\nL 57.328125 0 \r\nL 50.6875 18.703125 \r\nL 17.828125 18.703125 \r\nL 11.1875 0 \r\nL 0.78125 0 \r\nz\r\n\" id=\"DejaVuSans-65\"/>\r\n       <path d=\"M 8.5 21.578125 \r\nL 8.5 54.6875 \r\nL 17.484375 54.6875 \r\nL 17.484375 21.921875 \r\nQ 17.484375 14.15625 20.5 10.265625 \r\nQ 23.53125 6.390625 29.59375 6.390625 \r\nQ 36.859375 6.390625 41.078125 11.03125 \r\nQ 45.3125 15.671875 45.3125 23.6875 \r\nL 45.3125 54.6875 \r\nL 54.296875 54.6875 \r\nL 54.296875 0 \r\nL 45.3125 0 \r\nL 45.3125 8.40625 \r\nQ 42.046875 3.421875 37.71875 1 \r\nQ 33.40625 -1.421875 27.6875 -1.421875 \r\nQ 18.265625 -1.421875 13.375 4.4375 \r\nQ 8.5 10.296875 8.5 21.578125 \r\nz\r\nM 31.109375 56 \r\nz\r\n\" id=\"DejaVuSans-117\"/>\r\n       <path d=\"M 41.109375 46.296875 \r\nQ 39.59375 47.171875 37.8125 47.578125 \r\nQ 36.03125 48 33.890625 48 \r\nQ 26.265625 48 22.1875 43.046875 \r\nQ 18.109375 38.09375 18.109375 28.8125 \r\nL 18.109375 0 \r\nL 9.078125 0 \r\nL 9.078125 54.6875 \r\nL 18.109375 54.6875 \r\nL 18.109375 46.1875 \r\nQ 20.953125 51.171875 25.484375 53.578125 \r\nQ 30.03125 56 36.53125 56 \r\nQ 37.453125 56 38.578125 55.875 \r\nQ 39.703125 55.765625 41.0625 55.515625 \r\nz\r\n\" id=\"DejaVuSans-114\"/>\r\n       <path d=\"M 34.28125 27.484375 \r\nQ 23.390625 27.484375 19.1875 25 \r\nQ 14.984375 22.515625 14.984375 16.5 \r\nQ 14.984375 11.71875 18.140625 8.90625 \r\nQ 21.296875 6.109375 26.703125 6.109375 \r\nQ 34.1875 6.109375 38.703125 11.40625 \r\nQ 43.21875 16.703125 43.21875 25.484375 \r\nL 43.21875 27.484375 \r\nz\r\nM 52.203125 31.203125 \r\nL 52.203125 0 \r\nL 43.21875 0 \r\nL 43.21875 8.296875 \r\nQ 40.140625 3.328125 35.546875 0.953125 \r\nQ 30.953125 -1.421875 24.3125 -1.421875 \r\nQ 15.921875 -1.421875 10.953125 3.296875 \r\nQ 6 8.015625 6 15.921875 \r\nQ 6 25.140625 12.171875 29.828125 \r\nQ 18.359375 34.515625 30.609375 34.515625 \r\nL 43.21875 34.515625 \r\nL 43.21875 35.40625 \r\nQ 43.21875 41.609375 39.140625 45 \r\nQ 35.0625 48.390625 27.6875 48.390625 \r\nQ 23 48.390625 18.546875 47.265625 \r\nQ 14.109375 46.140625 10.015625 43.890625 \r\nL 10.015625 52.203125 \r\nQ 14.9375 54.109375 19.578125 55.046875 \r\nQ 24.21875 56 28.609375 56 \r\nQ 40.484375 56 46.34375 49.84375 \r\nQ 52.203125 43.703125 52.203125 31.203125 \r\nz\r\n\" id=\"DejaVuSans-97\"/>\r\n       <path d=\"M 32.171875 -5.078125 \r\nQ 28.375 -14.84375 24.75 -17.8125 \r\nQ 21.140625 -20.796875 15.09375 -20.796875 \r\nL 7.90625 -20.796875 \r\nL 7.90625 -13.28125 \r\nL 13.1875 -13.28125 \r\nQ 16.890625 -13.28125 18.9375 -11.515625 \r\nQ 21 -9.765625 23.484375 -3.21875 \r\nL 25.09375 0.875 \r\nL 2.984375 54.6875 \r\nL 12.5 54.6875 \r\nL 29.59375 11.921875 \r\nL 46.6875 54.6875 \r\nL 56.203125 54.6875 \r\nz\r\n\" id=\"DejaVuSans-121\"/>\r\n      </defs>\r\n      <use xlink:href=\"#DejaVuSans-65\"/>\r\n      <use x=\"66.658203\" xlink:href=\"#DejaVuSans-99\"/>\r\n      <use x=\"121.638672\" xlink:href=\"#DejaVuSans-99\"/>\r\n      <use x=\"176.619141\" xlink:href=\"#DejaVuSans-117\"/>\r\n      <use x=\"239.998047\" xlink:href=\"#DejaVuSans-114\"/>\r\n      <use x=\"281.111328\" xlink:href=\"#DejaVuSans-97\"/>\r\n      <use x=\"342.390625\" xlink:href=\"#DejaVuSans-99\"/>\r\n      <use x=\"397.371094\" xlink:href=\"#DejaVuSans-121\"/>\r\n     </g>\r\n    </g>\r\n   </g>\r\n   <g id=\"line2d_16\">\r\n    <path clip-path=\"url(#pc6b3e850b1)\" d=\"M 65.361932 229.874489 \r\nL 81.381071 184.948857 \r\nL 97.400209 156.709912 \r\nL 113.419348 120.769399 \r\nL 129.438487 115.635045 \r\nL 145.457626 98.948396 \r\nL 161.476764 86.112512 \r\nL 177.495903 84.828924 \r\nL 193.515042 68.142274 \r\nL 209.534181 59.157118 \r\nL 225.553319 57.87353 \r\nL 241.572458 46.321234 \r\nL 257.591597 52.739176 \r\nL 273.610736 48.888411 \r\nL 289.629874 39.903292 \r\nL 305.649013 41.18688 \r\nL 321.668152 36.052527 \r\nL 337.687291 32.201761 \r\nL 353.706429 32.201761 \r\nL 369.725568 32.201761 \r\n\" style=\"fill:none;stroke:#1f77b4;stroke-linecap:square;stroke-width:1.5;\"/>\r\n   </g>\r\n   <g id=\"line2d_17\">\r\n    <path clip-path=\"url(#pc6b3e850b1)\" d=\"M 65.361932 163.950821 \r\nL 81.381071 149.026787 \r\nL 97.400209 134.102789 \r\nL 113.419348 119.178755 \r\nL 129.438487 110.224349 \r\nL 145.457626 101.269906 \r\nL 161.476764 95.300314 \r\nL 177.495903 95.300314 \r\nL 193.515042 95.300314 \r\nL 209.534181 101.269906 \r\nL 225.553319 98.285092 \r\nL 241.572458 89.330686 \r\nL 257.591597 89.330686 \r\nL 273.610736 80.37628 \r\nL 289.629874 80.37628 \r\nL 305.649013 83.361094 \r\nL 321.668152 83.361094 \r\nL 337.687291 77.391465 \r\nL 353.706429 80.37628 \r\nL 369.725568 77.391465 \r\n\" style=\"fill:none;stroke:#ff7f0e;stroke-linecap:square;stroke-width:1.5;\"/>\r\n   </g>\r\n   <g id=\"patch_3\">\r\n    <path d=\"M 50.14375 239.758125 \r\nL 50.14375 22.318125 \r\n\" style=\"fill:none;stroke:#000000;stroke-linecap:square;stroke-linejoin:miter;stroke-width:0.8;\"/>\r\n   </g>\r\n   <g id=\"patch_4\">\r\n    <path d=\"M 384.94375 239.758125 \r\nL 384.94375 22.318125 \r\n\" style=\"fill:none;stroke:#000000;stroke-linecap:square;stroke-linejoin:miter;stroke-width:0.8;\"/>\r\n   </g>\r\n   <g id=\"patch_5\">\r\n    <path d=\"M 50.14375 239.758125 \r\nL 384.94375 239.758125 \r\n\" style=\"fill:none;stroke:#000000;stroke-linecap:square;stroke-linejoin:miter;stroke-width:0.8;\"/>\r\n   </g>\r\n   <g id=\"patch_6\">\r\n    <path d=\"M 50.14375 22.318125 \r\nL 384.94375 22.318125 \r\n\" style=\"fill:none;stroke:#000000;stroke-linecap:square;stroke-linejoin:miter;stroke-width:0.8;\"/>\r\n   </g>\r\n   <g id=\"text_18\">\r\n    <!-- Accuracy vs. epochs -->\r\n    <g transform=\"translate(156.353125 16.318125)scale(0.12 -0.12)\">\r\n     <defs>\r\n      <path id=\"DejaVuSans-32\"/>\r\n      <path d=\"M 2.984375 54.6875 \r\nL 12.5 54.6875 \r\nL 29.59375 8.796875 \r\nL 46.6875 54.6875 \r\nL 56.203125 54.6875 \r\nL 35.6875 0 \r\nL 23.484375 0 \r\nz\r\n\" id=\"DejaVuSans-118\"/>\r\n      <path d=\"M 44.28125 53.078125 \r\nL 44.28125 44.578125 \r\nQ 40.484375 46.53125 36.375 47.5 \r\nQ 32.28125 48.484375 27.875 48.484375 \r\nQ 21.1875 48.484375 17.84375 46.4375 \r\nQ 14.5 44.390625 14.5 40.28125 \r\nQ 14.5 37.15625 16.890625 35.375 \r\nQ 19.28125 33.59375 26.515625 31.984375 \r\nL 29.59375 31.296875 \r\nQ 39.15625 29.25 43.1875 25.515625 \r\nQ 47.21875 21.78125 47.21875 15.09375 \r\nQ 47.21875 7.46875 41.1875 3.015625 \r\nQ 35.15625 -1.421875 24.609375 -1.421875 \r\nQ 20.21875 -1.421875 15.453125 -0.5625 \r\nQ 10.6875 0.296875 5.421875 2 \r\nL 5.421875 11.28125 \r\nQ 10.40625 8.6875 15.234375 7.390625 \r\nQ 20.0625 6.109375 24.8125 6.109375 \r\nQ 31.15625 6.109375 34.5625 8.28125 \r\nQ 37.984375 10.453125 37.984375 14.40625 \r\nQ 37.984375 18.0625 35.515625 20.015625 \r\nQ 33.0625 21.96875 24.703125 23.78125 \r\nL 21.578125 24.515625 \r\nQ 13.234375 26.265625 9.515625 29.90625 \r\nQ 5.8125 33.546875 5.8125 39.890625 \r\nQ 5.8125 47.609375 11.28125 51.796875 \r\nQ 16.75 56 26.8125 56 \r\nQ 31.78125 56 36.171875 55.265625 \r\nQ 40.578125 54.546875 44.28125 53.078125 \r\nz\r\n\" id=\"DejaVuSans-115\"/>\r\n      <path d=\"M 56.203125 29.59375 \r\nL 56.203125 25.203125 \r\nL 14.890625 25.203125 \r\nQ 15.484375 15.921875 20.484375 11.0625 \r\nQ 25.484375 6.203125 34.421875 6.203125 \r\nQ 39.59375 6.203125 44.453125 7.46875 \r\nQ 49.3125 8.734375 54.109375 11.28125 \r\nL 54.109375 2.78125 \r\nQ 49.265625 0.734375 44.1875 -0.34375 \r\nQ 39.109375 -1.421875 33.890625 -1.421875 \r\nQ 20.796875 -1.421875 13.15625 6.1875 \r\nQ 5.515625 13.8125 5.515625 26.8125 \r\nQ 5.515625 40.234375 12.765625 48.109375 \r\nQ 20.015625 56 32.328125 56 \r\nQ 43.359375 56 49.78125 48.890625 \r\nQ 56.203125 41.796875 56.203125 29.59375 \r\nz\r\nM 47.21875 32.234375 \r\nQ 47.125 39.59375 43.09375 43.984375 \r\nQ 39.0625 48.390625 32.421875 48.390625 \r\nQ 24.90625 48.390625 20.390625 44.140625 \r\nQ 15.875 39.890625 15.1875 32.171875 \r\nz\r\n\" id=\"DejaVuSans-101\"/>\r\n     </defs>\r\n     <use xlink:href=\"#DejaVuSans-65\"/>\r\n     <use x=\"66.658203\" xlink:href=\"#DejaVuSans-99\"/>\r\n     <use x=\"121.638672\" xlink:href=\"#DejaVuSans-99\"/>\r\n     <use x=\"176.619141\" xlink:href=\"#DejaVuSans-117\"/>\r\n     <use x=\"239.998047\" xlink:href=\"#DejaVuSans-114\"/>\r\n     <use x=\"281.111328\" xlink:href=\"#DejaVuSans-97\"/>\r\n     <use x=\"342.390625\" xlink:href=\"#DejaVuSans-99\"/>\r\n     <use x=\"397.371094\" xlink:href=\"#DejaVuSans-121\"/>\r\n     <use x=\"456.550781\" xlink:href=\"#DejaVuSans-32\"/>\r\n     <use x=\"488.337891\" xlink:href=\"#DejaVuSans-118\"/>\r\n     <use x=\"547.517578\" xlink:href=\"#DejaVuSans-115\"/>\r\n     <use x=\"599.617188\" xlink:href=\"#DejaVuSans-46\"/>\r\n     <use x=\"631.404297\" xlink:href=\"#DejaVuSans-32\"/>\r\n     <use x=\"663.191406\" xlink:href=\"#DejaVuSans-101\"/>\r\n     <use x=\"724.714844\" xlink:href=\"#DejaVuSans-112\"/>\r\n     <use x=\"788.191406\" xlink:href=\"#DejaVuSans-111\"/>\r\n     <use x=\"849.373047\" xlink:href=\"#DejaVuSans-99\"/>\r\n     <use x=\"904.353516\" xlink:href=\"#DejaVuSans-104\"/>\r\n     <use x=\"967.732422\" xlink:href=\"#DejaVuSans-115\"/>\r\n    </g>\r\n   </g>\r\n   <g id=\"legend_1\">\r\n    <g id=\"patch_7\">\r\n     <path d=\"M 296.5625 234.758125 \r\nL 377.94375 234.758125 \r\nQ 379.94375 234.758125 379.94375 232.758125 \r\nL 379.94375 204.401875 \r\nQ 379.94375 202.401875 377.94375 202.401875 \r\nL 296.5625 202.401875 \r\nQ 294.5625 202.401875 294.5625 204.401875 \r\nL 294.5625 232.758125 \r\nQ 294.5625 234.758125 296.5625 234.758125 \r\nz\r\n\" style=\"fill:#ffffff;opacity:0.8;stroke:#cccccc;stroke-linejoin:miter;\"/>\r\n    </g>\r\n    <g id=\"line2d_18\">\r\n     <path d=\"M 298.5625 210.500312 \r\nL 318.5625 210.500312 \r\n\" style=\"fill:none;stroke:#1f77b4;stroke-linecap:square;stroke-width:1.5;\"/>\r\n    </g>\r\n    <g id=\"line2d_19\"/>\r\n    <g id=\"text_19\">\r\n     <!-- Training -->\r\n     <g transform=\"translate(326.5625 214.000312)scale(0.1 -0.1)\">\r\n      <defs>\r\n       <path d=\"M -0.296875 72.90625 \r\nL 61.375 72.90625 \r\nL 61.375 64.59375 \r\nL 35.5 64.59375 \r\nL 35.5 0 \r\nL 25.59375 0 \r\nL 25.59375 64.59375 \r\nL -0.296875 64.59375 \r\nz\r\n\" id=\"DejaVuSans-84\"/>\r\n       <path d=\"M 9.421875 54.6875 \r\nL 18.40625 54.6875 \r\nL 18.40625 0 \r\nL 9.421875 0 \r\nz\r\nM 9.421875 75.984375 \r\nL 18.40625 75.984375 \r\nL 18.40625 64.59375 \r\nL 9.421875 64.59375 \r\nz\r\n\" id=\"DejaVuSans-105\"/>\r\n       <path d=\"M 54.890625 33.015625 \r\nL 54.890625 0 \r\nL 45.90625 0 \r\nL 45.90625 32.71875 \r\nQ 45.90625 40.484375 42.875 44.328125 \r\nQ 39.84375 48.1875 33.796875 48.1875 \r\nQ 26.515625 48.1875 22.3125 43.546875 \r\nQ 18.109375 38.921875 18.109375 30.90625 \r\nL 18.109375 0 \r\nL 9.078125 0 \r\nL 9.078125 54.6875 \r\nL 18.109375 54.6875 \r\nL 18.109375 46.1875 \r\nQ 21.34375 51.125 25.703125 53.5625 \r\nQ 30.078125 56 35.796875 56 \r\nQ 45.21875 56 50.046875 50.171875 \r\nQ 54.890625 44.34375 54.890625 33.015625 \r\nz\r\n\" id=\"DejaVuSans-110\"/>\r\n       <path d=\"M 45.40625 27.984375 \r\nQ 45.40625 37.75 41.375 43.109375 \r\nQ 37.359375 48.484375 30.078125 48.484375 \r\nQ 22.859375 48.484375 18.828125 43.109375 \r\nQ 14.796875 37.75 14.796875 27.984375 \r\nQ 14.796875 18.265625 18.828125 12.890625 \r\nQ 22.859375 7.515625 30.078125 7.515625 \r\nQ 37.359375 7.515625 41.375 12.890625 \r\nQ 45.40625 18.265625 45.40625 27.984375 \r\nz\r\nM 54.390625 6.78125 \r\nQ 54.390625 -7.171875 48.1875 -13.984375 \r\nQ 42 -20.796875 29.203125 -20.796875 \r\nQ 24.46875 -20.796875 20.265625 -20.09375 \r\nQ 16.0625 -19.390625 12.109375 -17.921875 \r\nL 12.109375 -9.1875 \r\nQ 16.0625 -11.328125 19.921875 -12.34375 \r\nQ 23.78125 -13.375 27.78125 -13.375 \r\nQ 36.625 -13.375 41.015625 -8.765625 \r\nQ 45.40625 -4.15625 45.40625 5.171875 \r\nL 45.40625 9.625 \r\nQ 42.625 4.78125 38.28125 2.390625 \r\nQ 33.9375 0 27.875 0 \r\nQ 17.828125 0 11.671875 7.65625 \r\nQ 5.515625 15.328125 5.515625 27.984375 \r\nQ 5.515625 40.671875 11.671875 48.328125 \r\nQ 17.828125 56 27.875 56 \r\nQ 33.9375 56 38.28125 53.609375 \r\nQ 42.625 51.21875 45.40625 46.390625 \r\nL 45.40625 54.6875 \r\nL 54.390625 54.6875 \r\nz\r\n\" id=\"DejaVuSans-103\"/>\r\n      </defs>\r\n      <use xlink:href=\"#DejaVuSans-84\"/>\r\n      <use x=\"46.333984\" xlink:href=\"#DejaVuSans-114\"/>\r\n      <use x=\"87.447266\" xlink:href=\"#DejaVuSans-97\"/>\r\n      <use x=\"148.726562\" xlink:href=\"#DejaVuSans-105\"/>\r\n      <use x=\"176.509766\" xlink:href=\"#DejaVuSans-110\"/>\r\n      <use x=\"239.888672\" xlink:href=\"#DejaVuSans-105\"/>\r\n      <use x=\"267.671875\" xlink:href=\"#DejaVuSans-110\"/>\r\n      <use x=\"331.050781\" xlink:href=\"#DejaVuSans-103\"/>\r\n     </g>\r\n    </g>\r\n    <g id=\"line2d_20\">\r\n     <path d=\"M 298.5625 225.178437 \r\nL 318.5625 225.178437 \r\n\" style=\"fill:none;stroke:#ff7f0e;stroke-linecap:square;stroke-width:1.5;\"/>\r\n    </g>\r\n    <g id=\"line2d_21\"/>\r\n    <g id=\"text_20\">\r\n     <!-- Validation -->\r\n     <g transform=\"translate(326.5625 228.678437)scale(0.1 -0.1)\">\r\n      <defs>\r\n       <path d=\"M 28.609375 0 \r\nL 0.78125 72.90625 \r\nL 11.078125 72.90625 \r\nL 34.1875 11.53125 \r\nL 57.328125 72.90625 \r\nL 67.578125 72.90625 \r\nL 39.796875 0 \r\nz\r\n\" id=\"DejaVuSans-86\"/>\r\n       <path d=\"M 9.421875 75.984375 \r\nL 18.40625 75.984375 \r\nL 18.40625 0 \r\nL 9.421875 0 \r\nz\r\n\" id=\"DejaVuSans-108\"/>\r\n       <path d=\"M 45.40625 46.390625 \r\nL 45.40625 75.984375 \r\nL 54.390625 75.984375 \r\nL 54.390625 0 \r\nL 45.40625 0 \r\nL 45.40625 8.203125 \r\nQ 42.578125 3.328125 38.25 0.953125 \r\nQ 33.9375 -1.421875 27.875 -1.421875 \r\nQ 17.96875 -1.421875 11.734375 6.484375 \r\nQ 5.515625 14.40625 5.515625 27.296875 \r\nQ 5.515625 40.1875 11.734375 48.09375 \r\nQ 17.96875 56 27.875 56 \r\nQ 33.9375 56 38.25 53.625 \r\nQ 42.578125 51.265625 45.40625 46.390625 \r\nz\r\nM 14.796875 27.296875 \r\nQ 14.796875 17.390625 18.875 11.75 \r\nQ 22.953125 6.109375 30.078125 6.109375 \r\nQ 37.203125 6.109375 41.296875 11.75 \r\nQ 45.40625 17.390625 45.40625 27.296875 \r\nQ 45.40625 37.203125 41.296875 42.84375 \r\nQ 37.203125 48.484375 30.078125 48.484375 \r\nQ 22.953125 48.484375 18.875 42.84375 \r\nQ 14.796875 37.203125 14.796875 27.296875 \r\nz\r\n\" id=\"DejaVuSans-100\"/>\r\n       <path d=\"M 18.3125 70.21875 \r\nL 18.3125 54.6875 \r\nL 36.8125 54.6875 \r\nL 36.8125 47.703125 \r\nL 18.3125 47.703125 \r\nL 18.3125 18.015625 \r\nQ 18.3125 11.328125 20.140625 9.421875 \r\nQ 21.96875 7.515625 27.59375 7.515625 \r\nL 36.8125 7.515625 \r\nL 36.8125 0 \r\nL 27.59375 0 \r\nQ 17.1875 0 13.234375 3.875 \r\nQ 9.28125 7.765625 9.28125 18.015625 \r\nL 9.28125 47.703125 \r\nL 2.6875 47.703125 \r\nL 2.6875 54.6875 \r\nL 9.28125 54.6875 \r\nL 9.28125 70.21875 \r\nz\r\n\" id=\"DejaVuSans-116\"/>\r\n      </defs>\r\n      <use xlink:href=\"#DejaVuSans-86\"/>\r\n      <use x=\"60.658203\" xlink:href=\"#DejaVuSans-97\"/>\r\n      <use x=\"121.9375\" xlink:href=\"#DejaVuSans-108\"/>\r\n      <use x=\"149.720703\" xlink:href=\"#DejaVuSans-105\"/>\r\n      <use x=\"177.503906\" xlink:href=\"#DejaVuSans-100\"/>\r\n      <use x=\"240.980469\" xlink:href=\"#DejaVuSans-97\"/>\r\n      <use x=\"302.259766\" xlink:href=\"#DejaVuSans-116\"/>\r\n      <use x=\"341.46875\" xlink:href=\"#DejaVuSans-105\"/>\r\n      <use x=\"369.251953\" xlink:href=\"#DejaVuSans-111\"/>\r\n      <use x=\"430.433594\" xlink:href=\"#DejaVuSans-110\"/>\r\n     </g>\r\n    </g>\r\n   </g>\r\n  </g>\r\n </g>\r\n <defs>\r\n  <clipPath id=\"pc6b3e850b1\">\r\n   <rect height=\"217.44\" width=\"334.8\" x=\"50.14375\" y=\"22.318125\"/>\r\n  </clipPath>\r\n </defs>\r\n</svg>\r\n",
      "image/png": "[encoded data removed]"
     },
     "metadata": {
      "needs_background": "light"
     }
    }
   ],
   "source": [
    "plt.plot(history.history['accuracy'])\n",
    "plt.plot(history.history['val_accuracy'])\n",
    "plt.title('Accuracy vs. epochs')\n",
    "plt.ylabel('Accuracy')\n",
    "plt.xlabel('Epoch')\n",
    "plt.legend(['Training', 'Validation'], loc='lower right')\n",
    "plt.show()"
   ]
  },
  {
   "source": [
    "En los gráficos anteriores se observa que el overfitting no fue tan terrible. \n",
    "\n",
    "A continuación se cargan los weights del mejor modelo registrado."
   ],
   "cell_type": "markdown",
   "metadata": {}
  },
  {
   "cell_type": "code",
   "execution_count": 30,
   "metadata": {},
   "outputs": [
    {
     "output_type": "execute_result",
     "data": {
      "text/plain": "<tensorflow.python.training.tracking.util.CheckpointLoadStatus at 0x18464c73e88>"
     },
     "metadata": {},
     "execution_count": 30
    }
   ],
   "source": [
    "best_model = get_model()\n",
    "best_model.load_weights(checkpoint_best_path)"
   ]
  },
  {
   "source": [
    "El desempeño obtenido es algo mejor que el logrado por la regresión logística."
   ],
   "cell_type": "markdown",
   "metadata": {}
  },
  {
   "cell_type": "code",
   "execution_count": 31,
   "metadata": {
    "tags": []
   },
   "outputs": [
    {
     "output_type": "stream",
     "name": "stdout",
     "text": "Test accuracy of best CV params: 0.9234449760765551\nArea Under the ROC Curve: 0.9288488700564973\nF1 Score: 0.7575757575757576\n"
    }
   ],
   "source": [
    "y_pred_proba = best_model.predict(nX_test)\n",
    "y_pred = (y_pred_proba > 0.5)*1\n",
    "\n",
    "Accuracy2 = accuracy_score(y_test, y_pred)\n",
    "ROC_AUC2 = roc_auc_score(y_test, y_pred_proba)\n",
    "F1Score2 = f1_score(y_test, y_pred)\n",
    "print(\"Test accuracy of best CV params:\", Accuracy2)\n",
    "print(\"Area Under the ROC Curve:\", ROC_AUC2)\n",
    "print(\"F1 Score:\", F1Score2)"
   ]
  },
  {
   "cell_type": "markdown",
   "metadata": {},
   "source": [
    "# Modelos de Secuencias: preprocesamiento\n",
    "A continuación se repite el ejercicio utilizando modelos de secuencias, para lo cual debe preprocesarse la base de datos de una manera distinta."
   ]
  },
  {
   "source": [
    "En primer lugar se utiliza el Tokenizer de Tensorflow. Se eliminan los carácteres extraños y se asigna un token para las palabras desconocidas. Se menciona que este Tokenizer se aplica a la base de datos preprocesada en la sección anterior, antes de ser vectorizada (sólo se le aplico la función preprocess), para que los textos sean más comparables entre los distintos análisis. Los textos son transformados a secuencias, donde cada palabra es reemplazada por el número de palabra asignado en un  diccionario que registra todas las palabras del vocabulario."
   ],
   "cell_type": "markdown",
   "metadata": {}
  },
  {
   "cell_type": "code",
   "execution_count": 151,
   "metadata": {},
   "outputs": [],
   "source": [
    "additional_filters = '—’‘“”'\n",
    "tokenizer = Tokenizer(num_words=None, \n",
    "                      filters='!\"#$%&()*+,-./:;<=>?@[\\\\]^_`{|}~\\t\\n' + additional_filters,\n",
    "                      oov_token='<UNK>')\n",
    "tokenizer.fit_on_texts(pdata)"
   ]
  },
  {
   "cell_type": "code",
   "execution_count": 152,
   "metadata": {},
   "outputs": [],
   "source": [
    "tdata = tokenizer.texts_to_sequences(pdata)"
   ]
  },
  {
   "source": [
    "A continuación se ilustra como un texto fue transformado en secuencia."
   ],
   "cell_type": "markdown",
   "metadata": {}
  },
  {
   "cell_type": "code",
   "execution_count": 153,
   "metadata": {
    "tags": []
   },
   "outputs": [
    {
     "name": "stdout",
     "output_type": "stream",
     "text": [
      "goldman sachs preve crisis cuatro veces peor eeuu gobiernos nivel mundial deben amortiguar posible impacto ingresos sector privado concluyo banco estadounidense banco estadounidense goldman sachs advirtio martes espera unidos crisis economica derivada pandemia covid cuatro veces peor senalo cifras desempleo podrian ser similares sufrio pais segunda guerra mundial nota clientes recogida medios locales banco apunta embargo podria dar recuperacion economica precedentes sentido goldman sachs situa disminucion producto interior bruto pib estadounidense segundo trimestre respecto ano anterior caida mayor cualquiera experimentadas gran crisis decada pasada ademas tasa desempleo podria alcanzar segun compania financiera advierte posible debido gravedad situacion trabajadores queden marginados busquen empleo reapertura anticipada economia respecto recuperacion banco augura podria ser posible recuperar menos parte produccion perdida si lleva cabo fuerte aumento test asi cambios practicas comerciales reduzcan riesgo infeccion normalidad negocios llegara vacuna sectores podrian comenzar recuperarse pronto goldman sachs destaca fabricacion construccion especificamente industria automotriz segun banco podria pasar capacidad abril mayo juicio compania medida industrias vuelven poner linea gradualmente deberia producir mejora precedentes crecimiento economico sentido crecimiento tercer trimestre aumentaria segun estimaciones banco respecto caida segundo trimestre seguido salto ultimos tres meses ano goldman sachs advirtio recuperacion exitosa responsables politicos deben seguir vigilantes proporcionar apoyo total gobiernos nivel mundial deben amortiguar posible impacto ingresos sector privado concluyo banco \n",
      "\n",
      "[3656, 3224, 218, 5, 367, 586, 103, 471, 696, 57, 81, 626, 3657, 368, 49, 82, 24, 885, 768, 38, 379, 38, 379, 3656, 3224, 290, 245, 202, 88, 5, 44, 2644, 4, 23, 367, 586, 103, 98, 52, 18, 310, 63, 2241, 1032, 11, 335, 886, 81, 1466, 369, 3658, 1271, 265, 38, 1467, 136, 89, 769, 65, 44, 408, 233, 3656, 3224, 4989, 189, 111, 770, 486, 32, 379, 53, 8, 13, 2, 42, 6, 16, 4202, 8409, 67, 5, 575, 697, 79, 28, 18, 89, 1062, 10, 132, 276, 723, 368, 77, 2081, 58, 27, 4203, 6190, 6191, 20, 698, 4204, 7, 13, 65, 38, 8410, 89, 63, 368, 545, 83, 25, 130, 238, 30, 1730, 1395, 99, 46, 4990, 64, 862, 2643, 699, 6192, 409, 4205, 1063, 288, 1637, 801, 95, 310, 1551, 784, 1638, 3656, 3224, 459, 1965, 182, 1639, 90, 1165, 10, 38, 89, 1219, 370, 21, 37, 2242, 132, 135, 1166, 4991, 1167, 100, 1966, 753, 3225, 826, 408, 85, 127, 233, 85, 419, 8, 2910, 10, 719, 38, 13, 6, 53, 8, 1064, 1328, 162, 142, 9, 2, 3656, 3224, 290, 65, 4206, 4992, 1468, 626, 345, 6193, 3226, 300, 43, 696, 57, 81, 626, 3657, 368, 49, 82, 24, 885, 768, 38] \n",
      "\n"
     ]
    }
   ],
   "source": [
    "print(pdata[1], '\\n')\n",
    "print(tdata[1], '\\n')"
   ]
  },
  {
   "source": [
    "Luego se guardan dos diccionarios, uno que transforma los número a palabras y viceversa. En la siguiente celda se aplica el diccionario a la secuencia anterior, y se verifica cómo se recupera el texto original a partir de la secuencia."
   ],
   "cell_type": "markdown",
   "metadata": {}
  },
  {
   "cell_type": "code",
   "execution_count": 154,
   "metadata": {},
   "outputs": [],
   "source": [
    "tokenizer_config = tokenizer.get_config()\n",
    "index_word = json.loads(tokenizer_config['index_word'])\n",
    "word_index = json.loads(tokenizer_config['word_index'])"
   ]
  },
  {
   "cell_type": "code",
   "execution_count": 155,
   "metadata": {},
   "outputs": [
    {
     "name": "stdout",
     "output_type": "stream",
     "text": [
      "['goldman', 'sachs', 'preve', 'crisis', 'cuatro', 'veces', 'peor', 'eeuu', 'gobiernos', 'nivel', 'mundial', 'deben', 'amortiguar', 'posible', 'impacto', 'ingresos', 'sector', 'privado', 'concluyo', 'banco', 'estadounidense', 'banco', 'estadounidense', 'goldman', 'sachs', 'advirtio', 'martes', 'espera', 'unidos', 'crisis', 'economica', 'derivada', 'pandemia', 'covid', 'cuatro', 'veces', 'peor', 'senalo', 'cifras', 'desempleo', 'podrian', 'ser', 'similares', 'sufrio', 'pais', 'segunda', 'guerra', 'mundial', 'nota', 'clientes', 'recogida', 'medios', 'locales', 'banco', 'apunta', 'embargo', 'podria', 'dar', 'recuperacion', 'economica', 'precedentes', 'sentido', 'goldman', 'sachs', 'situa', 'disminucion', 'producto', 'interior', 'bruto', 'pib', 'estadounidense', 'segundo', 'trimestre', 'respecto', 'ano', 'anterior', 'caida', 'mayor', 'cualquiera', 'experimentadas', 'gran', 'crisis', 'decada', 'pasada', 'ademas', 'tasa', 'desempleo', 'podria', 'alcanzar', 'segun', 'compania', 'financiera', 'advierte', 'posible', 'debido', 'gravedad', 'situacion', 'trabajadores', 'queden', 'marginados', 'busquen', 'empleo', 'reapertura', 'anticipada', 'economia', 'respecto', 'recuperacion', 'banco', 'augura', 'podria', 'ser', 'posible', 'recuperar', 'menos', 'parte', 'produccion', 'perdida', 'si', 'lleva', 'cabo', 'fuerte', 'aumento', 'test', 'asi', 'cambios', 'practicas', 'comerciales', 'reduzcan', 'riesgo', 'infeccion', 'normalidad', 'negocios', 'llegara', 'vacuna', 'sectores', 'podrian', 'comenzar', 'recuperarse', 'pronto', 'goldman', 'sachs', 'destaca', 'fabricacion', 'construccion', 'especificamente', 'industria', 'automotriz', 'segun', 'banco', 'podria', 'pasar', 'capacidad', 'abril', 'mayo', 'juicio', 'compania', 'medida', 'industrias', 'vuelven', 'poner', 'linea', 'gradualmente', 'deberia', 'producir', 'mejora', 'precedentes', 'crecimiento', 'economico', 'sentido', 'crecimiento', 'tercer', 'trimestre', 'aumentaria', 'segun', 'estimaciones', 'banco', 'respecto', 'caida', 'segundo', 'trimestre', 'seguido', 'salto', 'ultimos', 'tres', 'meses', 'ano', 'goldman', 'sachs', 'advirtio', 'recuperacion', 'exitosa', 'responsables', 'politicos', 'deben', 'seguir', 'vigilantes', 'proporcionar', 'apoyo', 'total', 'gobiernos', 'nivel', 'mundial', 'deben', 'amortiguar', 'posible', 'impacto', 'ingresos', 'sector', 'privado', 'concluyo', 'banco']\n"
     ]
    }
   ],
   "source": [
    "trad = [index_word[str(e)] for e in tdata[1]]\n",
    "print(trad)"
   ]
  },
  {
   "source": [
    "En la siguiente celda se muestra el largo de las secuencias más larga y más corta. Se verifica que el resultado es igual al obtenido en el preprocesamiento anterior."
   ],
   "cell_type": "markdown",
   "metadata": {}
  },
  {
   "cell_type": "code",
   "execution_count": 156,
   "metadata": {
    "tags": []
   },
   "outputs": [
    {
     "name": "stdout",
     "output_type": "stream",
     "text": [
      "Secuencia más larga: \n",
      " 1161 \n",
      "\n",
      "Secuencia más corta: \n",
      " 20 \n",
      "\n"
     ]
    }
   ],
   "source": [
    "x = []\n",
    "for e in tdata:\n",
    "    x.append(len(e))\n",
    "print('Secuencia más larga: \\n', max(x), '\\n')\n",
    "print('Secuencia más corta: \\n', min(x), '\\n')"
   ]
  },
  {
   "source": [
    "Luego se procede a aplicar padding a las secuencias. El padding máximo será igual al largo de la secuencia más larga (la secuencia más larga no tendrá padding), y se realizará al principio de las secuencias. En la siguiente celda se ilustra qué es el padding. Este método permite que todas las secuencias tengan el mismo largo."
   ],
   "cell_type": "markdown",
   "metadata": {}
  },
  {
   "cell_type": "code",
   "execution_count": 157,
   "metadata": {},
   "outputs": [
    {
     "data": {
      "text/plain": [
       "(695, 1161)"
      ]
     },
     "execution_count": 157,
     "metadata": {},
     "output_type": "execute_result"
    }
   ],
   "source": [
    "padata = pad_sequences(tdata, maxlen=1161, padding='pre')\n",
    "padata.shape"
   ]
  },
  {
   "cell_type": "code",
   "execution_count": 158,
   "metadata": {},
   "outputs": [
    {
     "name": "stdout",
     "output_type": "stream",
     "text": [
      "['0', '0', '0', '0', '0', '0', '0', '0', '0', '0', '0', '0', '0', '0', '0', '0', '0', '0', '0', '0', '0', '0', '0', '0', '0', '0', '0', '0', '0', '0', '0', '0', '0', '0', '0', '0', '0', '0', '0', '0', '0', '0', '0', '0', '0', '0', '0', '0', '0', '0', '0', '0', '0', '0', '0', '0', '0', '0', '0', '0', '0', '0', '0', '0', '0', '0', '0', '0', '0', '0', '0', '0', '0', '0', '0', '0', '0', '0', '0', '0', '0', '0', '0', '0', '0', '0', '0', '0', '0', '0', '0', '0', '0', '0', '0', '0', '0', '0', '0', '0', '0', '0', '0', '0', '0', '0', '0', '0', '0', '0', '0', '0', '0', '0', '0', '0', '0', '0', '0', '0', '0', '0', '0', '0', '0', '0', '0', '0', '0', '0', '0', '0', '0', '0', '0', '0', '0', '0', '0', '0', '0', '0', '0', '0', '0', '0', '0', '0', '0', '0', '0', '0', '0', '0', '0', '0', '0', '0', '0', '0', '0', '0', '0', '0', '0', '0', '0', '0', '0', '0', '0', '0', '0', '0', '0', '0', '0', '0', '0', '0', '0', '0', '0', '0', '0', '0', '0', '0', '0', '0', '0', '0', '0', '0', '0', '0', '0', '0', '0', '0', '0', '0', '0', '0', '0', '0', '0', '0', '0', '0', '0', '0', '0', '0', '0', '0', '0', '0', '0', '0', '0', '0', '0', '0', '0', '0', '0', '0', '0', '0', '0', '0', '0', '0', '0', '0', '0', '0', '0', '0', '0', '0', '0', '0', '0', '0', '0', '0', '0', '0', '0', '0', '0', '0', '0', '0', '0', '0', '0', '0', '0', '0', '0', '0', '0', '0', '0', '0', '0', '0', '0', '0', '0', '0', '0', '0', '0', '0', '0', '0', '0', '0', '0', '0', '0', '0', '0', '0', '0', '0', '0', '0', '0', '0', '0', '0', '0', '0', '0', '0', '0', '0', '0', '0', '0', '0', '0', '0', '0', '0', '0', '0', '0', '0', '0', '0', '0', '0', '0', '0', '0', '0', '0', '0', '0', '0', '0', '0', '0', '0', '0', '0', '0', '0', '0', '0', '0', '0', '0', '0', '0', '0', '0', '0', '0', '0', '0', '0', '0', '0', '0', '0', '0', '0', '0', '0', '0', '0', '0', '0', '0', '0', '0', '0', '0', '0', '0', '0', '0', '0', '0', '0', '0', '0', '0', '0', '0', '0', '0', '0', '0', '0', '0', '0', '0', '0', '0', '0', '0', '0', '0', '0', '0', '0', '0', '0', '0', '0', '0', '0', '0', '0', '0', '0', '0', '0', '0', '0', '0', '0', '0', '0', '0', '0', '0', '0', '0', '0', '0', '0', '0', '0', '0', '0', '0', '0', '0', '0', '0', '0', '0', '0', '0', '0', '0', '0', '0', '0', '0', '0', '0', '0', '0', '0', '0', '0', '0', '0', '0', '0', '0', '0', '0', '0', '0', '0', '0', '0', '0', '0', '0', '0', '0', '0', '0', '0', '0', '0', '0', '0', '0', '0', '0', '0', '0', '0', '0', '0', '0', '0', '0', '0', '0', '0', '0', '0', '0', '0', '0', '0', '0', '0', '0', '0', '0', '0', '0', '0', '0', '0', '0', '0', '0', '0', '0', '0', '0', '0', '0', '0', '0', '0', '0', '0', '0', '0', '0', '0', '0', '0', '0', '0', '0', '0', '0', '0', '0', '0', '0', '0', '0', '0', '0', '0', '0', '0', '0', '0', '0', '0', '0', '0', '0', '0', '0', '0', '0', '0', '0', '0', '0', '0', '0', '0', '0', '0', '0', '0', '0', '0', '0', '0', '0', '0', '0', '0', '0', '0', '0', '0', '0', '0', '0', '0', '0', '0', '0', '0', '0', '0', '0', '0', '0', '0', '0', '0', '0', '0', '0', '0', '0', '0', '0', '0', '0', '0', '0', '0', '0', '0', '0', '0', '0', '0', '0', '0', '0', '0', '0', '0', '0', '0', '0', '0', '0', '0', '0', '0', '0', '0', '0', '0', '0', '0', '0', '0', '0', '0', '0', '0', '0', '0', '0', '0', '0', '0', '0', '0', '0', '0', '0', '0', '0', '0', '0', '0', '0', '0', '0', '0', '0', '0', '0', '0', '0', '0', '0', '0', '0', '0', '0', '0', '0', '0', '0', '0', '0', '0', '0', '0', '0', '0', '0', '0', '0', '0', '0', '0', '0', '0', '0', '0', '0', '0', '0', '0', '0', '0', '0', '0', '0', '0', '0', '0', '0', '0', '0', '0', '0', '0', '0', '0', '0', '0', '0', '0', '0', '0', '0', '0', '0', '0', '0', '0', '0', '0', '0', '0', '0', '0', '0', '0', '0', '0', '0', '0', '0', '0', '0', '0', '0', '0', '0', '0', '0', '0', '0', '0', '0', '0', '0', '0', '0', '0', '0', '0', '0', '0', '0', '0', '0', '0', '0', '0', '0', '0', '0', '0', '0', '0', '0', '0', '0', '0', '0', '0', '0', '0', '0', '0', '0', '0', '0', '0', '0', '0', '0', '0', '0', '0', '0', '0', '0', '0', '0', '0', '0', '0', '0', '0', '0', '0', '0', '0', '0', '0', '0', '0', '0', '0', '0', '0', '0', '0', '0', '0', '0', '0', '0', '0', '0', '0', '0', '0', '0', '0', '0', '0', '0', '0', '0', '0', '0', '0', '0', '0', '0', '0', '0', '0', '0', '0', '0', '0', '0', '0', '0', '0', '0', '0', '0', '0', '0', '0', '0', '0', '0', '0', '0', '0', '0', '0', '0', '0', '0', '0', '0', '0', '0', '0', '0', '0', '0', '0', '0', '0', '0', '0', '0', '0', '0', '0', '0', '0', '0', '0', '0', '0', '0', '0', '0', '0', '0', '0', '0', '0', '0', '0', '0', '0', '0', '0', '0', '0', '0', '0', '0', '0', '0', '0', '0', '0', '0', '0', '0', '0', '0', '0', '0', '0', '0', '0', '0', '0', '0', '0', '0', '0', '0', '0', '0', '0', '0', '0', '0', '0', '0', '0', '0', '0', '0', '0', '0', '0', '0', '0', '0', '0', '0', '0', '0', '0', '0', '0', '0', '0', '0', '0', '0', '0', 'goldman', 'sachs', 'preve', 'crisis', 'cuatro', 'veces', 'peor', 'eeuu', 'gobiernos', 'nivel', 'mundial', 'deben', 'amortiguar', 'posible', 'impacto', 'ingresos', 'sector', 'privado', 'concluyo', 'banco', 'estadounidense', 'banco', 'estadounidense', 'goldman', 'sachs', 'advirtio', 'martes', 'espera', 'unidos', 'crisis', 'economica', 'derivada', 'pandemia', 'covid', 'cuatro', 'veces', 'peor', 'senalo', 'cifras', 'desempleo', 'podrian', 'ser', 'similares', 'sufrio', 'pais', 'segunda', 'guerra', 'mundial', 'nota', 'clientes', 'recogida', 'medios', 'locales', 'banco', 'apunta', 'embargo', 'podria', 'dar', 'recuperacion', 'economica', 'precedentes', 'sentido', 'goldman', 'sachs', 'situa', 'disminucion', 'producto', 'interior', 'bruto', 'pib', 'estadounidense', 'segundo', 'trimestre', 'respecto', 'ano', 'anterior', 'caida', 'mayor', 'cualquiera', 'experimentadas', 'gran', 'crisis', 'decada', 'pasada', 'ademas', 'tasa', 'desempleo', 'podria', 'alcanzar', 'segun', 'compania', 'financiera', 'advierte', 'posible', 'debido', 'gravedad', 'situacion', 'trabajadores', 'queden', 'marginados', 'busquen', 'empleo', 'reapertura', 'anticipada', 'economia', 'respecto', 'recuperacion', 'banco', 'augura', 'podria', 'ser', 'posible', 'recuperar', 'menos', 'parte', 'produccion', 'perdida', 'si', 'lleva', 'cabo', 'fuerte', 'aumento', 'test', 'asi', 'cambios', 'practicas', 'comerciales', 'reduzcan', 'riesgo', 'infeccion', 'normalidad', 'negocios', 'llegara', 'vacuna', 'sectores', 'podrian', 'comenzar', 'recuperarse', 'pronto', 'goldman', 'sachs', 'destaca', 'fabricacion', 'construccion', 'especificamente', 'industria', 'automotriz', 'segun', 'banco', 'podria', 'pasar', 'capacidad', 'abril', 'mayo', 'juicio', 'compania', 'medida', 'industrias', 'vuelven', 'poner', 'linea', 'gradualmente', 'deberia', 'producir', 'mejora', 'precedentes', 'crecimiento', 'economico', 'sentido', 'crecimiento', 'tercer', 'trimestre', 'aumentaria', 'segun', 'estimaciones', 'banco', 'respecto', 'caida', 'segundo', 'trimestre', 'seguido', 'salto', 'ultimos', 'tres', 'meses', 'ano', 'goldman', 'sachs', 'advirtio', 'recuperacion', 'exitosa', 'responsables', 'politicos', 'deben', 'seguir', 'vigilantes', 'proporcionar', 'apoyo', 'total', 'gobiernos', 'nivel', 'mundial', 'deben', 'amortiguar', 'posible', 'impacto', 'ingresos', 'sector', 'privado', 'concluyo', 'banco']\n"
     ]
    }
   ],
   "source": [
    "trad = [index_word[str(e)] if e!=0 else '0' for e in padata[1]]\n",
    "print(trad)"
   ]
  },
  {
   "source": [
    "En las celdas siguientes se divide la muestra en sets de entrenamiento y testeo, usando los mismos índices que en la separación anterior. Así, los resultados serán comparables."
   ],
   "cell_type": "markdown",
   "metadata": {}
  },
  {
   "cell_type": "code",
   "execution_count": 221,
   "metadata": {},
   "outputs": [],
   "source": [
    "train_sample = y_train.index\n",
    "test_sample = y_test.index"
   ]
  },
  {
   "cell_type": "code",
   "execution_count": 252,
   "metadata": {},
   "outputs": [
    {
     "name": "stdout",
     "output_type": "stream",
     "text": [
      "(486, 1161)\n",
      "(209, 1161)\n"
     ]
    }
   ],
   "source": [
    "X_train = padata[train_sample]\n",
    "X_test = padata[test_sample]\n",
    "print(X_train.shape)\n",
    "print(X_test.shape)"
   ]
  },
  {
   "source": [
    "# Red Neuronal con embeddings\n",
    "El primer modelo de secuencias será una red neuronal sencilla, con embeddings, y 456.353 parámteros entrenables. Al igual que en la sección anterior se guardan los parámetros del mejor modelo obtenido durante el entrenamiento."
   ],
   "cell_type": "markdown",
   "metadata": {}
  },
  {
   "cell_type": "code",
   "execution_count": 331,
   "metadata": {
    "tags": []
   },
   "outputs": [],
   "source": [
    "def get_model():\n",
    "    max_index_value = max(word_index.values())\n",
    "    embedding_dim = 32\n",
    "    model = tf.keras.Sequential([\n",
    "        Embedding(input_dim=max_index_value+1, output_dim=embedding_dim, \n",
    "                  embeddings_regularizer=regularizers.l2(1e-5), mask_zero=False),\n",
    "        GlobalMaxPool1D(),\n",
    "        BatchNormalization(),\n",
    "        Dense(units=1, activation='sigmoid')\n",
    "    ])\n",
    "    model.compile(optimizer='adam', loss='binary_crossentropy', metrics=['accuracy', 'AUC'])\n",
    "    return model"
   ]
  },
  {
   "cell_type": "code",
   "execution_count": 332,
   "metadata": {
    "tags": []
   },
   "outputs": [
    {
     "name": "stdout",
     "output_type": "stream",
     "text": [
      "Model: \"sequential_32\"\n",
      "_________________________________________________________________\n",
      "Layer (type)                 Output Shape              Param #   \n",
      "=================================================================\n",
      "embedding_28 (Embedding)     (None, None, 32)          456192    \n",
      "_________________________________________________________________\n",
      "global_max_pooling1d_11 (Glo (None, 32)                0         \n",
      "_________________________________________________________________\n",
      "batch_normalization_29 (Batc (None, 32)                128       \n",
      "_________________________________________________________________\n",
      "dense_70 (Dense)             (None, 1)                 33        \n",
      "=================================================================\n",
      "Total params: 456,353\n",
      "Trainable params: 456,289\n",
      "Non-trainable params: 64\n",
      "_________________________________________________________________\n"
     ]
    }
   ],
   "source": [
    "model = get_model()\n",
    "model.summary()"
   ]
  },
  {
   "cell_type": "code",
   "execution_count": 333,
   "metadata": {
    "tags": []
   },
   "outputs": [
    {
     "name": "stdout",
     "output_type": "stream",
     "text": [
      "Epoch 1/20\n",
      "7/8 [=========================>....] - ETA: 0s - loss: 0.6831 - accuracy: 0.6094 - auc: 0.6554\n",
      "Epoch 00001: val_accuracy improved from -inf to 0.84689, saving model to C:/Users/acuna/OneDrive/Documents/Callbacks\\checkpoint_embedding\n",
      "8/8 [==============================] - 1s 86ms/step - loss: 0.6821 - accuracy: 0.6132 - auc: 0.6563 - val_loss: 0.6676 - val_accuracy: 0.8469 - val_auc: 0.6388\n",
      "Epoch 2/20\n",
      "7/8 [=========================>....] - ETA: 0s - loss: 0.5956 - accuracy: 0.8348 - auc: 0.9902\n",
      "Epoch 00002: val_accuracy did not improve from 0.84689\n",
      "8/8 [==============================] - 0s 32ms/step - loss: 0.5946 - accuracy: 0.8333 - auc: 0.9908 - val_loss: 0.6440 - val_accuracy: 0.8469 - val_auc: 0.7952\n",
      "Epoch 3/20\n",
      "7/8 [=========================>....] - ETA: 0s - loss: 0.5268 - accuracy: 0.8705 - auc: 0.9973\n",
      "Epoch 00003: val_accuracy did not improve from 0.84689\n",
      "8/8 [==============================] - 0s 32ms/step - loss: 0.5219 - accuracy: 0.8704 - auc: 0.9976 - val_loss: 0.6202 - val_accuracy: 0.8469 - val_auc: 0.8500\n",
      "Epoch 4/20\n",
      "7/8 [=========================>....] - ETA: 0s - loss: 0.4573 - accuracy: 0.9152 - auc: 0.9998\n",
      "Epoch 00004: val_accuracy did not improve from 0.84689\n",
      "8/8 [==============================] - 0s 35ms/step - loss: 0.4548 - accuracy: 0.9177 - auc: 0.9997 - val_loss: 0.5969 - val_accuracy: 0.8469 - val_auc: 0.8542\n",
      "Epoch 5/20\n",
      "7/8 [=========================>....] - ETA: 0s - loss: 0.4078 - accuracy: 0.9129 - auc: 1.0000\n",
      "Epoch 00005: val_accuracy did not improve from 0.84689\n",
      "8/8 [==============================] - 0s 33ms/step - loss: 0.4034 - accuracy: 0.9177 - auc: 1.0000 - val_loss: 0.5745 - val_accuracy: 0.8469 - val_auc: 0.8573\n",
      "Epoch 6/20\n",
      "7/8 [=========================>....] - ETA: 0s - loss: 0.3598 - accuracy: 0.9442 - auc: 0.9999\n",
      "Epoch 00006: val_accuracy did not improve from 0.84689\n",
      "8/8 [==============================] - 0s 39ms/step - loss: 0.3525 - accuracy: 0.9465 - auc: 0.9999 - val_loss: 0.5531 - val_accuracy: 0.8469 - val_auc: 0.8630\n",
      "Epoch 7/20\n",
      "7/8 [=========================>....] - ETA: 0s - loss: 0.3049 - accuracy: 0.9710 - auc: 1.0000\n",
      "Epoch 00007: val_accuracy did not improve from 0.84689\n",
      "8/8 [==============================] - 0s 37ms/step - loss: 0.3060 - accuracy: 0.9712 - auc: 1.0000 - val_loss: 0.5328 - val_accuracy: 0.8469 - val_auc: 0.8706\n",
      "Epoch 8/20\n",
      "7/8 [=========================>....] - ETA: 0s - loss: 0.2664 - accuracy: 0.9844 - auc: 1.0000\n",
      "Epoch 00008: val_accuracy did not improve from 0.84689\n",
      "8/8 [==============================] - 0s 33ms/step - loss: 0.2687 - accuracy: 0.9835 - auc: 1.0000 - val_loss: 0.5138 - val_accuracy: 0.8469 - val_auc: 0.8638\n",
      "Epoch 9/20\n",
      "7/8 [=========================>....] - ETA: 0s - loss: 0.2416 - accuracy: 0.9955 - auc: 1.0000\n",
      "Epoch 00009: val_accuracy did not improve from 0.84689\n",
      "8/8 [==============================] - 0s 42ms/step - loss: 0.2364 - accuracy: 0.9959 - auc: 1.0000 - val_loss: 0.4964 - val_accuracy: 0.8469 - val_auc: 0.8621\n",
      "Epoch 10/20\n",
      "7/8 [=========================>....] - ETA: 0s - loss: 0.2105 - accuracy: 0.9978 - auc: 1.0000\n",
      "Epoch 00010: val_accuracy did not improve from 0.84689\n",
      "8/8 [==============================] - 0s 37ms/step - loss: 0.2064 - accuracy: 0.9979 - auc: 1.0000 - val_loss: 0.4807 - val_accuracy: 0.8469 - val_auc: 0.8603\n",
      "Epoch 11/20\n",
      "7/8 [=========================>....] - ETA: 0s - loss: 0.1766 - accuracy: 0.9978 - auc: 1.0000\n",
      "Epoch 00011: val_accuracy did not improve from 0.84689\n",
      "8/8 [==============================] - 0s 33ms/step - loss: 0.1798 - accuracy: 0.9979 - auc: 1.0000 - val_loss: 0.4667 - val_accuracy: 0.8469 - val_auc: 0.8575\n",
      "Epoch 12/20\n",
      "7/8 [=========================>....] - ETA: 0s - loss: 0.1544 - accuracy: 1.0000 - auc: 1.0000\n",
      "Epoch 00012: val_accuracy did not improve from 0.84689\n",
      "8/8 [==============================] - 0s 32ms/step - loss: 0.1591 - accuracy: 1.0000 - auc: 1.0000 - val_loss: 0.4542 - val_accuracy: 0.8469 - val_auc: 0.8655\n",
      "Epoch 13/20\n",
      "7/8 [=========================>....] - ETA: 0s - loss: 0.1373 - accuracy: 1.0000 - auc: 1.0000\n",
      "Epoch 00013: val_accuracy did not improve from 0.84689\n",
      "8/8 [==============================] - 0s 32ms/step - loss: 0.1372 - accuracy: 1.0000 - auc: 1.0000 - val_loss: 0.4430 - val_accuracy: 0.8469 - val_auc: 0.8608\n",
      "Epoch 14/20\n",
      "7/8 [=========================>....] - ETA: 0s - loss: 0.1281 - accuracy: 1.0000 - auc: 1.0000\n",
      "Epoch 00014: val_accuracy did not improve from 0.84689\n",
      "8/8 [==============================] - 0s 32ms/step - loss: 0.1250 - accuracy: 1.0000 - auc: 1.0000 - val_loss: 0.4333 - val_accuracy: 0.8469 - val_auc: 0.8601\n",
      "Epoch 15/20\n",
      "7/8 [=========================>....] - ETA: 0s - loss: 0.1065 - accuracy: 1.0000 - auc: 1.0000\n",
      "Epoch 00015: val_accuracy did not improve from 0.84689\n",
      "8/8 [==============================] - 0s 32ms/step - loss: 0.1139 - accuracy: 1.0000 - auc: 1.0000 - val_loss: 0.4251 - val_accuracy: 0.8469 - val_auc: 0.8636\n",
      "Epoch 16/20\n",
      "7/8 [=========================>....] - ETA: 0s - loss: 0.1019 - accuracy: 1.0000 - auc: 1.0000\n",
      "Epoch 00016: val_accuracy did not improve from 0.84689\n",
      "8/8 [==============================] - 0s 33ms/step - loss: 0.0998 - accuracy: 1.0000 - auc: 1.0000 - val_loss: 0.4181 - val_accuracy: 0.8469 - val_auc: 0.8652\n",
      "Epoch 17/20\n",
      "7/8 [=========================>....] - ETA: 0s - loss: 0.0881 - accuracy: 1.0000 - auc: 1.0000\n",
      "Epoch 00017: val_accuracy did not improve from 0.84689\n",
      "8/8 [==============================] - 0s 34ms/step - loss: 0.0918 - accuracy: 1.0000 - auc: 1.0000 - val_loss: 0.4120 - val_accuracy: 0.8469 - val_auc: 0.8628\n",
      "Epoch 18/20\n",
      "7/8 [=========================>....] - ETA: 0s - loss: 0.0765 - accuracy: 1.0000 - auc: 1.0000\n",
      "Epoch 00018: val_accuracy did not improve from 0.84689\n",
      "8/8 [==============================] - 0s 32ms/step - loss: 0.0791 - accuracy: 1.0000 - auc: 1.0000 - val_loss: 0.4068 - val_accuracy: 0.8469 - val_auc: 0.8634\n",
      "Epoch 19/20\n",
      "7/8 [=========================>....] - ETA: 0s - loss: 0.0709 - accuracy: 1.0000 - auc: 1.0000\n",
      "Epoch 00019: val_accuracy did not improve from 0.84689\n",
      "8/8 [==============================] - 0s 35ms/step - loss: 0.0701 - accuracy: 1.0000 - auc: 1.0000 - val_loss: 0.4024 - val_accuracy: 0.8469 - val_auc: 0.8612\n",
      "Epoch 20/20\n",
      "7/8 [=========================>....] - ETA: 0s - loss: 0.0710 - accuracy: 1.0000 - auc: 1.0000\n",
      "Epoch 00020: val_accuracy did not improve from 0.84689\n",
      "8/8 [==============================] - 0s 33ms/step - loss: 0.0682 - accuracy: 1.0000 - auc: 1.0000 - val_loss: 0.3987 - val_accuracy: 0.8469 - val_auc: 0.8595\n"
     ]
    }
   ],
   "source": [
    "checkpoint_best_path = 'C:/Users/acuna/OneDrive/Documents/Callbacks/checkpoint_embedding'\n",
    "checkpoint_best = ModelCheckpoint(filepath=checkpoint_best_path,\n",
    "                                  save_weights_only=True,\n",
    "                                  save_freq='epoch',\n",
    "                                  monitor='val_accuracy',\n",
    "                                  save_best_only=True,\n",
    "                                  verbose=1\n",
    "                                 )\n",
    "history = model.fit(X_train, y_train, epochs=20, validation_data=(X_test, y_test), batch_size=64, callbacks=[checkpoint_best])"
   ]
  },
  {
   "cell_type": "code",
   "execution_count": 334,
   "metadata": {},
   "outputs": [
    {
     "data": {
      "image/png": "[encoded data removed]",
      "text/plain": [
       "<Figure size 432x288 with 1 Axes>"
      ]
     },
     "metadata": {
      "needs_background": "light"
     },
     "output_type": "display_data"
    }
   ],
   "source": [
    "plt.plot(history.history['loss'])\n",
    "plt.plot(history.history['val_loss'])\n",
    "plt.title('Loss vs. epochs')\n",
    "plt.ylabel('Loss')\n",
    "plt.xlabel('Epoch')\n",
    "plt.legend(['Training', 'Validation'], loc='upper right')\n",
    "plt.show()"
   ]
  },
  {
   "cell_type": "code",
   "execution_count": 335,
   "metadata": {},
   "outputs": [
    {
     "data": {
      "image/png": "[encoded data removed]",
      "text/plain": [
       "<Figure size 432x288 with 1 Axes>"
      ]
     },
     "metadata": {
      "needs_background": "light"
     },
     "output_type": "display_data"
    }
   ],
   "source": [
    "plt.plot(history.history['accuracy'])\n",
    "plt.plot(history.history['val_accuracy'])\n",
    "plt.title('Accuracy vs. epochs')\n",
    "plt.ylabel('Accuracy')\n",
    "plt.xlabel('Epoch')\n",
    "plt.legend(['Training', 'Validation'], loc='lower right')\n",
    "plt.show()"
   ]
  },
  {
   "cell_type": "code",
   "execution_count": 336,
   "metadata": {},
   "outputs": [
    {
     "data": {
      "text/plain": [
       "<tensorflow.python.training.tracking.util.CheckpointLoadStatus at 0x25d4def31c8>"
      ]
     },
     "execution_count": 336,
     "metadata": {},
     "output_type": "execute_result"
    }
   ],
   "source": [
    "best_model = get_model()\n",
    "best_model.load_weights(checkpoint_best_path)"
   ]
  },
  {
   "source": [
    "Se observa un F1 Score de 0, lo que junto al gráfico de Accuracy vs Epochs sugiere que hubo algún problema. Probablemente la red neuronal está prediciendo que todos los textos son negativos."
   ],
   "cell_type": "markdown",
   "metadata": {}
  },
  {
   "cell_type": "code",
   "execution_count": 337,
   "metadata": {
    "tags": []
   },
   "outputs": [
    {
     "name": "stdout",
     "output_type": "stream",
     "text": [
      "Test accuracy of best CV params: 0.84688995215311\n",
      "Area Under the ROC Curve: 0.8132062146892655\n",
      "F1 Score: 0.0\n"
     ]
    }
   ],
   "source": [
    "y_pred_proba = best_model.predict(X_test)\n",
    "y_pred = (y_pred_proba > 0.5)*1\n",
    "\n",
    "Accuracy3 = accuracy_score(y_test, y_pred)\n",
    "ROC_AUC3 = roc_auc_score(y_test, y_pred_proba)\n",
    "F1Score3 = f1_score(y_test, y_pred)\n",
    "print(\"Test accuracy of best CV params:\", Accuracy3)\n",
    "print(\"Area Under the ROC Curve:\", ROC_AUC3)\n",
    "print(\"F1 Score:\", F1Score3)"
   ]
  },
  {
   "source": [
    "A continuación se guardan los pesos de la matriz de embeddings para visualizarlos en el proyector de embeddings de Tensorflow. "
   ],
   "cell_type": "markdown",
   "metadata": {}
  },
  {
   "cell_type": "code",
   "execution_count": 59,
   "metadata": {},
   "outputs": [],
   "source": [
    "weights = best_model.layers[0].get_weights()[0]"
   ]
  },
  {
   "cell_type": "markdown",
   "metadata": {},
   "source": [
    "The Tensorflow embedding projector can be found [here](https://projector.tensorflow.org/)."
   ]
  },
  {
   "cell_type": "code",
   "execution_count": 341,
   "metadata": {},
   "outputs": [],
   "source": [
    "import io\n",
    "from os import path\n",
    "\n",
    "out_v = io.open('vecs.tsv', 'w', encoding='utf-8')\n",
    "out_m = io.open('meta.tsv', 'w', encoding='utf-8')\n",
    "\n",
    "k = 0\n",
    "\n",
    "for word, token in word_index.items():\n",
    "    if k != 0:\n",
    "        out_m.write('\\n')\n",
    "        out_v.write('\\n')\n",
    "    \n",
    "    out_v.write('\\t'.join([str(x) for x in weights[token]]))\n",
    "    out_m.write(word)\n",
    "    k += 1\n",
    "    \n",
    "out_v.close()\n",
    "out_m.close()"
   ]
  },
  {
   "cell_type": "markdown",
   "metadata": {},
   "source": [
    "# Recurrent Neural Network\n",
    "El último modelo testeado es un red neuronal recurrente, con neuronas LSTM y matriz de embeddings. Este modelo tiene 481.089 parámetros entrenables, y al igual que en los casos anteriores se guarda el mejor modelo obtenido durante en entrenamiento."
   ]
  },
  {
   "cell_type": "code",
   "execution_count": 338,
   "metadata": {},
   "outputs": [],
   "source": [
    "def get_model():\n",
    "    max_index_value = max(word_index.values())\n",
    "    embedding_dim = 32\n",
    "    model = tf.keras.Sequential([\n",
    "        Embedding(input_dim=max_index_value+1, output_dim=embedding_dim,\n",
    "                  embeddings_regularizer=regularizers.l2(1e-5), mask_zero=True),\n",
    "        LSTM(units=64, kernel_regularizer=regularizers.l2(1e-5), dropout=0.25),\n",
    "        Dense(units=1, activation='sigmoid'),\n",
    "    ])\n",
    "    model.compile(optimizer='adam', loss='binary_crossentropy', metrics=['accuracy', 'AUC'])\n",
    "    return model"
   ]
  },
  {
   "cell_type": "code",
   "execution_count": 339,
   "metadata": {
    "tags": []
   },
   "outputs": [
    {
     "name": "stdout",
     "output_type": "stream",
     "text": [
      "Model: \"sequential_34\"\n",
      "_________________________________________________________________\n",
      "Layer (type)                 Output Shape              Param #   \n",
      "=================================================================\n",
      "embedding_30 (Embedding)     (None, None, 32)          456192    \n",
      "_________________________________________________________________\n",
      "lstm_2 (LSTM)                (None, 64)                24832     \n",
      "_________________________________________________________________\n",
      "dense_72 (Dense)             (None, 1)                 65        \n",
      "=================================================================\n",
      "Total params: 481,089\n",
      "Trainable params: 481,089\n",
      "Non-trainable params: 0\n",
      "_________________________________________________________________\n"
     ]
    }
   ],
   "source": [
    "model = get_model()\n",
    "model.summary()"
   ]
  },
  {
   "cell_type": "code",
   "execution_count": 340,
   "metadata": {
    "tags": []
   },
   "outputs": [
    {
     "name": "stdout",
     "output_type": "stream",
     "text": [
      "Epoch 1/20\n"
     ]
    },
    {
     "name": "stderr",
     "output_type": "stream",
     "text": [
      "C:\\ProgramData\\Anaconda3\\lib\\site-packages\\tensorflow\\python\\framework\\indexed_slices.py:433: UserWarning: Converting sparse IndexedSlices to a dense Tensor of unknown shape. This may consume a large amount of memory.\n",
      "  \"Converting sparse IndexedSlices to a dense Tensor of unknown shape. \"\n"
     ]
    },
    {
     "name": "stdout",
     "output_type": "stream",
     "text": [
      "8/8 [==============================] - ETA: 0s - loss: 0.6785 - accuracy: 0.7860 - auc: 0.4448\n",
      "Epoch 00001: val_accuracy improved from -inf to 0.84689, saving model to C:/Users/acuna/OneDrive/Documents/Callbacks\\checkpoint_rnn\n",
      "8/8 [==============================] - 11s 1s/step - loss: 0.6785 - accuracy: 0.7860 - auc: 0.4448 - val_loss: 0.6306 - val_accuracy: 0.8469 - val_auc: 0.6773\n",
      "Epoch 2/20\n",
      "8/8 [==============================] - ETA: 0s - loss: 0.5353 - accuracy: 0.8457 - auc: 0.5245\n",
      "Epoch 00002: val_accuracy did not improve from 0.84689\n",
      "8/8 [==============================] - 9s 1s/step - loss: 0.5353 - accuracy: 0.8457 - auc: 0.5245 - val_loss: 0.4472 - val_accuracy: 0.8469 - val_auc: 0.6772\n",
      "Epoch 3/20\n",
      "8/8 [==============================] - ETA: 0s - loss: 0.4325 - accuracy: 0.8457 - auc: 0.5927\n",
      "Epoch 00003: val_accuracy did not improve from 0.84689\n",
      "8/8 [==============================] - 8s 1s/step - loss: 0.4325 - accuracy: 0.8457 - auc: 0.5927 - val_loss: 0.4314 - val_accuracy: 0.8469 - val_auc: 0.8115\n",
      "Epoch 4/20\n",
      "8/8 [==============================] - ETA: 0s - loss: 0.4053 - accuracy: 0.8457 - auc: 0.9661\n",
      "Epoch 00004: val_accuracy did not improve from 0.84689\n",
      "8/8 [==============================] - 8s 1s/step - loss: 0.4053 - accuracy: 0.8457 - auc: 0.9661 - val_loss: 0.4136 - val_accuracy: 0.8469 - val_auc: 0.8357\n",
      "Epoch 5/20\n",
      "8/8 [==============================] - ETA: 0s - loss: 0.3706 - accuracy: 0.8457 - auc: 0.9953\n",
      "Epoch 00005: val_accuracy did not improve from 0.84689\n",
      "8/8 [==============================] - 8s 1s/step - loss: 0.3706 - accuracy: 0.8457 - auc: 0.9953 - val_loss: 0.3992 - val_accuracy: 0.8469 - val_auc: 0.8525\n",
      "Epoch 6/20\n",
      "8/8 [==============================] - ETA: 0s - loss: 0.3054 - accuracy: 0.8457 - auc: 0.9994\n",
      "Epoch 00006: val_accuracy did not improve from 0.84689\n",
      "8/8 [==============================] - 8s 1s/step - loss: 0.3054 - accuracy: 0.8457 - auc: 0.9994 - val_loss: 0.3694 - val_accuracy: 0.8469 - val_auc: 0.8743\n",
      "Epoch 7/20\n",
      "8/8 [==============================] - ETA: 0s - loss: 0.1937 - accuracy: 0.8663 - auc: 0.9997\n",
      "Epoch 00007: val_accuracy improved from 0.84689 to 0.86124, saving model to C:/Users/acuna/OneDrive/Documents/Callbacks\\checkpoint_rnn\n",
      "8/8 [==============================] - 8s 1s/step - loss: 0.1937 - accuracy: 0.8663 - auc: 0.9997 - val_loss: 0.3007 - val_accuracy: 0.8612 - val_auc: 0.8986\n",
      "Epoch 8/20\n",
      "8/8 [==============================] - ETA: 0s - loss: 0.1292 - accuracy: 0.9753 - auc: 0.9900\n",
      "Epoch 00008: val_accuracy improved from 0.86124 to 0.88517, saving model to C:/Users/acuna/OneDrive/Documents/Callbacks\\checkpoint_rnn\n",
      "8/8 [==============================] - 9s 1s/step - loss: 0.1292 - accuracy: 0.9753 - auc: 0.9900 - val_loss: 0.2906 - val_accuracy: 0.8852 - val_auc: 0.8811\n",
      "Epoch 9/20\n",
      "8/8 [==============================] - ETA: 0s - loss: 0.0847 - accuracy: 0.9938 - auc: 0.9993\n",
      "Epoch 00009: val_accuracy did not improve from 0.88517\n",
      "8/8 [==============================] - 9s 1s/step - loss: 0.0847 - accuracy: 0.9938 - auc: 0.9993 - val_loss: 0.2744 - val_accuracy: 0.8804 - val_auc: 0.9037\n",
      "Epoch 10/20\n",
      "8/8 [==============================] - ETA: 0s - loss: 0.0625 - accuracy: 1.0000 - auc: 1.0000\n",
      "Epoch 00010: val_accuracy improved from 0.88517 to 0.89474, saving model to C:/Users/acuna/OneDrive/Documents/Callbacks\\checkpoint_rnn\n",
      "8/8 [==============================] - 9s 1s/step - loss: 0.0625 - accuracy: 1.0000 - auc: 1.0000 - val_loss: 0.3062 - val_accuracy: 0.8947 - val_auc: 0.9003\n",
      "Epoch 11/20\n",
      "8/8 [==============================] - ETA: 0s - loss: 0.0417 - accuracy: 0.9979 - auc: 1.0000\n",
      "Epoch 00011: val_accuracy did not improve from 0.89474\n",
      "8/8 [==============================] - 8s 1s/step - loss: 0.0417 - accuracy: 0.9979 - auc: 1.0000 - val_loss: 0.4657 - val_accuracy: 0.8852 - val_auc: 0.8076\n",
      "Epoch 12/20\n",
      "8/8 [==============================] - ETA: 0s - loss: 0.0259 - accuracy: 1.0000 - auc: 1.0000\n",
      "Epoch 00012: val_accuracy did not improve from 0.89474\n",
      "8/8 [==============================] - 9s 1s/step - loss: 0.0259 - accuracy: 1.0000 - auc: 1.0000 - val_loss: 0.4352 - val_accuracy: 0.8947 - val_auc: 0.8084\n",
      "Epoch 13/20\n",
      "8/8 [==============================] - ETA: 0s - loss: 0.0161 - accuracy: 1.0000 - auc: 1.0000\n",
      "Epoch 00013: val_accuracy improved from 0.89474 to 0.89952, saving model to C:/Users/acuna/OneDrive/Documents/Callbacks\\checkpoint_rnn\n",
      "8/8 [==============================] - 8s 1s/step - loss: 0.0161 - accuracy: 1.0000 - auc: 1.0000 - val_loss: 0.3612 - val_accuracy: 0.8995 - val_auc: 0.8584\n",
      "Epoch 14/20\n",
      "8/8 [==============================] - ETA: 0s - loss: 0.0191 - accuracy: 0.9959 - auc: 1.0000\n",
      "Epoch 00014: val_accuracy did not improve from 0.89952\n",
      "8/8 [==============================] - 9s 1s/step - loss: 0.0191 - accuracy: 0.9959 - auc: 1.0000 - val_loss: 0.3537 - val_accuracy: 0.8947 - val_auc: 0.8922\n",
      "Epoch 15/20\n",
      "8/8 [==============================] - ETA: 0s - loss: 0.0133 - accuracy: 0.9979 - auc: 1.0000\n",
      "Epoch 00015: val_accuracy did not improve from 0.89952\n",
      "8/8 [==============================] - 9s 1s/step - loss: 0.0133 - accuracy: 0.9979 - auc: 1.0000 - val_loss: 0.5157 - val_accuracy: 0.8947 - val_auc: 0.8016\n",
      "Epoch 16/20\n",
      "8/8 [==============================] - ETA: 0s - loss: 0.0134 - accuracy: 1.0000 - auc: 1.0000\n",
      "Epoch 00016: val_accuracy did not improve from 0.89952\n",
      "8/8 [==============================] - 8s 1s/step - loss: 0.0134 - accuracy: 1.0000 - auc: 1.0000 - val_loss: 0.6193 - val_accuracy: 0.8804 - val_auc: 0.7367\n",
      "Epoch 17/20\n",
      "8/8 [==============================] - ETA: 0s - loss: 0.0132 - accuracy: 1.0000 - auc: 1.0000\n",
      "Epoch 00017: val_accuracy did not improve from 0.89952\n",
      "8/8 [==============================] - 8s 1s/step - loss: 0.0132 - accuracy: 1.0000 - auc: 1.0000 - val_loss: 0.6118 - val_accuracy: 0.8804 - val_auc: 0.7356\n",
      "Epoch 18/20\n",
      "8/8 [==============================] - ETA: 0s - loss: 0.0105 - accuracy: 1.0000 - auc: 1.0000\n",
      "Epoch 00018: val_accuracy improved from 0.89952 to 0.90431, saving model to C:/Users/acuna/OneDrive/Documents/Callbacks\\checkpoint_rnn\n",
      "8/8 [==============================] - 8s 1s/step - loss: 0.0105 - accuracy: 1.0000 - auc: 1.0000 - val_loss: 0.5241 - val_accuracy: 0.9043 - val_auc: 0.8032\n",
      "Epoch 19/20\n",
      "8/8 [==============================] - ETA: 0s - loss: 0.0086 - accuracy: 1.0000 - auc: 1.0000\n",
      "Epoch 00019: val_accuracy did not improve from 0.90431\n",
      "8/8 [==============================] - 9s 1s/step - loss: 0.0086 - accuracy: 1.0000 - auc: 1.0000 - val_loss: 0.5042 - val_accuracy: 0.8947 - val_auc: 0.8036\n",
      "Epoch 20/20\n",
      "8/8 [==============================] - ETA: 0s - loss: 0.0073 - accuracy: 1.0000 - auc: 1.0000\n",
      "Epoch 00020: val_accuracy did not improve from 0.90431\n",
      "8/8 [==============================] - 9s 1s/step - loss: 0.0073 - accuracy: 1.0000 - auc: 1.0000 - val_loss: 0.4872 - val_accuracy: 0.8900 - val_auc: 0.8053\n"
     ]
    }
   ],
   "source": [
    "checkpoint_best_path = 'C:/Users/acuna/OneDrive/Documents/Callbacks/checkpoint_rnn'\n",
    "checkpoint_best = ModelCheckpoint(filepath=checkpoint_best_path,\n",
    "                                  save_weights_only=True,\n",
    "                                  save_freq='epoch',\n",
    "                                  monitor='val_accuracy',\n",
    "                                  save_best_only=True,\n",
    "                                  verbose=1\n",
    "                                 )\n",
    "history = model.fit(X_train, y_train, epochs=20, validation_data=(X_test, y_test), batch_size=64, callbacks=[checkpoint_best])"
   ]
  },
  {
   "cell_type": "code",
   "execution_count": 341,
   "metadata": {},
   "outputs": [
    {
     "data": {
      "image/png": "[encoded data removed]",
      "text/plain": [
       "<Figure size 432x288 with 1 Axes>"
      ]
     },
     "metadata": {
      "needs_background": "light"
     },
     "output_type": "display_data"
    }
   ],
   "source": [
    "plt.plot(history.history['loss'])\n",
    "plt.plot(history.history['val_loss'])\n",
    "plt.title('Loss vs. epochs')\n",
    "plt.ylabel('Loss')\n",
    "plt.xlabel('Epoch')\n",
    "plt.legend(['Training', 'Validation'], loc='upper right')\n",
    "plt.show()"
   ]
  },
  {
   "cell_type": "code",
   "execution_count": 342,
   "metadata": {},
   "outputs": [
    {
     "data": {
      "image/png": "[encoded data removed]",
      "text/plain": [
       "<Figure size 432x288 with 1 Axes>"
      ]
     },
     "metadata": {
      "needs_background": "light"
     },
     "output_type": "display_data"
    }
   ],
   "source": [
    "plt.plot(history.history['accuracy'])\n",
    "plt.plot(history.history['val_accuracy'])\n",
    "plt.title('Accuracy vs. epochs')\n",
    "plt.ylabel('Accuracy')\n",
    "plt.xlabel('Epoch')\n",
    "plt.legend(['Training', 'Validation'], loc='lower right')\n",
    "plt.show()"
   ]
  },
  {
   "cell_type": "code",
   "execution_count": 343,
   "metadata": {},
   "outputs": [
    {
     "data": {
      "text/plain": [
       "<tensorflow.python.training.tracking.util.CheckpointLoadStatus at 0x25d044eb2c8>"
      ]
     },
     "execution_count": 343,
     "metadata": {},
     "output_type": "execute_result"
    }
   ],
   "source": [
    "best_model = get_model()\n",
    "best_model.load_weights(checkpoint_best_path)"
   ]
  },
  {
   "source": [
    "El resultado es decente pero no tan bueno como en casos anteriores, lo que se debe a que se produce mucho overfitting durante el entrenamiento. Este modelo (al igual que las otras redes neuronales) requiere una mayor cantidad de datos para funcionar bien."
   ],
   "cell_type": "markdown",
   "metadata": {}
  },
  {
   "cell_type": "code",
   "execution_count": 344,
   "metadata": {
    "tags": []
   },
   "outputs": [
    {
     "name": "stdout",
     "output_type": "stream",
     "text": [
      "Test accuracy of best CV params: 0.9043062200956937\n",
      "Area Under the ROC Curve: 0.8227401129943502\n",
      "F1 Score: 0.5454545454545454\n"
     ]
    }
   ],
   "source": [
    "y_pred_proba = best_model.predict(X_test)\n",
    "y_pred = (y_pred_proba > 0.5)*1\n",
    "\n",
    "Accuracy4 = accuracy_score(y_test, y_pred)\n",
    "ROC_AUC4 = roc_auc_score(y_test, y_pred_proba)\n",
    "F1Score4 = f1_score(y_test, y_pred)\n",
    "print(\"Test accuracy of best CV params:\", Accuracy4)\n",
    "print(\"Area Under the ROC Curve:\", ROC_AUC4)\n",
    "print(\"F1 Score:\", F1Score4)"
   ]
  },
  {
   "cell_type": "code",
   "execution_count": null,
   "metadata": {},
   "outputs": [],
   "source": []
  }
 ],
 "metadata": {
  "kernelspec": {
   "display_name": "Python 3",
   "language": "python",
   "name": "python3"
  },
  "language_info": {
   "codemirror_mode": {
    "name": "ipython",
    "version": 3
   },
   "file_extension": ".py",
   "mimetype": "text/x-python",
   "name": "python",
   "nbconvert_exporter": "python",
   "pygments_lexer": "ipython3",
   "version": "3.7.9"
  }
 },
 "nbformat": 4,
 "nbformat_minor": 2
}
