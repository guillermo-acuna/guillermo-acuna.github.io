{
 "cells": [
  {
   "cell_type": "markdown",
   "metadata": {},
   "source": [
    "# Predicción de precios de los derechos de agua\n",
    "En este ejercicio se prueban distintos métodos para hacer predicciones de precios de derechos de agua. Estos precios corresponden a transacciones realizadas para la primera sección del Río Maipo, en la Región Metropolitana, Chile. \n",
    "\n",
    "A continuación se cargan los paquetes a utilizar y se ajustan algunos formatos para los outputs."
   ]
  },
  {
   "cell_type": "code",
   "execution_count": 1,
   "metadata": {},
   "outputs": [],
   "source": [
    "import pandas as pd\n",
    "import numpy as np\n",
    "import matplotlib.pyplot as plt\n",
    "from statsmodels.regression.quantile_regression import QuantReg\n",
    "from sklearn.model_selection import train_test_split, GridSearchCV\n",
    "from sklearn.metrics import mean_squared_error, mean_absolute_error\n",
    "from sklearn.linear_model import LinearRegression, Ridge, Lasso, HuberRegressor\n",
    "from sklearn.ensemble import RandomForestRegressor\n",
    "import xgboost as xgb\n",
    "\n",
    "\n",
    "pd.set_option('display.float_format', lambda x: '%.3f' % x) # formato del output, 3 decimales\n",
    "pd.set_option('display.max_columns', 100) # número máximo de columnas a mostrar en el terminal\n",
    "pd.set_option('display.max_rows', 100) # número máximo de filas a mostrar en el terminal"
   ]
  },
  {
   "cell_type": "markdown",
   "metadata": {},
   "source": [
    "Luego se carga la base de datos y se realiza un análisis inicial. La base de datos tiene 3.723 observaciones y 7 variables:\n",
    "- **CBR**. Conservador de bienes raíces en que se registró la transacción.\n",
    "- **Year**. Año de la transacción.\n",
    "- **Month**. Mes de la transacción.\n",
    "- **Monto**. Monto monetario total, en pesos chilenos, involucrado en la transacción. \n",
    "- **Caudal**. Caudal involucrado en la transacción, en m3 por segundo.\n",
    "- **Precio**. Precio unitario por m3, resulta de dividir el precio por el caudal.\n",
    "- **Acuífero**. Fuente natural de donde proviene el agua."
   ]
  },
  {
   "cell_type": "code",
   "execution_count": 7,
   "metadata": {},
   "outputs": [
    {
     "name": "stdout",
     "output_type": "stream",
     "text": [
      "(3723, 7)\n",
      "<class 'pandas.core.frame.DataFrame'>\n",
      "RangeIndex: 3723 entries, 0 to 3722\n",
      "Data columns (total 7 columns):\n",
      " #   Column    Non-Null Count  Dtype  \n",
      "---  ------    --------------  -----  \n",
      " 0   cbr       3723 non-null   object \n",
      " 1   year      3723 non-null   int64  \n",
      " 2   month     3723 non-null   int64  \n",
      " 3   monto     3723 non-null   float64\n",
      " 4   caudal    3723 non-null   float64\n",
      " 5   precio    3723 non-null   float64\n",
      " 6   acuifero  3723 non-null   object \n",
      "dtypes: float64(3), int64(2), object(2)\n",
      "memory usage: 203.7+ KB\n",
      "None\n",
      "    cbr  year  month   monto  caudal    precio   acuifero\n",
      "0  Buin  2009      1  23.314   0.036   650.729  Río Maipo\n",
      "1  Buin  2009      1 984.541   0.016 63111.621  Río Maipo\n",
      "2  Buin  2009      1  71.710   0.026  2753.100  Río Maipo\n",
      "3  Buin  2009      1  50.000   0.026  1886.792  Río Maipo\n",
      "4  Buin  2009      2  47.221   0.030  1574.047  Río Maipo\n",
      "          year    month     monto   caudal      precio\n",
      "count 3723.000 3723.000  3723.000 3723.000    3723.000\n",
      "mean  2013.183    6.642   328.276    0.192    7587.069\n",
      "std      2.708    3.382  1537.882    0.586   49509.324\n",
      "min   2009.000    1.000     0.000    0.000       0.002\n",
      "25%   2011.000    4.000    47.109    0.028     893.024\n",
      "50%   2013.000    7.000   100.000    0.040    2088.773\n",
      "75%   2015.000   10.000   215.000    0.079    4714.498\n",
      "max   2018.000   12.000 77170.370   13.997 1967055.750\n"
     ]
    }
   ],
   "source": [
    "dataset = pd.read_csv('C:/Users/acuna/Dropbox/Consultora/EDA SPA/Analisis&BBDD/Precios de derechos de agua/dataset.csv')\n",
    "print(dataset.shape)\n",
    "print(dataset.info())\n",
    "print(dataset.head())\n",
    "print(dataset.describe())"
   ]
  },
  {
   "cell_type": "markdown",
   "metadata": {},
   "source": [
    "Luego se realizan varios procedimientos:\n",
    "- Se elimina la variable **monto**, ya que su información es redudante, pues ya está contenida en las variables precio y caudal.\n",
    "- Se elimina la variable **acuífero**, ya que no se trata de una variable sino de una constante, dado que todas las transacciones se realizaron en el mismo acuífero. \n",
    "- Se analiza la variable categórica **CBR** y se encuentra que se registraron transacciones en 4 conservadores de bienes raíces. Luego se generan dummies a partir de esta variable, y se elimina la primera categoría. Luego se elimina la variable CBR.\n",
    "- Se analiza la variable **month**. Se encuentra que se registraron transacciones en todos los meses del año. Esta variable se transforma en una serie de variables dummy, que permitirán modelar la posible estacionalidad en los precios.\n",
    "- Se une la base de datos con las dummies generadas para CBR y meses.\n",
    "- Se genera un índice para la base de datos, usando el año y mes para generar la fecha de la transacción. Luego se elimina la variable month. La variable **year** se conserva, para modelar una posible tendencia temporal en los precios."
   ]
  },
  {
   "cell_type": "code",
   "execution_count": 8,
   "metadata": {},
   "outputs": [
    {
     "name": "stdout",
     "output_type": "stream",
     "text": [
      "Río Maipo    3723\n",
      "Name: acuifero, dtype: int64\n",
      "Puente Alto     1376\n",
      "San Bernardo    1192\n",
      "Buin            1069\n",
      "Talagante         86\n",
      "Name: cbr, dtype: int64\n",
      "6     333\n",
      "5     332\n",
      "12    331\n",
      "8     331\n",
      "7     323\n",
      "10    321\n",
      "4     321\n",
      "9     320\n",
      "3     316\n",
      "1     306\n",
      "11    287\n",
      "2     202\n",
      "Name: month, dtype: int64\n",
      "            year  caudal    precio  Puente Alto  San Bernardo  Talagante  2  \\\n",
      "date                                                                          \n",
      "2009-01-01  2009   0.036   650.729            0             0          0  0   \n",
      "2009-01-01  2009   0.016 63111.621            0             0          0  0   \n",
      "2009-01-01  2009   0.026  2753.100            0             0          0  0   \n",
      "2009-01-01  2009   0.026  1886.792            0             0          0  0   \n",
      "2009-02-01  2009   0.030  1574.047            0             0          0  1   \n",
      "\n",
      "            3  4  5  6  7  8  9  10  11  12  \n",
      "date                                         \n",
      "2009-01-01  0  0  0  0  0  0  0   0   0   0  \n",
      "2009-01-01  0  0  0  0  0  0  0   0   0   0  \n",
      "2009-01-01  0  0  0  0  0  0  0   0   0   0  \n",
      "2009-01-01  0  0  0  0  0  0  0   0   0   0  \n",
      "2009-02-01  0  0  0  0  0  0  0   0   0   0  \n"
     ]
    }
   ],
   "source": [
    "dataset = dataset.drop('monto', axis=1)\n",
    "\n",
    "print(pd.value_counts(dataset.acuifero))\n",
    "dataset = dataset.drop('acuifero', axis=1)\n",
    "\n",
    "print(pd.value_counts(dataset.cbr))\n",
    "cbrs = pd.get_dummies(dataset.cbr, drop_first=True)\n",
    "dataset = dataset.drop('cbr', axis=1)\n",
    "\n",
    "print(pd.value_counts(dataset.month))\n",
    "meses = pd.get_dummies(dataset.month, drop_first=True)\n",
    "\n",
    "dataset = pd.concat([dataset, cbrs, meses], axis=1)\n",
    "\n",
    "dataset['date'] = pd.to_datetime(dataset.year.astype(str) + '/' + dataset.month.astype(str) + '/01')\n",
    "dataset = dataset.set_index('date', drop=True)\n",
    "dataset = dataset.drop('month', axis=1)\n",
    "print(dataset.head())"
   ]
  },
  {
   "cell_type": "markdown",
   "metadata": {},
   "source": [
    "Luego se analiza la relación entre **Caudal y Precio**. Esta relación es interesante ya que se trata de las dos únicas variables continuas en la base de datos. El scatter plot no muestra un relación clara, lo que se debería a la presencia de outliers en los datos. En los gráficos de caja (box plot) se observa que las variables tienen muchos outliers a la derecha de la distribución, lo que es típico de este tipo de datos. Esta característica de los datos hace que sea difícil modelarlos efectivamente, ya que los outliers afectan las estimaciones."
   ]
  },
  {
   "cell_type": "code",
   "execution_count": 9,
   "metadata": {},
   "outputs": [
    {
     "data": {
      "image/png": "[encoded data removed]",
      "text/plain": [
       "<Figure size 432x288 with 1 Axes>"
      ]
     },
     "metadata": {
      "needs_background": "light"
     },
     "output_type": "display_data"
    },
    {
     "data": {
      "image/png": "[encoded data removed]",
      "text/plain": [
       "<Figure size 432x288 with 1 Axes>"
      ]
     },
     "metadata": {
      "needs_background": "light"
     },
     "output_type": "display_data"
    },
    {
     "data": {
      "image/png": "[encoded data removed]",
      "text/plain": [
       "<Figure size 432x288 with 1 Axes>"
      ]
     },
     "metadata": {
      "needs_background": "light"
     },
     "output_type": "display_data"
    }
   ],
   "source": [
    "plt.figure()\n",
    "plt.title('Relación entre Caudal y Precio')\n",
    "plt.scatter(dataset.caudal, dataset.precio, marker='.', alpha=0.4)\n",
    "plt.xlabel('caudal')\n",
    "plt.ylabel('precio')\n",
    "plt.show()\n",
    "\n",
    "plt.figure()\n",
    "plt.title('Precio')\n",
    "plt.boxplot(dataset.precio, vert=False)\n",
    "\n",
    "plt.figure()\n",
    "plt.title('Caudal')\n",
    "plt.boxplot(dataset.caudal, vert=False)\n",
    "plt.show()"
   ]
  },
  {
   "cell_type": "markdown",
   "metadata": {},
   "source": [
    "Para compensar el efecto de los outliers se opta por transformar las variables, usando logaritmo natural. Se observa que la transformación logró hacer que la distribución de las variables sea más simétrica. De esta manera, se observa una clara relación negativa entre caudal y precio. A mayor caudal menor precio. En otras palabras, existe un descuento por volumen en las transacciones. Esta relación es típica en este tipo de datos, y se ha registrado previamente en la litertura."
   ]
  },
  {
   "cell_type": "code",
   "execution_count": 10,
   "metadata": {},
   "outputs": [
    {
     "data": {
      "image/png": "[encoded data removed]",
      "text/plain": [
       "<Figure size 432x288 with 1 Axes>"
      ]
     },
     "metadata": {
      "needs_background": "light"
     },
     "output_type": "display_data"
    },
    {
     "data": {
      "image/png": "[encoded data removed]",
      "text/plain": [
       "<Figure size 432x288 with 1 Axes>"
      ]
     },
     "metadata": {
      "needs_background": "light"
     },
     "output_type": "display_data"
    },
    {
     "data": {
      "image/png": "[encoded data removed]",
      "text/plain": [
       "<Figure size 432x288 with 1 Axes>"
      ]
     },
     "metadata": {
      "needs_background": "light"
     },
     "output_type": "display_data"
    }
   ],
   "source": [
    "dataset['precio'] = np.log(dataset.precio)\n",
    "dataset['caudal'] = np.log(dataset.caudal)\n",
    "\n",
    "plt.figure()\n",
    "plt.title('Precio')\n",
    "plt.boxplot(dataset.precio, vert=False)\n",
    "\n",
    "plt.figure()\n",
    "plt.title('Caudal')\n",
    "plt.boxplot(dataset.caudal, vert=False)\n",
    "plt.show()\n",
    "\n",
    "plt.figure()\n",
    "plt.title('Relación entre Caudal y Precio')\n",
    "plt.scatter(dataset.caudal, dataset.precio, marker='.', alpha=0.4)\n",
    "plt.xlabel('caudal')\n",
    "plt.ylabel('precio')\n",
    "plt.show()"
   ]
  },
  {
   "cell_type": "markdown",
   "metadata": {},
   "source": [
    "Por último se generan la variable dependiente, y, y la matriz de regresores, X. Se verifica si existen correlaciones importantes entre los regresores y se observa que no. Luego se divide la muestra en un set de entrenamiento y otro para testeo (30% de la muestra). "
   ]
  },
  {
   "cell_type": "code",
   "execution_count": 11,
   "metadata": {},
   "outputs": [
    {
     "name": "stdout",
     "output_type": "stream",
     "text": [
      "               year  caudal  Puente Alto  San Bernardo  Talagante      2  \\\n",
      "year          1.000   0.006       -0.118         0.023     -0.050 -0.014   \n",
      "caudal        0.006   1.000       -0.030         0.033     -0.104 -0.045   \n",
      "Puente Alto  -0.118  -0.030        1.000        -0.525     -0.118 -0.009   \n",
      "San Bernardo  0.023   0.033       -0.525         1.000     -0.106  0.014   \n",
      "Talagante    -0.050  -0.104       -0.118        -0.106      1.000  0.026   \n",
      "2            -0.014  -0.045       -0.009         0.014      0.026  1.000   \n",
      "3             0.014  -0.017       -0.006        -0.021      0.004 -0.073   \n",
      "4             0.036   0.010        0.001         0.000      0.004 -0.074   \n",
      "5             0.044   0.015       -0.005         0.005      0.021 -0.075   \n",
      "6             0.006  -0.006        0.006         0.017      0.014 -0.075   \n",
      "7            -0.001   0.003       -0.011         0.003      0.003 -0.074   \n",
      "8            -0.002   0.001       -0.007         0.002     -0.017 -0.075   \n",
      "9            -0.021   0.013        0.009        -0.003     -0.002 -0.073   \n",
      "10           -0.023  -0.021        0.023        -0.014     -0.009 -0.074   \n",
      "11           -0.046  -0.012       -0.008         0.013     -0.011 -0.069   \n",
      "12           -0.019   0.050       -0.007        -0.004     -0.023 -0.075   \n",
      "\n",
      "                  3      4      5      6      7      8      9     10     11  \\\n",
      "year          0.014  0.036  0.044  0.006 -0.001 -0.002 -0.021 -0.023 -0.046   \n",
      "caudal       -0.017  0.010  0.015 -0.006  0.003  0.001  0.013 -0.021 -0.012   \n",
      "Puente Alto  -0.006  0.001 -0.005  0.006 -0.011 -0.007  0.009  0.023 -0.008   \n",
      "San Bernardo -0.021  0.000  0.005  0.017  0.003  0.002 -0.003 -0.014  0.013   \n",
      "Talagante     0.004  0.004  0.021  0.014  0.003 -0.017 -0.002 -0.009 -0.011   \n",
      "2            -0.073 -0.074 -0.075 -0.075 -0.074 -0.075 -0.073 -0.074 -0.069   \n",
      "3             1.000 -0.094 -0.095 -0.095 -0.094 -0.095 -0.093 -0.094 -0.088   \n",
      "4            -0.094  1.000 -0.096 -0.096 -0.095 -0.096 -0.094 -0.094 -0.089   \n",
      "5            -0.095 -0.096  1.000 -0.098 -0.096 -0.098 -0.096 -0.096 -0.090   \n",
      "6            -0.095 -0.096 -0.098  1.000 -0.097 -0.098 -0.096 -0.096 -0.091   \n",
      "7            -0.094 -0.095 -0.096 -0.097  1.000 -0.096 -0.095 -0.095 -0.089   \n",
      "8            -0.095 -0.096 -0.098 -0.098 -0.096  1.000 -0.096 -0.096 -0.090   \n",
      "9            -0.093 -0.094 -0.096 -0.096 -0.095 -0.096  1.000 -0.094 -0.089   \n",
      "10           -0.094 -0.094 -0.096 -0.096 -0.095 -0.096 -0.094  1.000 -0.089   \n",
      "11           -0.088 -0.089 -0.090 -0.091 -0.089 -0.090 -0.089 -0.089  1.000   \n",
      "12           -0.095 -0.096 -0.098 -0.098 -0.096 -0.098 -0.096 -0.096 -0.090   \n",
      "\n",
      "                 12  \n",
      "year         -0.019  \n",
      "caudal        0.050  \n",
      "Puente Alto  -0.007  \n",
      "San Bernardo -0.004  \n",
      "Talagante    -0.023  \n",
      "2            -0.075  \n",
      "3            -0.095  \n",
      "4            -0.096  \n",
      "5            -0.098  \n",
      "6            -0.098  \n",
      "7            -0.096  \n",
      "8            -0.098  \n",
      "9            -0.096  \n",
      "10           -0.096  \n",
      "11           -0.090  \n",
      "12            1.000  \n"
     ]
    }
   ],
   "source": [
    "# Generación de bases de datos de entrenamiento y testeo\n",
    "y = dataset['precio']\n",
    "X = dataset.drop('precio', axis=1)\n",
    "\n",
    "print(X.corr())\n",
    "\n",
    "X_train, X_test, y_train, y_test = train_test_split(X, y, test_size=0.3, random_state=123)"
   ]
  },
  {
   "cell_type": "markdown",
   "metadata": {},
   "source": [
    "En primer lugar se estima un modelo de **regresión de cuantiles**, también conocido como LAD (Least Absolute Deviations) en el caso de q=0.5. En este tipo de modelos se ajusta una línea que pasa por la mediana condicional de los datos, que es menos sensible que la media a la presencia de outliers. Se trata de un modelo robusto a outliers.\n",
    "\n",
    "Se muestran las estimaciones del modelo y se verifica que sólo dos variables, el año y caudal, tienen coeficientes  significativos. Em RMSE del modelo fue de 1.260 y el MAE fue de 0.917. El MAE, o mean absolute error, es más adecuado para medir el error cuando se está en presencia de outliers."
   ]
  },
  {
   "cell_type": "code",
   "execution_count": 13,
   "metadata": {},
   "outputs": [
    {
     "name": "stdout",
     "output_type": "stream",
     "text": [
      "                         QuantReg Regression Results                          \n",
      "==============================================================================\n",
      "Dep. Variable:                 precio   Pseudo R-squared:               0.1632\n",
      "Model:                       QuantReg   Bandwidth:                      0.3961\n",
      "Method:                 Least Squares   Sparsity:                        2.464\n",
      "Date:                Mon, 27 Jul 2020   No. Observations:                 2606\n",
      "Time:                        18:35:23   Df Residuals:                     2590\n",
      "                                        Df Model:                           16\n",
      "================================================================================\n",
      "                   coef    std err          t      P>|t|      [0.025      0.975]\n",
      "--------------------------------------------------------------------------------\n",
      "year             0.0030   5.27e-05     56.599      0.000       0.003       0.003\n",
      "caudal          -0.5794      0.018    -33.083      0.000      -0.614      -0.545\n",
      "Puente Alto      0.0145      0.060      0.242      0.809      -0.103       0.132\n",
      "San Bernardo     0.0549      0.061      0.893      0.372      -0.066       0.175\n",
      "Talagante        0.1066      0.175      0.610      0.542      -0.236       0.449\n",
      "2               -0.2591      0.137     -1.897      0.058      -0.527       0.009\n",
      "3               -0.0664      0.120     -0.554      0.580      -0.301       0.169\n",
      "4               -0.1774      0.118     -1.504      0.133      -0.409       0.054\n",
      "5               -0.0310      0.117     -0.265      0.791      -0.260       0.198\n",
      "6               -0.0749      0.119     -0.627      0.530      -0.309       0.159\n",
      "7               -0.1733      0.120     -1.439      0.150      -0.410       0.063\n",
      "8               -0.0030      0.120     -0.025      0.980      -0.238       0.232\n",
      "9                0.0106      0.118      0.090      0.929      -0.221       0.242\n",
      "10               0.0259      0.119      0.217      0.829      -0.208       0.260\n",
      "11              -0.1254      0.120     -1.041      0.298      -0.362       0.111\n",
      "12               0.0697      0.120      0.580      0.562      -0.166       0.305\n",
      "================================================================================\n",
      "\n",
      "The condition number is large, 2.5e+04. This might indicate that there are\n",
      "strong multicollinearity or other numerical problems.\n",
      "RMSE Quantile Regression: 1.260\n",
      "MAE Quantile Regression: 0.917\n"
     ]
    }
   ],
   "source": [
    "# Quantile Regression\n",
    "model = QuantReg(y_train, X_train)\n",
    "res = model.fit(q=.5)\n",
    "print(res.summary())\n",
    "y_pred = res.predict(X_test)\n",
    "RMSE1 = np.sqrt(mean_squared_error(y_test, y_pred))\n",
    "MAE1 = mean_absolute_error(y_test, y_pred)\n",
    "print(\"RMSE Quantile Regression: %.3f\" % (RMSE1))\n",
    "print(\"MAE Quantile Regression: %.3f\" % (MAE1))"
   ]
  },
  {
   "cell_type": "markdown",
   "metadata": {},
   "source": [
    "Luego se ajusta un modelo de **regresión lineal**. Inesperadamente su ajuste es mejor que el de la regresión de cuantiles. Esto se debería a que en la distribución condicional del precio sobre el caudal se observan pocos outliers, como se observa en el gráfico de dispersión. Por esta razón los outliers no tuvieron un efecto significativo sobre las estimaciones."
   ]
  },
  {
   "cell_type": "code",
   "execution_count": 14,
   "metadata": {},
   "outputs": [
    {
     "name": "stdout",
     "output_type": "stream",
     "text": [
      "RMSE Linear Regression: 1.244\n",
      "MAE Linear Regression: 0.912\n"
     ]
    }
   ],
   "source": [
    "# Linear Regression\n",
    "model = LinearRegression()\n",
    "model.fit(X_train, y_train)\n",
    "y_pred = model.predict(X_test)\n",
    "RMSE2 = np.sqrt(mean_squared_error(y_test, y_pred))\n",
    "MAE2 = mean_absolute_error(y_test, y_pred)\n",
    "print(\"RMSE Linear Regression: %.3f\" % (RMSE2))\n",
    "print(\"MAE Linear Regression: %.3f\" % (MAE2))"
   ]
  },
  {
   "cell_type": "markdown",
   "metadata": {},
   "source": [
    "Luego se ajusta una **regresión de Ridge**. Los resultados son levemente mejores que los de la regresión lineal. Se menciona que en todos los modelos en que se seleccionan valores para los hiperparámetros, se usa el **error absoluto medio** para evaluar los resultados."
   ]
  },
  {
   "cell_type": "code",
   "execution_count": 15,
   "metadata": {},
   "outputs": [
    {
     "name": "stdout",
     "output_type": "stream",
     "text": [
      "Fitting 4 folds for each of 20 candidates, totalling 80 fits\n"
     ]
    },
    {
     "name": "stderr",
     "output_type": "stream",
     "text": [
      "[Parallel(n_jobs=-1)]: Using backend LokyBackend with 8 concurrent workers.\n"
     ]
    },
    {
     "name": "stdout",
     "output_type": "stream",
     "text": [
      "Best CV params {'alpha': 237.9866508821521}\n",
      "RMSE Ridge Regression: 1.244\n",
      "MAE Ridge Regression: 0.909\n"
     ]
    },
    {
     "name": "stderr",
     "output_type": "stream",
     "text": [
      "[Parallel(n_jobs=-1)]: Done  34 tasks      | elapsed:    2.4s\n",
      "[Parallel(n_jobs=-1)]: Done  80 out of  80 | elapsed:    2.5s finished\n"
     ]
    }
   ],
   "source": [
    "# Ridge\n",
    "model = Ridge(random_state=123)\n",
    "params = {'alpha': 2**np.linspace(-10, 10, 20)}\n",
    "searcher = GridSearchCV(estimator=model, \n",
    "                        param_grid=params, \n",
    "                        scoring=\"neg_mean_absolute_error\", \n",
    "                        cv=4, \n",
    "                        verbose=1,\n",
    "                        n_jobs=-1)\n",
    "searcher.fit(X_train, y_train)\n",
    "print(\"Best CV params\", searcher.best_params_)\n",
    "best_model = searcher.best_estimator_\n",
    "y_pred = best_model.predict(X_test)\n",
    "RMSE3 = np.sqrt(mean_squared_error(y_test, y_pred))\n",
    "MAE3 = mean_absolute_error(y_test, y_pred)\n",
    "print(\"RMSE Ridge Regression: %.3f\" % (RMSE3))\n",
    "print(\"MAE Ridge Regression: %.3f\" % (MAE3))"
   ]
  },
  {
   "cell_type": "markdown",
   "metadata": {},
   "source": [
    "A continuación se ajusta una **Lasso regression**. Los resultados son levemente inferiores a Ridge."
   ]
  },
  {
   "cell_type": "code",
   "execution_count": 16,
   "metadata": {},
   "outputs": [
    {
     "name": "stdout",
     "output_type": "stream",
     "text": [
      "Fitting 4 folds for each of 20 candidates, totalling 80 fits\n"
     ]
    },
    {
     "name": "stderr",
     "output_type": "stream",
     "text": [
      "[Parallel(n_jobs=-1)]: Using backend LokyBackend with 8 concurrent workers.\n"
     ]
    },
    {
     "name": "stdout",
     "output_type": "stream",
     "text": [
      "Best CV params {'alpha': 0.03750320998681571}\n",
      "RMSE Lasso Regression: 1.245\n",
      "MAE Lasso Regression: 0.909\n"
     ]
    },
    {
     "name": "stderr",
     "output_type": "stream",
     "text": [
      "[Parallel(n_jobs=-1)]: Done  80 out of  80 | elapsed:    0.3s finished\n"
     ]
    }
   ],
   "source": [
    "# Lasso\n",
    "model = Lasso(random_state=123)\n",
    "params = {'alpha': 2**np.linspace(-10, 10, 20)}\n",
    "searcher = GridSearchCV(estimator=model, \n",
    "                        param_grid=params, \n",
    "                        scoring=\"neg_mean_absolute_error\", \n",
    "                        cv=4, \n",
    "                        verbose=1,\n",
    "                        n_jobs=-1)\n",
    "searcher.fit(X_train, y_train)\n",
    "print(\"Best CV params\", searcher.best_params_)\n",
    "best_model = searcher.best_estimator_\n",
    "y_pred = best_model.predict(X_test)\n",
    "RMSE4 = np.sqrt(mean_squared_error(y_test, y_pred))\n",
    "MAE4 = mean_absolute_error(y_test, y_pred)\n",
    "print(\"RMSE Lasso Regression: %.3f\" % (RMSE4))\n",
    "print(\"MAE Lasso Regression: %.3f\" % (MAE4))"
   ]
  },
  {
   "cell_type": "markdown",
   "metadata": {},
   "source": [
    "Luego se ajusta una **Huber regression**, que es un tipo de regresión robusta, menos sensible a outliers que la regresión convencional. Los resultados no son tan buenos como en los casos anteriores."
   ]
  },
  {
   "cell_type": "code",
   "execution_count": 17,
   "metadata": {},
   "outputs": [
    {
     "name": "stdout",
     "output_type": "stream",
     "text": [
      "Fitting 4 folds for each of 80 candidates, totalling 320 fits\n"
     ]
    },
    {
     "name": "stderr",
     "output_type": "stream",
     "text": [
      "[Parallel(n_jobs=-1)]: Using backend LokyBackend with 8 concurrent workers.\n",
      "[Parallel(n_jobs=-1)]: Done  52 tasks      | elapsed:    0.7s\n"
     ]
    },
    {
     "name": "stdout",
     "output_type": "stream",
     "text": [
      "Best CV params {'alpha': 0.33472602530611795, 'epsilon': 1.75}\n",
      "RMSE Huber Regression: 1.257\n",
      "MAE Huber Regression: 0.915\n"
     ]
    },
    {
     "name": "stderr",
     "output_type": "stream",
     "text": [
      "[Parallel(n_jobs=-1)]: Done 320 out of 320 | elapsed:    3.9s finished\n"
     ]
    }
   ],
   "source": [
    "# Huber Regression\n",
    "model = HuberRegressor()\n",
    "params = {'epsilon': [1.35, 1.5, 1.75, 1.9],\n",
    "          'alpha': 2**np.linspace(-10, 10, 20)}\n",
    "searcher = GridSearchCV(estimator=model, \n",
    "                        param_grid=params, \n",
    "                        scoring=\"neg_mean_absolute_error\", \n",
    "                        cv=4, \n",
    "                        verbose=1,\n",
    "                        n_jobs=-1)\n",
    "searcher.fit(X_train, y_train)\n",
    "print(\"Best CV params\", searcher.best_params_)\n",
    "best_model = searcher.best_estimator_\n",
    "y_pred = best_model.predict(X_test)\n",
    "RMSE5 = np.sqrt(mean_squared_error(y_test, y_pred))\n",
    "MAE5 = mean_absolute_error(y_test, y_pred)\n",
    "print(\"RMSE Huber Regression: %.3f\" % (RMSE5))\n",
    "print(\"MAE Huber Regression: %.3f\" % (MAE5))"
   ]
  },
  {
   "cell_type": "markdown",
   "metadata": {},
   "source": [
    "Luego se ajusta un modelo de ensemble learning, el **Random forest regressor**. Este modelo es el que hasta el momento obtiene los mejores resultados."
   ]
  },
  {
   "cell_type": "code",
   "execution_count": 18,
   "metadata": {},
   "outputs": [
    {
     "name": "stdout",
     "output_type": "stream",
     "text": [
      "Fitting 4 folds for each of 24 candidates, totalling 96 fits\n"
     ]
    },
    {
     "name": "stderr",
     "output_type": "stream",
     "text": [
      "[Parallel(n_jobs=-1)]: Using backend LokyBackend with 8 concurrent workers.\n",
      "[Parallel(n_jobs=-1)]: Done  34 tasks      | elapsed:    4.8s\n",
      "[Parallel(n_jobs=-1)]: Done  96 out of  96 | elapsed:   14.0s finished\n"
     ]
    },
    {
     "name": "stdout",
     "output_type": "stream",
     "text": [
      "Best CV params {'max_features': 'log2', 'min_samples_leaf': 5, 'n_estimators': 500}\n",
      "RMSE Random Forest Regression: 1.211\n",
      "MAE Random Forest Regression: 0.876\n"
     ]
    }
   ],
   "source": [
    "# Random Forest Regression\n",
    "model = RandomForestRegressor(random_state=123)\n",
    "params = {'n_estimators': [100,350,500],\n",
    "          'max_features': ['log2', 'sqrt'],\n",
    "          'min_samples_leaf': [5,10,25,50]}\n",
    "searcher = GridSearchCV(estimator=model, \n",
    "                        param_grid=params, \n",
    "                        scoring=\"neg_mean_absolute_error\", \n",
    "                        cv=4, \n",
    "                        verbose=1,\n",
    "                        n_jobs=-1)\n",
    "searcher.fit(X_train, y_train)\n",
    "print(\"Best CV params\", searcher.best_params_)\n",
    "best_model = searcher.best_estimator_\n",
    "y_pred = best_model.predict(X_test)\n",
    "RMSE6 = np.sqrt(mean_squared_error(y_test, y_pred))\n",
    "MAE6 = mean_absolute_error(y_test, y_pred)\n",
    "print(\"RMSE Random Forest Regression: %.3f\" % (RMSE6))\n",
    "print(\"MAE Random Forest Regression: %.3f\" % (MAE6))"
   ]
  },
  {
   "cell_type": "markdown",
   "metadata": {},
   "source": [
    "Por último se estima un modelo de **Boosting** (ensemble learning). El resultado es bueno, pero no tan bueno como el del Random forest."
   ]
  },
  {
   "cell_type": "code",
   "execution_count": 19,
   "metadata": {},
   "outputs": [
    {
     "name": "stdout",
     "output_type": "stream",
     "text": [
      "Fitting 4 folds for each of 27 candidates, totalling 108 fits\n"
     ]
    },
    {
     "name": "stderr",
     "output_type": "stream",
     "text": [
      "[Parallel(n_jobs=-1)]: Using backend LokyBackend with 8 concurrent workers.\n",
      "[Parallel(n_jobs=-1)]: Done  52 tasks      | elapsed:    1.6s\n",
      "[Parallel(n_jobs=-1)]: Done  93 out of 108 | elapsed:    3.2s remaining:    0.4s\n"
     ]
    },
    {
     "name": "stdout",
     "output_type": "stream",
     "text": [
      "[18:46:26] WARNING: src/objective/regression_obj.cu:152: reg:linear is now deprecated in favor of reg:squarederror.\n",
      "Best CV params {'colsample_bytree': 0.7, 'max_depth': 5, 'n_estimators': 50}\n",
      "RMSE XGBoost Regression: 1.215\n",
      "MAE XGBoost Regression: 0.879\n"
     ]
    },
    {
     "name": "stderr",
     "output_type": "stream",
     "text": [
      "[Parallel(n_jobs=-1)]: Done 108 out of 108 | elapsed:    4.2s finished\n"
     ]
    }
   ],
   "source": [
    "# XGBoost Regression\n",
    "model = xgb.XGBRegressor(random_state=123)\n",
    "params = {'colsample_bytree': [0.3, 0.5, 0.7],\n",
    "          'n_estimators': [50,100,250],\n",
    "          'max_depth': [2,5,7]}\n",
    "searcher = GridSearchCV(estimator=model, \n",
    "                        param_grid=params, \n",
    "                        scoring=\"neg_mean_absolute_error\", \n",
    "                        cv=4, \n",
    "                        verbose=1,\n",
    "                        n_jobs=-1)\n",
    "searcher.fit(X_train, y_train)\n",
    "print(\"Best CV params\", searcher.best_params_)\n",
    "best_model = searcher.best_estimator_\n",
    "y_pred = best_model.predict(X_test)\n",
    "RMSE7 = np.sqrt(mean_squared_error(y_test, y_pred))\n",
    "MAE7 = mean_absolute_error(y_test, y_pred)\n",
    "print(\"RMSE XGBoost Regression: %.3f\" % (RMSE7))\n",
    "print(\"MAE XGBoost Regression: %.3f\" % (MAE7))"
   ]
  },
  {
   "cell_type": "markdown",
   "metadata": {},
   "source": [
    "En el siguiente cuadro se **resumen** los resultados. Se observa que tanto en RMSE como en MAE el mejor modelo resultó ser el **Random Forest**. Por el contrario, la regresión de cuantiles (LAD) resultó ser el peor modelo."
   ]
  },
  {
   "cell_type": "code",
   "execution_count": 20,
   "metadata": {},
   "outputs": [
    {
     "name": "stdout",
     "output_type": "stream",
     "text": [
      "          RMSE   MAE\n",
      "Quantile 1.260 0.917\n",
      "LR       1.244 0.912\n",
      "Ridge    1.244 0.909\n",
      "Lasso    1.245 0.909\n",
      "Huber    1.257 0.915\n",
      "RForest  1.211 0.876\n",
      "XGBoost  1.215 0.879\n",
      "RMSE    RForest\n",
      "MAE     RForest\n",
      "dtype: object\n"
     ]
    }
   ],
   "source": [
    "Regressor = ['Quantile', 'LR', 'Ridge', 'Lasso', 'Huber', 'RForest', 'XGBoost']\n",
    "RMSE = [RMSE1, RMSE2, RMSE3, RMSE4, RMSE5, RMSE6, RMSE7]\n",
    "MAE = [MAE1, MAE2, MAE3, MAE4, MAE5, MAE6, MAE7]\n",
    "Resultados = pd.DataFrame({'RMSE':RMSE, 'MAE':MAE}, index=Regressor)\n",
    "print(Resultados)\n",
    "print(Resultados.idxmin())"
   ]
  },
  {
   "cell_type": "markdown",
   "metadata": {},
   "source": [
    "Por último, se grafica la importancia de los regresores para hacer las predicciones, en base a los resultados del mejor Random Forest. Se observa que, por lejos, la variable más importante es el caudal, seguido del año de la transacción. Las demás variables tuvieron efectos pequeños."
   ]
  },
  {
   "cell_type": "code",
   "execution_count": 22,
   "metadata": {},
   "outputs": [
    {
     "data": {
      "image/png": "[encoded data removed]",
      "text/plain": [
       "<Figure size 432x288 with 1 Axes>"
      ]
     },
     "metadata": {
      "needs_background": "light"
     },
     "output_type": "display_data"
    }
   ],
   "source": [
    "model = RandomForestRegressor(random_state=123, \n",
    "                              min_samples_leaf=5,\n",
    "                              n_estimators=500,\n",
    "                              max_features='log2', )\n",
    "model.fit(X_train, y_train)\n",
    "importances_rf = pd.Series(model.feature_importances_, index=X.columns)\n",
    "sorted_importances_rf = importances_rf.sort_values()\n",
    "sorted_importances_rf.plot(kind='barh', color='blue')\n",
    "plt.title('Feature importances')\n",
    "plt.show()"
   ]
  }
 ],
 "metadata": {
  "kernelspec": {
   "display_name": "Python 3",
   "language": "python",
   "name": "python3"
  },
  "language_info": {
   "codemirror_mode": {
    "name": "ipython",
    "version": 3
   },
   "file_extension": ".py",
   "mimetype": "text/x-python",
   "name": "python",
   "nbconvert_exporter": "python",
   "pygments_lexer": "ipython3",
   "version": "3.7.6"
  }
 },
 "nbformat": 4,
 "nbformat_minor": 4
}