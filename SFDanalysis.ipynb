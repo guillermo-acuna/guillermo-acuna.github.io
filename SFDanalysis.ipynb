{
 "cells": [
  {
   "cell_type": "markdown",
   "metadata": {},
   "source": [
    "# Detección de Fraude con modelos de Machine Learning\n",
    "En este documento se muestra cómo hacer predicciones de fraude con modelos de Machine Learning en Python. Se utiliza la base de datos sintéticos, generados por PaySim mobile, que e puede descargar del sitio web de Kaggle:\n",
    "\n",
    "https://www.kaggle.com/ntnu-testimon/paysim1\n",
    "\n",
    "Esta base de datos se ha utilizado en numerosos estudios similares al que se presenta en este documento, entre los cuales destaca el paper citado a cotniuación:\n",
    "\n",
    "E. A. Lopez-Rojas , A. Elmir, and S. Axelsson. \"PaySim: A financial mobile money simulator for fraud detection\". In: The 28th European Modeling and Simulation Symposium-EMSS, Larnaca, Cyprus. 2016\n",
    "\n",
    "## Variables\n",
    "\n",
    "La base de datos cuenta con las siguientes variables:\n",
    "\n",
    "**step** - unidades de tiempo. En total se tienen 744 steps, que corresponde a una simulación de 30 días.\n",
    "maps\n",
    "\n",
    "**type** - tipo de transacción: CASH-IN, CASH-OUT, DEBIT, PAYMENT, TRANSFER.\n",
    "\n",
    "**amount** - monto de la transacción en moneda local.\n",
    "\n",
    "**nameOrig** - identificación del cliente que originó la transacción.\n",
    "\n",
    "**oldbalanceOrg** - saldo inicial del cliente, antes de la transacción.\n",
    "\n",
    "**newbalanceOrig** - saldo final del cliente, después de la transacción.\n",
    "\n",
    "**nameDest** - identificación del cliente receptor de la transacción.\n",
    "\n",
    "**oldbalanceDest** - saldo inicial del receptor antes de la transacción. \n",
    "\n",
    "**newbalanceDest** - saldo final del receptor después de la transacción.\n",
    "\n",
    "**isFraud** - transacciones fraudulentas. Los agentes buscan tomar control de las cuentas de los clientes, vaciar sus fondos transfiriéndolos a otra cuenta, y luego retirar los fondos del sistema.\n",
    "\n",
    "**isFlaggedFraud** - indicador de posible fraude generado por la institución financiera. Un posible fraude se define como una transacción en la que se intenta transferir un monto mayor a $200.000 en una sola transacción.\n",
    "\n",
    "Para empezar con el análisis se cargan los paquetes a utilizar y se ajustan algunos formatos:\n",
    "\n"
   ]
  },
  {
   "cell_type": "code",
   "execution_count": 1,
   "metadata": {},
   "outputs": [],
   "source": [
    "import pandas as pd\n",
    "import matplotlib.pyplot as plt\n",
    "from sklearn.preprocessing import StandardScaler\n",
    "from sklearn.model_selection import train_test_split, GridSearchCV\n",
    "from sklearn.linear_model import LogisticRegression\n",
    "from sklearn.svm import SVC\n",
    "from sklearn.tree import DecisionTreeClassifier\n",
    "from sklearn.ensemble import RandomForestClassifier, AdaBoostClassifier\n",
    "from sklearn.metrics import roc_auc_score, f1_score\n",
    "import xgboost as xgb\n",
    "\n",
    "pd.set_option('display.float_format', lambda x: '%.4f' % x) # formato del output, 4 decimales\n",
    "pd.set_option('display.max_columns', 100) # número máximo de columnas a mostrar en el terminal\n",
    "pd.set_option('display.max_rows', 100) # número máximo de filas a mostrar en el terminal"
   ]
  },
  {
   "cell_type": "markdown",
   "metadata": {},
   "source": [
    "## Análisis exploratorio de la base de datos\n",
    "\n",
    "En primer lugar se cargan los datos y se asignan a un dataframe. Luego se busca la siguiente información:\n",
    "\n",
    "- La base de datos tiene un total de 6.362.620 observaciones (ejemplos) y 11 variables.\n",
    "- Algunas variables contienen números enteros (step, isFraud, isFlaggedFraud), otras contienen floating numbers (variables relacionadas con los montos de las transacciones) y otras variables son categóricas (tipo de transacción, nombre del origen y destino).\n",
    "- La gran mayoría de las observaciones son no fraudulentas, un 99,87%, mientras que sólo el 0,13% consiste en transacciones fraudulentas."
   ]
  },
  {
   "cell_type": "code",
   "execution_count": 3,
   "metadata": {
    "tags": []
   },
   "outputs": [
    {
     "output_type": "stream",
     "name": "stdout",
     "text": "(6362620, 11)\n<class 'pandas.core.frame.DataFrame'>\nRangeIndex: 6362620 entries, 0 to 6362619\nData columns (total 11 columns):\n #   Column          Dtype  \n---  ------          -----  \n 0   step            int64  \n 1   type            object \n 2   amount          float64\n 3   nameOrig        object \n 4   oldbalanceOrg   float64\n 5   newbalanceOrig  float64\n 6   nameDest        object \n 7   oldbalanceDest  float64\n 8   newbalanceDest  float64\n 9   isFraud         int64  \n 10  isFlaggedFraud  int64  \ndtypes: float64(5), int64(3), object(3)\nmemory usage: 534.0+ MB\nNone\n0    6354407\n1       8213\nName: isFraud, dtype: int64\n0   0.9987\n1   0.0013\nName: isFraud, dtype: float64\n"
    }
   ],
   "source": [
    "dataset = pd.read_csv('dataset.csv')\n",
    "print(dataset.shape)\n",
    "print(dataset.info())\n",
    "print(dataset['isFraud'].value_counts())\n",
    "print(dataset['isFraud'].value_counts(normalize=True))"
   ]
  },
  {
   "cell_type": "markdown",
   "metadata": {},
   "source": [
    "A continuación se crea un conjunto de variables dummy que señalan cuando una de las variables relacionadas con las transacciones es igual a cero. Esto se hace debido a que hay una gran cantidad de observaciones con ceros, incluso se da que los saldos iniciales y finales del origen o destino son ceros, lo que es sospechoso.\n",
    "\n",
    "Luego se construye una tabla para analizar el porcentaje de casos en que se encontró esta situación, según cáracter de la transacción: legal o ilegal (fraudulenta). Se observa que, para la  mayoría de las variables, los ceros son más frecuentes en las transacciones ilegales, por lo que se podrían considerar útiles para identificar este tipo de transacciones."
   ]
  },
  {
   "cell_type": "code",
   "execution_count": 4,
   "metadata": {
    "tags": []
   },
   "outputs": [
    {
     "output_type": "stream",
     "name": "stdout",
     "text": "amountD  newbalanceDestD  newbalanceOrigD  oldbalanceDestD  \\\nisFraud                                                               \n0         0.0000           0.3833           0.5668           0.4248   \n1         0.0019           0.4981           0.9805           0.6515   \n\n         oldbalanceOrgD  \nisFraud                  \n0                0.3309  \n1                0.0050  \n"
    }
   ],
   "source": [
    "contV = ['amount', 'oldbalanceOrg', 'newbalanceOrig', 'oldbalanceDest', 'newbalanceDest']\n",
    "dataset[contV].describe()\n",
    "\n",
    "for e in contV:\n",
    "    dataset[e + 'D'] = dataset[e].apply(lambda val: 1 if val == 0 else 0)\n",
    "\n",
    "contVD = ['amountD', 'oldbalanceOrgD', 'newbalanceOrigD', 'oldbalanceDestD', 'newbalanceDestD']\n",
    "\n",
    "table1 = dataset.pivot_table(index='isFraud',\n",
    "                            values=contVD,\n",
    "                            aggfunc='mean')\n",
    "print(table1)"
   ]
  },
  {
   "cell_type": "markdown",
   "metadata": {},
   "source": [
    "A continuación se crean dos nuevas variables de interés. Una dummy para cuando en el origen el saldo inicial y final es cero, y para cuando en el destino el saldo inicial y final es cero. Se observa que para el caso del destino esta situación es un indicio de caso fraudulento, mientras que en el caso del origen, esta variable es más frecuente en el caso de transacciones legales."
   ]
  },
  {
   "cell_type": "code",
   "execution_count": 5,
   "metadata": {
    "tags": []
   },
   "outputs": [
    {
     "output_type": "stream",
     "name": "stdout",
     "text": "zeroDest  zeroOrig\nisFraud                    \n0          0.3640    0.3287\n1          0.4963    0.0050\n"
    }
   ],
   "source": [
    "dataset['zeroOrig'] = dataset['oldbalanceOrgD'] * dataset['newbalanceOrigD']\n",
    "dataset['zeroDest'] = dataset['oldbalanceDestD'] * dataset['newbalanceDestD']\n",
    "\n",
    "table2 = dataset.pivot_table(index='isFraud',\n",
    "                            values=['zeroOrig', 'zeroDest'],\n",
    "                            aggfunc='mean')\n",
    "print(table2)\n"
   ]
  },
  {
   "cell_type": "markdown",
   "metadata": {},
   "source": [
    "Por último, se construye una tabla que muestre el porcentaje de transacciones fraudulentas según tipo de transacción. Se observa que las transacciones fraudulentas se dan principalmente en los tipos: CASH_OUT y TRANSFER."
   ]
  },
  {
   "cell_type": "code",
   "execution_count": 6,
   "metadata": {
    "tags": []
   },
   "outputs": [
    {
     "output_type": "stream",
     "name": "stdout",
     "text": "isFraud\ntype             \nCASH_IN    0.0000\nCASH_OUT   0.0018\nDEBIT      0.0000\nPAYMENT    0.0000\nTRANSFER   0.0077\n"
    }
   ],
   "source": [
    "table3 = dataset.pivot_table(index='type',\n",
    "                             values='isFraud',\n",
    "                             aggfunc='mean')\n",
    "print(table3)"
   ]
  },
  {
   "cell_type": "markdown",
   "metadata": {},
   "source": [
    "## Toma de una muestra de la base de datos\n",
    "Dado que la mayoría de las transacciones son no fraudulentas, se tiene una base de datos desbalanceada, lo que puede provocar problemas en los modelos predictivos. Por lo tanto, se optó por mantener las 8.213 observaciones fraudulentas, y tomar una muestra aleatoria de 8.213 observaciones no fraudulentas. Luego, mediante la unión de estos dos subconjuntos de datos se obtiene una base de datos balanceada, que es la ideal para hacer las estimaciones. Adicionalmente, se utiliza un subconjunto de variables de la base de datos. Se omiten las identificaciones del origen y destino, y la variable isFlaggedFrau, y se consideranlas dummies para ceros en el saldo inifial y final en el destino y origen de la transacción.\n",
    "\n",
    "De esta manera, se obtiene una base de datos de 16.426 observaciones y 10 variables, perfectamente balanceada 50%/50% entre transacciones legales e ilegales."
   ]
  },
  {
   "cell_type": "code",
   "execution_count": 7,
   "metadata": {
    "tags": []
   },
   "outputs": [
    {
     "output_type": "stream",
     "name": "stdout",
     "text": "(16426, 10)\n1    8213\n0    8213\nName: isFraud, dtype: int64\n1   0.5000\n0   0.5000\nName: isFraud, dtype: float64\n"
    }
   ],
   "source": [
    "datasubset = dataset[['step', 'type', 'amount', 'oldbalanceOrg', 'newbalanceOrig',\n",
    "                      'oldbalanceDest', 'newbalanceDest', 'isFraud', 'zeroOrig', 'zeroDest']]\n",
    "FraudSample = datasubset[datasubset['isFraud']==1]\n",
    "noFraudSample = datasubset[datasubset['isFraud']==0].sample(n=FraudSample.shape[0], random_state=123)\n",
    "data = pd.concat([FraudSample, noFraudSample]).reset_index(drop=True)\n",
    "print(data.shape)\n",
    "print(data['isFraud'].value_counts())\n",
    "print(data['isFraud'].value_counts(normalize=True))"
   ]
  },
  {
   "cell_type": "markdown",
   "metadata": {},
   "source": [
    "## Preprocesamiento de los datos\n",
    "\n",
    "A continuación se hace un preprocesamiento de los datos, en que los datos se preparan para ser utilizados en los modelos de machine learning.\n",
    "\n",
    "Primero se generan variables dummies para el tipo de transacción. Luego las dummies se unen a la base de datos, y se elimina una de las dummies, que no es necesaria. Asimismo, se elimina la variable categórica original."
   ]
  },
  {
   "cell_type": "code",
   "execution_count": 10,
   "metadata": {
    "tags": []
   },
   "outputs": [
    {
     "output_type": "stream",
     "name": "stdout",
     "text": "zeroDest  zeroOrig\nisFraud                    \n0          0.3640    0.3287\n1          0.4963    0.0050\n   step     amount  oldbalanceOrg  newbalanceOrig  oldbalanceDest  \\\n0     1   181.0000       181.0000          0.0000          0.0000   \n1     1   181.0000       181.0000          0.0000      21182.0000   \n2     1  2806.0000      2806.0000          0.0000          0.0000   \n3     1  2806.0000      2806.0000          0.0000      26202.0000   \n4     1 20128.0000     20128.0000          0.0000          0.0000   \n\n   newbalanceDest  isFraud  zeroOrig  zeroDest  CASH_OUT  DEBIT  PAYMENT  \\\n0          0.0000        1         0         1         0      0        0   \n1          0.0000        1         0         0         1      0        0   \n2          0.0000        1         0         1         0      0        0   \n3          0.0000        1         0         0         1      0        0   \n4          0.0000        1         0         1         0      0        0   \n\n   TRANSFER  \n0         1  \n1         0  \n2         1  \n3         0  \n4         1  \n"
    }
   ],
   "source": [
    "# Dummies para el tipo de transacción\n",
    "dataset['zeroOrig'] = dataset['oldbalanceOrgD'] * dataset['newbalanceOrigD']\n",
    "dataset['zeroDest'] = dataset['oldbalanceDestD'] * dataset['newbalanceDestD']\n",
    "\n",
    "table2 = dataset.pivot_table(index='isFraud',\n",
    "                            values=['zeroOrig', 'zeroDest'],\n",
    "                            aggfunc='mean')\n",
    "print(table2)\n",
    "\n",
    "typeD = pd.get_dummies(data['type'])\n",
    "data = pd.concat([data, typeD], axis=1)\n",
    "data = data.drop(['type', 'CASH_IN'], axis=1)\n",
    "print(data.head())"
   ]
  },
  {
   "cell_type": "markdown",
   "metadata": {},
   "source": [
    "Luego se generan dos conjuntos de datos, uno para entrenar los modelos (train set) y otro para testear su capacidad predictiva (test set)."
   ]
  },
  {
   "cell_type": "code",
   "execution_count": 11,
   "metadata": {},
   "outputs": [],
   "source": [
    "# Generación de bases de datos de entrenamiento y testeo\n",
    "y = data['isFraud']\n",
    "X = data.drop('isFraud', axis=1)\n",
    "X_train, X_test, y_train, y_test = train_test_split(X, y, test_size=0.2, stratify=y, random_state=123)"
   ]
  },
  {
   "cell_type": "markdown",
   "metadata": {},
   "source": [
    "Luego se estandarizan las variables continuas, mientras que las variables dummy se dejan intactas. Esto es necesario para mejorar el ajuste de los modelos de Logistic Regression y Support Vector Machines. De esta manera todas las variables continuas quedan con media 0 y desviación estándar igual a 1."
   ]
  },
  {
   "cell_type": "code",
   "execution_count": 12,
   "metadata": {
    "tags": []
   },
   "outputs": [
    {
     "output_type": "stream",
     "name": "stdout",
     "text": "step     amount  oldbalanceOrg  newbalanceOrig  oldbalanceDest  \\\ncount 13140.0000 13140.0000     13140.0000      13140.0000      13140.0000   \nmean      0.0000    -0.0000         0.0000         -0.0000          0.0000   \nstd       1.0000     1.0000         1.0000          1.0000          1.0000   \nmin      -1.5692    -0.4427        -0.3749         -0.2074         -0.2381   \n25%      -0.7479    -0.4230        -0.3719         -0.2074         -0.2381   \n50%      -0.1267    -0.3496        -0.3387         -0.2074         -0.2381   \n75%       0.5304    -0.1498        -0.1319         -0.2074         -0.0906   \nmax       2.2399     7.0771        17.5430         18.9509         67.8699   \n\n       newbalanceDest   zeroOrig   zeroDest   CASH_OUT      DEBIT    PAYMENT  \\\ncount      13140.0000 13140.0000 13140.0000 13140.0000 13140.0000 13140.0000   \nmean           0.0000     0.1708     0.4318     0.4244     0.0023     0.1707   \nstd            1.0000     0.3763     0.4953     0.4943     0.0477     0.3763   \nmin           -0.3281     0.0000     0.0000     0.0000     0.0000     0.0000   \n25%           -0.3281     0.0000     0.0000     0.0000     0.0000     0.0000   \n50%           -0.2947     0.0000     0.0000     0.0000     0.0000     0.0000   \n75%           -0.0424     0.0000     1.0000     1.0000     0.0000     0.0000   \nmax           61.9068     1.0000     1.0000     1.0000     1.0000     1.0000   \n\n        TRANSFER  \ncount 13140.0000  \nmean      0.2919  \nstd       0.4547  \nmin       0.0000  \n25%       0.0000  \n50%       0.0000  \n75%       1.0000  \nmax       1.0000  \n"
    }
   ],
   "source": [
    "# Estandarización de variables\n",
    "contV = ['step', 'amount', 'oldbalanceOrg', 'newbalanceOrig', 'oldbalanceDest', 'newbalanceDest']\n",
    "scaler = StandardScaler()\n",
    "X_train[contV] = scaler.fit_transform(X_train[contV])\n",
    "print(X_train.describe())\n",
    "\n",
    "X_test[contV] = scaler.transform(X_test[contV])"
   ]
  },
  {
   "cell_type": "markdown",
   "metadata": {},
   "source": [
    "## Modelamiento\n",
    "En esta sección se modelan los datos y se hacen predicciones en base a un conjunto de modelos de machine learning:\n",
    "\n",
    "- **Logistic Regression**. Variante particular del modelo lineal generalizado.\n",
    "\n",
    "- **Support Vector Machines**. Se caracteriza por poner énfasis en una serie de puntos que se conocen como support vectors, que se ubican donde se produce el límite entre ambas categorías (Fraude/No Fraude).\n",
    "\n",
    "- **Decision Tree**. Árbol de decisión.\n",
    "\n",
    "- **Random Forest**. Modelo de ensemble learning (Bagging), que combina las predicciones de múltiples árboles de decisión.\n",
    "\n",
    "- **AdaBoost**. Modelo de ensemble learning (Adaptive Boosting), que combina las predicciones de múltiples árboles de decisión sencillos. En cada nueva iteración se le da un mayor peso a las observaciones mal clasificadas por el árbol anterior.\n",
    "\n",
    "- **XGBoost**. Modelo de ensemble learning (Gradient Boosting), que combina las predicciones de múltiples árboles de decisión sencillos. En cada nueva iteración el nuevo árbol se ajusta a los residuos del árbol anterior.\n",
    "\n",
    "Para cada modelo se hizo un tuning de hiperparámetros usando la herramienta GridSearchCV de Scikit-learn. \n",
    "\n",
    "Para evaluar el desempeño de los modelos se utilizaron los siguientes indicadores:\n",
    "\n",
    "- **Accuracy**: medida que muestra la suma de predicciones correctas (verdaderos y falsos positivos) sobre el total de predicciones.\n",
    "\n",
    "- **ROC AUC**: área bajo la curva de ROC, es igual a la probabilidad de que un modelo clasificador asigne un valor mayor a una observación positiva seleccionada aleatoriamente, que a una observación negativa seleccionada aleatoriamente. En otras palabras, mientras mayor es el área (más cercana a 1) mayor es la tasa de verdaderos positivos, y menor es la tasa de falsos positivos.\n",
    "\n",
    "- **F1 Score**: media harmónica de dos indicadores: Precision y Recall. Precision es el porcentaje de las observaciones clasificadas como positivas por el modelo (TP + FP), que son efectivamente positivas (TP). Recall (Sensitivity) es el porcentaje de las observaciones efectivamente positivas (TP + FN) que fueron clasificadas como positivas por el modelo (TP)."
   ]
  },
  {
   "cell_type": "markdown",
   "metadata": {},
   "source": [
    "## Logistic Regression"
   ]
  },
  {
   "cell_type": "code",
   "execution_count": 14,
   "metadata": {
    "tags": []
   },
   "outputs": [
    {
     "output_type": "stream",
     "name": "stdout",
     "text": "Fitting 5 folds for each of 24 candidates, totalling 120 fits\n[Parallel(n_jobs=-1)]: Using backend LokyBackend with 8 concurrent workers.\n[Parallel(n_jobs=-1)]: Done  52 tasks      | elapsed:    0.6s\n[Parallel(n_jobs=-1)]: Done 105 out of 120 | elapsed:    3.5s remaining:    0.4s\n[Parallel(n_jobs=-1)]: Done 120 out of 120 | elapsed:    4.4s finished\nBest CV params {'C': 30, 'penalty': 'l2'}\nTest accuracy of best CV params: 0.956177723676202\nArea Under the ROC Curve: 0.9935197886679837\nF1 Score: 0.9566003616636527\n"
    }
   ],
   "source": [
    "# Logistic Regression\n",
    "lr = LogisticRegression(max_iter=300, random_state=132)\n",
    "# print(lr.get_params())\n",
    "# l1: Lasso, l2: Ridge\n",
    "parameters = {'C':[0.00001, 0.0001, 0.001, 0.01, 0.1, 1, 5, 10, 15, 20, 25, 30], \n",
    "              'penalty':['l1', 'l2']}\n",
    "searcher = GridSearchCV(lr, parameters, n_jobs=-1, verbose=1)\n",
    "searcher.fit(X_train, y_train)\n",
    "print(\"Best CV params\", searcher.best_params_)\n",
    "\n",
    "best_lr = searcher.best_estimator_\n",
    "y_pred = best_lr.predict(X_test)\n",
    "y_pred_proba = best_lr.predict_proba(X_test)[:,1]\n",
    "\n",
    "Accuracy1 = searcher.score(X_test, y_test)\n",
    "ROC_AUC1 = roc_auc_score(y_test, y_pred_proba)\n",
    "F1Score1 = f1_score(y_test, y_pred)\n",
    "print(\"Test accuracy of best CV params:\", Accuracy1)\n",
    "print(\"Area Under the ROC Curve:\", ROC_AUC1)\n",
    "print(\"F1 Score:\", F1Score1)"
   ]
  },
  {
   "cell_type": "markdown",
   "metadata": {},
   "source": [
    "## Support Vector Classifier"
   ]
  },
  {
   "cell_type": "code",
   "execution_count": 15,
   "metadata": {
    "tags": []
   },
   "outputs": [
    {
     "output_type": "stream",
     "name": "stdout",
     "text": "Fitting 5 folds for each of 15 candidates, totalling 75 fits\n[Parallel(n_jobs=-1)]: Using backend LokyBackend with 8 concurrent workers.\n[Parallel(n_jobs=-1)]: Done  34 tasks      | elapsed:  1.6min\n[Parallel(n_jobs=-1)]: Done  75 out of  75 | elapsed:  2.4min finished\nBest CV params {'C': 10, 'gamma': 0.1}\nTest accuracy of best CV params: 0.9613511868533171\nArea Under the ROC Curve: 0.9947066975519819\nF1 Score: 0.9618274721971747\n"
    }
   ],
   "source": [
    "# Support Vector Classifier\n",
    "svm = SVC(random_state=123)\n",
    "# print(svm.get_params())\n",
    "parameters = {'C':[0.1, 1, 10], 'gamma':[0.00001, 0.0001, 0.001, 0.01, 0.1]}\n",
    "searcher = GridSearchCV(svm, parameters, n_jobs=-1, verbose=1)\n",
    "searcher.fit(X_train, y_train)\n",
    "print(\"Best CV params\", searcher.best_params_)\n",
    "\n",
    "svm = SVC(C=10, gamma=0.1, probability=True, random_state=123)\n",
    "svm.fit(X_train, y_train)\n",
    "y_pred = svm.predict(X_test)\n",
    "y_pred_proba = svm.predict_proba(X_test)[:,1]\n",
    "\n",
    "Accuracy2 = svm.score(X_test, y_test)\n",
    "ROC_AUC2 = roc_auc_score(y_test, y_pred_proba)\n",
    "F1Score2 = f1_score(y_test, y_pred)\n",
    "print(\"Test accuracy of best CV params:\", Accuracy2)\n",
    "print(\"Area Under the ROC Curve:\", ROC_AUC2)\n",
    "print(\"F1 Score:\", F1Score2)"
   ]
  },
  {
   "cell_type": "markdown",
   "metadata": {},
   "source": [
    "## Decision Tree Classifier"
   ]
  },
  {
   "cell_type": "code",
   "execution_count": 16,
   "metadata": {
    "tags": []
   },
   "outputs": [
    {
     "output_type": "stream",
     "name": "stdout",
     "text": "Fitting 5 folds for each of 12 candidates, totalling 60 fits\n[Parallel(n_jobs=-1)]: Using backend LokyBackend with 8 concurrent workers.\n[Parallel(n_jobs=-1)]: Done  34 tasks      | elapsed:    0.6s\nBest CV params {'max_depth': 2, 'min_samples_leaf': 0.12}\nTest accuracy of best CV params: 0.9056603773584906\nArea Under the ROC Curve: 0.9446307376060818\nF1 Score: 0.9\n[Parallel(n_jobs=-1)]: Done  60 out of  60 | elapsed:    0.9s finished\n"
    }
   ],
   "source": [
    "# Decision Tree Classifier\n",
    "dt = DecisionTreeClassifier(random_state=123)\n",
    "# print(dt.get_params())\n",
    "parameters = {'max_depth': [2, 3, 4],'min_samples_leaf': [0.12, 0.14, 0.16, 0.18]}\n",
    "searcher = GridSearchCV(dt, parameters, n_jobs=-1, verbose=1)\n",
    "searcher.fit(X_train, y_train)\n",
    "print(\"Best CV params\", searcher.best_params_)\n",
    "\n",
    "best_dt = searcher.best_estimator_\n",
    "y_pred = best_dt.predict(X_test)\n",
    "y_pred_proba = best_dt.predict_proba(X_test)[:,1]\n",
    "\n",
    "Accuracy3 = searcher.score(X_test, y_test)\n",
    "ROC_AUC3 = roc_auc_score(y_test, y_pred_proba)\n",
    "F1Score3 = f1_score(y_test, y_pred)\n",
    "print(\"Test accuracy of best CV params:\", Accuracy3)\n",
    "print(\"Area Under the ROC Curve:\", ROC_AUC3)\n",
    "print(\"F1 Score:\", F1Score3)"
   ]
  },
  {
   "cell_type": "markdown",
   "metadata": {},
   "source": [
    "## Random Forest Classifier\n",
    "Se incluye un gráfico en que se muestra la importancia de los predictores."
   ]
  },
  {
   "cell_type": "code",
   "execution_count": 17,
   "metadata": {
    "tags": []
   },
   "outputs": [
    {
     "output_type": "stream",
     "name": "stdout",
     "text": "Fitting 5 folds for each of 18 candidates, totalling 90 fits\n[Parallel(n_jobs=-1)]: Using backend LokyBackend with 8 concurrent workers.\n[Parallel(n_jobs=-1)]: Done  34 tasks      | elapsed:   11.8s\n[Parallel(n_jobs=-1)]: Done  90 out of  90 | elapsed:   29.6s finished\nBest CV params {'max_features': 'log2', 'min_samples_leaf': 0.1, 'n_estimators': 350}\n"
    },
    {
     "output_type": "display_data",
     "data": {
      "text/plain": "<Figure size 432x288 with 1 Axes>",
      "image/svg+xml": "<?xml version=\"1.0\" encoding=\"utf-8\" standalone=\"no\"?>\r\n<!DOCTYPE svg PUBLIC \"-//W3C//DTD SVG 1.1//EN\"\r\n  \"http://www.w3.org/Graphics/SVG/1.1/DTD/svg11.dtd\">\r\n<!-- Created with matplotlib (https://matplotlib.org/) -->\r\n<svg height=\"248.518125pt\" version=\"1.1\" viewBox=\"0 0 439.223437 248.518125\" width=\"439.223437pt\" xmlns=\"http://www.w3.org/2000/svg\" xmlns:xlink=\"http://www.w3.org/1999/xlink\">\r\n <metadata>\r\n  <rdf:RDF xmlns:cc=\"http://creativecommons.org/ns#\" xmlns:dc=\"http://purl.org/dc/elements/1.1/\" xmlns:rdf=\"http://www.w3.org/1999/02/22-rdf-syntax-ns#\">\r\n   <cc:Work>\r\n    <dc:type rdf:resource=\"http://purl.org/dc/dcmitype/StillImage\"/>\r\n    <dc:date>2020-10-28T10:49:14.997536</dc:date>\r\n    <dc:format>image/svg+xml</dc:format>\r\n    <dc:creator>\r\n     <cc:Agent>\r\n      <dc:title>Matplotlib v3.3.1, https://matplotlib.org/</dc:title>\r\n     </cc:Agent>\r\n    </dc:creator>\r\n   </cc:Work>\r\n  </rdf:RDF>\r\n </metadata>\r\n <defs>\r\n  <style type=\"text/css\">*{stroke-linecap:butt;stroke-linejoin:round;}</style>\r\n </defs>\r\n <g id=\"figure_1\">\r\n  <g id=\"patch_1\">\r\n   <path d=\"M 0 248.518125 \r\nL 439.223437 248.518125 \r\nL 439.223437 0 \r\nL 0 0 \r\nz\r\n\" style=\"fill:none;\"/>\r\n  </g>\r\n  <g id=\"axes_1\">\r\n   <g id=\"patch_2\">\r\n    <path d=\"M 97.223437 224.64 \r\nL 432.023438 224.64 \r\nL 432.023438 7.2 \r\nL 97.223437 7.2 \r\nz\r\n\" style=\"fill:#ffffff;\"/>\r\n   </g>\r\n   <g id=\"patch_3\">\r\n    <path clip-path=\"url(#p8290b72f3b)\" d=\"M 97.223437 220.11 \r\nL 97.223437 220.11 \r\nL 97.223437 211.05 \r\nL 97.223437 211.05 \r\nz\r\n\" style=\"fill:#0000ff;\"/>\r\n   </g>\r\n   <g id=\"patch_4\">\r\n    <path clip-path=\"url(#p8290b72f3b)\" d=\"M 97.223437 201.99 \r\nL 114.893998 201.99 \r\nL 114.893998 192.93 \r\nL 97.223437 192.93 \r\nz\r\n\" style=\"fill:#0000ff;\"/>\r\n   </g>\r\n   <g id=\"patch_5\">\r\n    <path clip-path=\"url(#p8290b72f3b)\" d=\"M 97.223437 183.87 \r\nL 116.648033 183.87 \r\nL 116.648033 174.81 \r\nL 97.223437 174.81 \r\nz\r\n\" style=\"fill:#0000ff;\"/>\r\n   </g>\r\n   <g id=\"patch_6\">\r\n    <path clip-path=\"url(#p8290b72f3b)\" d=\"M 97.223437 165.75 \r\nL 120.286911 165.75 \r\nL 120.286911 156.69 \r\nL 97.223437 156.69 \r\nz\r\n\" style=\"fill:#0000ff;\"/>\r\n   </g>\r\n   <g id=\"patch_7\">\r\n    <path clip-path=\"url(#p8290b72f3b)\" d=\"M 97.223437 147.63 \r\nL 135.312679 147.63 \r\nL 135.312679 138.57 \r\nL 97.223437 138.57 \r\nz\r\n\" style=\"fill:#0000ff;\"/>\r\n   </g>\r\n   <g id=\"patch_8\">\r\n    <path clip-path=\"url(#p8290b72f3b)\" d=\"M 97.223437 129.51 \r\nL 157.288506 129.51 \r\nL 157.288506 120.45 \r\nL 97.223437 120.45 \r\nz\r\n\" style=\"fill:#0000ff;\"/>\r\n   </g>\r\n   <g id=\"patch_9\">\r\n    <path clip-path=\"url(#p8290b72f3b)\" d=\"M 97.223437 111.39 \r\nL 168.092578 111.39 \r\nL 168.092578 102.33 \r\nL 97.223437 102.33 \r\nz\r\n\" style=\"fill:#0000ff;\"/>\r\n   </g>\r\n   <g id=\"patch_10\">\r\n    <path clip-path=\"url(#p8290b72f3b)\" d=\"M 97.223437 93.27 \r\nL 168.098682 93.27 \r\nL 168.098682 84.21 \r\nL 97.223437 84.21 \r\nz\r\n\" style=\"fill:#0000ff;\"/>\r\n   </g>\r\n   <g id=\"patch_11\">\r\n    <path clip-path=\"url(#p8290b72f3b)\" d=\"M 97.223437 75.15 \r\nL 178.326576 75.15 \r\nL 178.326576 66.09 \r\nL 97.223437 66.09 \r\nz\r\n\" style=\"fill:#0000ff;\"/>\r\n   </g>\r\n   <g id=\"patch_12\">\r\n    <path clip-path=\"url(#p8290b72f3b)\" d=\"M 97.223437 57.03 \r\nL 234.703549 57.03 \r\nL 234.703549 47.97 \r\nL 97.223437 47.97 \r\nz\r\n\" style=\"fill:#0000ff;\"/>\r\n   </g>\r\n   <g id=\"patch_13\">\r\n    <path clip-path=\"url(#p8290b72f3b)\" d=\"M 97.223437 38.91 \r\nL 271.968839 38.91 \r\nL 271.968839 29.85 \r\nL 97.223437 29.85 \r\nz\r\n\" style=\"fill:#0000ff;\"/>\r\n   </g>\r\n   <g id=\"patch_14\">\r\n    <path clip-path=\"url(#p8290b72f3b)\" d=\"M 97.223437 20.79 \r\nL 416.08058 20.79 \r\nL 416.08058 11.73 \r\nL 97.223437 11.73 \r\nz\r\n\" style=\"fill:#0000ff;\"/>\r\n   </g>\r\n   <g id=\"matplotlib.axis_1\">\r\n    <g id=\"xtick_1\">\r\n     <g id=\"line2d_1\">\r\n      <defs>\r\n       <path d=\"M 0 0 \r\nL 0 3.5 \r\n\" id=\"m5f13056379\" style=\"stroke:#000000;stroke-width:0.8;\"/>\r\n      </defs>\r\n      <g>\r\n       <use style=\"stroke:#000000;stroke-width:0.8;\" x=\"97.223437\" xlink:href=\"#m5f13056379\" y=\"224.64\"/>\r\n      </g>\r\n     </g>\r\n     <g id=\"text_1\">\r\n      <!-- 0.00 -->\r\n      <g transform=\"translate(86.090625 239.238437)scale(0.1 -0.1)\">\r\n       <defs>\r\n        <path d=\"M 31.78125 66.40625 \r\nQ 24.171875 66.40625 20.328125 58.90625 \r\nQ 16.5 51.421875 16.5 36.375 \r\nQ 16.5 21.390625 20.328125 13.890625 \r\nQ 24.171875 6.390625 31.78125 6.390625 \r\nQ 39.453125 6.390625 43.28125 13.890625 \r\nQ 47.125 21.390625 47.125 36.375 \r\nQ 47.125 51.421875 43.28125 58.90625 \r\nQ 39.453125 66.40625 31.78125 66.40625 \r\nz\r\nM 31.78125 74.21875 \r\nQ 44.046875 74.21875 50.515625 64.515625 \r\nQ 56.984375 54.828125 56.984375 36.375 \r\nQ 56.984375 17.96875 50.515625 8.265625 \r\nQ 44.046875 -1.421875 31.78125 -1.421875 \r\nQ 19.53125 -1.421875 13.0625 8.265625 \r\nQ 6.59375 17.96875 6.59375 36.375 \r\nQ 6.59375 54.828125 13.0625 64.515625 \r\nQ 19.53125 74.21875 31.78125 74.21875 \r\nz\r\n\" id=\"DejaVuSans-48\"/>\r\n        <path d=\"M 10.6875 12.40625 \r\nL 21 12.40625 \r\nL 21 0 \r\nL 10.6875 0 \r\nz\r\n\" id=\"DejaVuSans-46\"/>\r\n       </defs>\r\n       <use xlink:href=\"#DejaVuSans-48\"/>\r\n       <use x=\"63.623047\" xlink:href=\"#DejaVuSans-46\"/>\r\n       <use x=\"95.410156\" xlink:href=\"#DejaVuSans-48\"/>\r\n       <use x=\"159.033203\" xlink:href=\"#DejaVuSans-48\"/>\r\n      </g>\r\n     </g>\r\n    </g>\r\n    <g id=\"xtick_2\">\r\n     <g id=\"line2d_2\">\r\n      <g>\r\n       <use style=\"stroke:#000000;stroke-width:0.8;\" x=\"147.835593\" xlink:href=\"#m5f13056379\" y=\"224.64\"/>\r\n      </g>\r\n     </g>\r\n     <g id=\"text_2\">\r\n      <!-- 0.05 -->\r\n      <g transform=\"translate(136.702781 239.238437)scale(0.1 -0.1)\">\r\n       <defs>\r\n        <path d=\"M 10.796875 72.90625 \r\nL 49.515625 72.90625 \r\nL 49.515625 64.59375 \r\nL 19.828125 64.59375 \r\nL 19.828125 46.734375 \r\nQ 21.96875 47.46875 24.109375 47.828125 \r\nQ 26.265625 48.1875 28.421875 48.1875 \r\nQ 40.625 48.1875 47.75 41.5 \r\nQ 54.890625 34.8125 54.890625 23.390625 \r\nQ 54.890625 11.625 47.5625 5.09375 \r\nQ 40.234375 -1.421875 26.90625 -1.421875 \r\nQ 22.3125 -1.421875 17.546875 -0.640625 \r\nQ 12.796875 0.140625 7.71875 1.703125 \r\nL 7.71875 11.625 \r\nQ 12.109375 9.234375 16.796875 8.0625 \r\nQ 21.484375 6.890625 26.703125 6.890625 \r\nQ 35.15625 6.890625 40.078125 11.328125 \r\nQ 45.015625 15.765625 45.015625 23.390625 \r\nQ 45.015625 31 40.078125 35.4375 \r\nQ 35.15625 39.890625 26.703125 39.890625 \r\nQ 22.75 39.890625 18.8125 39.015625 \r\nQ 14.890625 38.140625 10.796875 36.28125 \r\nz\r\n\" id=\"DejaVuSans-53\"/>\r\n       </defs>\r\n       <use xlink:href=\"#DejaVuSans-48\"/>\r\n       <use x=\"63.623047\" xlink:href=\"#DejaVuSans-46\"/>\r\n       <use x=\"95.410156\" xlink:href=\"#DejaVuSans-48\"/>\r\n       <use x=\"159.033203\" xlink:href=\"#DejaVuSans-53\"/>\r\n      </g>\r\n     </g>\r\n    </g>\r\n    <g id=\"xtick_3\">\r\n     <g id=\"line2d_3\">\r\n      <g>\r\n       <use style=\"stroke:#000000;stroke-width:0.8;\" x=\"198.447749\" xlink:href=\"#m5f13056379\" y=\"224.64\"/>\r\n      </g>\r\n     </g>\r\n     <g id=\"text_3\">\r\n      <!-- 0.10 -->\r\n      <g transform=\"translate(187.314937 239.238437)scale(0.1 -0.1)\">\r\n       <defs>\r\n        <path d=\"M 12.40625 8.296875 \r\nL 28.515625 8.296875 \r\nL 28.515625 63.921875 \r\nL 10.984375 60.40625 \r\nL 10.984375 69.390625 \r\nL 28.421875 72.90625 \r\nL 38.28125 72.90625 \r\nL 38.28125 8.296875 \r\nL 54.390625 8.296875 \r\nL 54.390625 0 \r\nL 12.40625 0 \r\nz\r\n\" id=\"DejaVuSans-49\"/>\r\n       </defs>\r\n       <use xlink:href=\"#DejaVuSans-48\"/>\r\n       <use x=\"63.623047\" xlink:href=\"#DejaVuSans-46\"/>\r\n       <use x=\"95.410156\" xlink:href=\"#DejaVuSans-49\"/>\r\n       <use x=\"159.033203\" xlink:href=\"#DejaVuSans-48\"/>\r\n      </g>\r\n     </g>\r\n    </g>\r\n    <g id=\"xtick_4\">\r\n     <g id=\"line2d_4\">\r\n      <g>\r\n       <use style=\"stroke:#000000;stroke-width:0.8;\" x=\"249.059905\" xlink:href=\"#m5f13056379\" y=\"224.64\"/>\r\n      </g>\r\n     </g>\r\n     <g id=\"text_4\">\r\n      <!-- 0.15 -->\r\n      <g transform=\"translate(237.927093 239.238437)scale(0.1 -0.1)\">\r\n       <use xlink:href=\"#DejaVuSans-48\"/>\r\n       <use x=\"63.623047\" xlink:href=\"#DejaVuSans-46\"/>\r\n       <use x=\"95.410156\" xlink:href=\"#DejaVuSans-49\"/>\r\n       <use x=\"159.033203\" xlink:href=\"#DejaVuSans-53\"/>\r\n      </g>\r\n     </g>\r\n    </g>\r\n    <g id=\"xtick_5\">\r\n     <g id=\"line2d_5\">\r\n      <g>\r\n       <use style=\"stroke:#000000;stroke-width:0.8;\" x=\"299.672061\" xlink:href=\"#m5f13056379\" y=\"224.64\"/>\r\n      </g>\r\n     </g>\r\n     <g id=\"text_5\">\r\n      <!-- 0.20 -->\r\n      <g transform=\"translate(288.539249 239.238437)scale(0.1 -0.1)\">\r\n       <defs>\r\n        <path d=\"M 19.1875 8.296875 \r\nL 53.609375 8.296875 \r\nL 53.609375 0 \r\nL 7.328125 0 \r\nL 7.328125 8.296875 \r\nQ 12.9375 14.109375 22.625 23.890625 \r\nQ 32.328125 33.6875 34.8125 36.53125 \r\nQ 39.546875 41.84375 41.421875 45.53125 \r\nQ 43.3125 49.21875 43.3125 52.78125 \r\nQ 43.3125 58.59375 39.234375 62.25 \r\nQ 35.15625 65.921875 28.609375 65.921875 \r\nQ 23.96875 65.921875 18.8125 64.3125 \r\nQ 13.671875 62.703125 7.8125 59.421875 \r\nL 7.8125 69.390625 \r\nQ 13.765625 71.78125 18.9375 73 \r\nQ 24.125 74.21875 28.421875 74.21875 \r\nQ 39.75 74.21875 46.484375 68.546875 \r\nQ 53.21875 62.890625 53.21875 53.421875 \r\nQ 53.21875 48.921875 51.53125 44.890625 \r\nQ 49.859375 40.875 45.40625 35.40625 \r\nQ 44.1875 33.984375 37.640625 27.21875 \r\nQ 31.109375 20.453125 19.1875 8.296875 \r\nz\r\n\" id=\"DejaVuSans-50\"/>\r\n       </defs>\r\n       <use xlink:href=\"#DejaVuSans-48\"/>\r\n       <use x=\"63.623047\" xlink:href=\"#DejaVuSans-46\"/>\r\n       <use x=\"95.410156\" xlink:href=\"#DejaVuSans-50\"/>\r\n       <use x=\"159.033203\" xlink:href=\"#DejaVuSans-48\"/>\r\n      </g>\r\n     </g>\r\n    </g>\r\n    <g id=\"xtick_6\">\r\n     <g id=\"line2d_6\">\r\n      <g>\r\n       <use style=\"stroke:#000000;stroke-width:0.8;\" x=\"350.284217\" xlink:href=\"#m5f13056379\" y=\"224.64\"/>\r\n      </g>\r\n     </g>\r\n     <g id=\"text_6\">\r\n      <!-- 0.25 -->\r\n      <g transform=\"translate(339.151405 239.238437)scale(0.1 -0.1)\">\r\n       <use xlink:href=\"#DejaVuSans-48\"/>\r\n       <use x=\"63.623047\" xlink:href=\"#DejaVuSans-46\"/>\r\n       <use x=\"95.410156\" xlink:href=\"#DejaVuSans-50\"/>\r\n       <use x=\"159.033203\" xlink:href=\"#DejaVuSans-53\"/>\r\n      </g>\r\n     </g>\r\n    </g>\r\n    <g id=\"xtick_7\">\r\n     <g id=\"line2d_7\">\r\n      <g>\r\n       <use style=\"stroke:#000000;stroke-width:0.8;\" x=\"400.896373\" xlink:href=\"#m5f13056379\" y=\"224.64\"/>\r\n      </g>\r\n     </g>\r\n     <g id=\"text_7\">\r\n      <!-- 0.30 -->\r\n      <g transform=\"translate(389.763561 239.238437)scale(0.1 -0.1)\">\r\n       <defs>\r\n        <path d=\"M 40.578125 39.3125 \r\nQ 47.65625 37.796875 51.625 33 \r\nQ 55.609375 28.21875 55.609375 21.1875 \r\nQ 55.609375 10.40625 48.1875 4.484375 \r\nQ 40.765625 -1.421875 27.09375 -1.421875 \r\nQ 22.515625 -1.421875 17.65625 -0.515625 \r\nQ 12.796875 0.390625 7.625 2.203125 \r\nL 7.625 11.71875 \r\nQ 11.71875 9.328125 16.59375 8.109375 \r\nQ 21.484375 6.890625 26.8125 6.890625 \r\nQ 36.078125 6.890625 40.9375 10.546875 \r\nQ 45.796875 14.203125 45.796875 21.1875 \r\nQ 45.796875 27.640625 41.28125 31.265625 \r\nQ 36.765625 34.90625 28.71875 34.90625 \r\nL 20.21875 34.90625 \r\nL 20.21875 43.015625 \r\nL 29.109375 43.015625 \r\nQ 36.375 43.015625 40.234375 45.921875 \r\nQ 44.09375 48.828125 44.09375 54.296875 \r\nQ 44.09375 59.90625 40.109375 62.90625 \r\nQ 36.140625 65.921875 28.71875 65.921875 \r\nQ 24.65625 65.921875 20.015625 65.03125 \r\nQ 15.375 64.15625 9.8125 62.3125 \r\nL 9.8125 71.09375 \r\nQ 15.4375 72.65625 20.34375 73.4375 \r\nQ 25.25 74.21875 29.59375 74.21875 \r\nQ 40.828125 74.21875 47.359375 69.109375 \r\nQ 53.90625 64.015625 53.90625 55.328125 \r\nQ 53.90625 49.265625 50.4375 45.09375 \r\nQ 46.96875 40.921875 40.578125 39.3125 \r\nz\r\n\" id=\"DejaVuSans-51\"/>\r\n       </defs>\r\n       <use xlink:href=\"#DejaVuSans-48\"/>\r\n       <use x=\"63.623047\" xlink:href=\"#DejaVuSans-46\"/>\r\n       <use x=\"95.410156\" xlink:href=\"#DejaVuSans-51\"/>\r\n       <use x=\"159.033203\" xlink:href=\"#DejaVuSans-48\"/>\r\n      </g>\r\n     </g>\r\n    </g>\r\n   </g>\r\n   <g id=\"matplotlib.axis_2\">\r\n    <g id=\"ytick_1\">\r\n     <g id=\"line2d_8\">\r\n      <defs>\r\n       <path d=\"M 0 0 \r\nL -3.5 0 \r\n\" id=\"m752e1a654b\" style=\"stroke:#000000;stroke-width:0.8;\"/>\r\n      </defs>\r\n      <g>\r\n       <use style=\"stroke:#000000;stroke-width:0.8;\" x=\"97.223437\" xlink:href=\"#m752e1a654b\" y=\"215.58\"/>\r\n      </g>\r\n     </g>\r\n     <g id=\"text_8\">\r\n      <!-- DEBIT -->\r\n      <g transform=\"translate(60.285937 219.379219)scale(0.1 -0.1)\">\r\n       <defs>\r\n        <path d=\"M 19.671875 64.796875 \r\nL 19.671875 8.109375 \r\nL 31.59375 8.109375 \r\nQ 46.6875 8.109375 53.6875 14.9375 \r\nQ 60.6875 21.78125 60.6875 36.53125 \r\nQ 60.6875 51.171875 53.6875 57.984375 \r\nQ 46.6875 64.796875 31.59375 64.796875 \r\nz\r\nM 9.8125 72.90625 \r\nL 30.078125 72.90625 \r\nQ 51.265625 72.90625 61.171875 64.09375 \r\nQ 71.09375 55.28125 71.09375 36.53125 \r\nQ 71.09375 17.671875 61.125 8.828125 \r\nQ 51.171875 0 30.078125 0 \r\nL 9.8125 0 \r\nz\r\n\" id=\"DejaVuSans-68\"/>\r\n        <path d=\"M 9.8125 72.90625 \r\nL 55.90625 72.90625 \r\nL 55.90625 64.59375 \r\nL 19.671875 64.59375 \r\nL 19.671875 43.015625 \r\nL 54.390625 43.015625 \r\nL 54.390625 34.71875 \r\nL 19.671875 34.71875 \r\nL 19.671875 8.296875 \r\nL 56.78125 8.296875 \r\nL 56.78125 0 \r\nL 9.8125 0 \r\nz\r\n\" id=\"DejaVuSans-69\"/>\r\n        <path d=\"M 19.671875 34.8125 \r\nL 19.671875 8.109375 \r\nL 35.5 8.109375 \r\nQ 43.453125 8.109375 47.28125 11.40625 \r\nQ 51.125 14.703125 51.125 21.484375 \r\nQ 51.125 28.328125 47.28125 31.5625 \r\nQ 43.453125 34.8125 35.5 34.8125 \r\nz\r\nM 19.671875 64.796875 \r\nL 19.671875 42.828125 \r\nL 34.28125 42.828125 \r\nQ 41.5 42.828125 45.03125 45.53125 \r\nQ 48.578125 48.25 48.578125 53.8125 \r\nQ 48.578125 59.328125 45.03125 62.0625 \r\nQ 41.5 64.796875 34.28125 64.796875 \r\nz\r\nM 9.8125 72.90625 \r\nL 35.015625 72.90625 \r\nQ 46.296875 72.90625 52.390625 68.21875 \r\nQ 58.5 63.53125 58.5 54.890625 \r\nQ 58.5 48.1875 55.375 44.234375 \r\nQ 52.25 40.28125 46.1875 39.3125 \r\nQ 53.46875 37.75 57.5 32.78125 \r\nQ 61.53125 27.828125 61.53125 20.40625 \r\nQ 61.53125 10.640625 54.890625 5.3125 \r\nQ 48.25 0 35.984375 0 \r\nL 9.8125 0 \r\nz\r\n\" id=\"DejaVuSans-66\"/>\r\n        <path d=\"M 9.8125 72.90625 \r\nL 19.671875 72.90625 \r\nL 19.671875 0 \r\nL 9.8125 0 \r\nz\r\n\" id=\"DejaVuSans-73\"/>\r\n        <path d=\"M -0.296875 72.90625 \r\nL 61.375 72.90625 \r\nL 61.375 64.59375 \r\nL 35.5 64.59375 \r\nL 35.5 0 \r\nL 25.59375 0 \r\nL 25.59375 64.59375 \r\nL -0.296875 64.59375 \r\nz\r\n\" id=\"DejaVuSans-84\"/>\r\n       </defs>\r\n       <use xlink:href=\"#DejaVuSans-68\"/>\r\n       <use x=\"77.001953\" xlink:href=\"#DejaVuSans-69\"/>\r\n       <use x=\"140.185547\" xlink:href=\"#DejaVuSans-66\"/>\r\n       <use x=\"208.789062\" xlink:href=\"#DejaVuSans-73\"/>\r\n       <use x=\"238.28125\" xlink:href=\"#DejaVuSans-84\"/>\r\n      </g>\r\n     </g>\r\n    </g>\r\n    <g id=\"ytick_2\">\r\n     <g id=\"line2d_9\">\r\n      <g>\r\n       <use style=\"stroke:#000000;stroke-width:0.8;\" x=\"97.223437\" xlink:href=\"#m752e1a654b\" y=\"197.46\"/>\r\n      </g>\r\n     </g>\r\n     <g id=\"text_9\">\r\n      <!-- zeroDest -->\r\n      <g transform=\"translate(45.834375 201.259219)scale(0.1 -0.1)\">\r\n       <defs>\r\n        <path d=\"M 5.515625 54.6875 \r\nL 48.1875 54.6875 \r\nL 48.1875 46.484375 \r\nL 14.40625 7.171875 \r\nL 48.1875 7.171875 \r\nL 48.1875 0 \r\nL 4.296875 0 \r\nL 4.296875 8.203125 \r\nL 38.09375 47.515625 \r\nL 5.515625 47.515625 \r\nz\r\n\" id=\"DejaVuSans-122\"/>\r\n        <path d=\"M 56.203125 29.59375 \r\nL 56.203125 25.203125 \r\nL 14.890625 25.203125 \r\nQ 15.484375 15.921875 20.484375 11.0625 \r\nQ 25.484375 6.203125 34.421875 6.203125 \r\nQ 39.59375 6.203125 44.453125 7.46875 \r\nQ 49.3125 8.734375 54.109375 11.28125 \r\nL 54.109375 2.78125 \r\nQ 49.265625 0.734375 44.1875 -0.34375 \r\nQ 39.109375 -1.421875 33.890625 -1.421875 \r\nQ 20.796875 -1.421875 13.15625 6.1875 \r\nQ 5.515625 13.8125 5.515625 26.8125 \r\nQ 5.515625 40.234375 12.765625 48.109375 \r\nQ 20.015625 56 32.328125 56 \r\nQ 43.359375 56 49.78125 48.890625 \r\nQ 56.203125 41.796875 56.203125 29.59375 \r\nz\r\nM 47.21875 32.234375 \r\nQ 47.125 39.59375 43.09375 43.984375 \r\nQ 39.0625 48.390625 32.421875 48.390625 \r\nQ 24.90625 48.390625 20.390625 44.140625 \r\nQ 15.875 39.890625 15.1875 32.171875 \r\nz\r\n\" id=\"DejaVuSans-101\"/>\r\n        <path d=\"M 41.109375 46.296875 \r\nQ 39.59375 47.171875 37.8125 47.578125 \r\nQ 36.03125 48 33.890625 48 \r\nQ 26.265625 48 22.1875 43.046875 \r\nQ 18.109375 38.09375 18.109375 28.8125 \r\nL 18.109375 0 \r\nL 9.078125 0 \r\nL 9.078125 54.6875 \r\nL 18.109375 54.6875 \r\nL 18.109375 46.1875 \r\nQ 20.953125 51.171875 25.484375 53.578125 \r\nQ 30.03125 56 36.53125 56 \r\nQ 37.453125 56 38.578125 55.875 \r\nQ 39.703125 55.765625 41.0625 55.515625 \r\nz\r\n\" id=\"DejaVuSans-114\"/>\r\n        <path d=\"M 30.609375 48.390625 \r\nQ 23.390625 48.390625 19.1875 42.75 \r\nQ 14.984375 37.109375 14.984375 27.296875 \r\nQ 14.984375 17.484375 19.15625 11.84375 \r\nQ 23.34375 6.203125 30.609375 6.203125 \r\nQ 37.796875 6.203125 41.984375 11.859375 \r\nQ 46.1875 17.53125 46.1875 27.296875 \r\nQ 46.1875 37.015625 41.984375 42.703125 \r\nQ 37.796875 48.390625 30.609375 48.390625 \r\nz\r\nM 30.609375 56 \r\nQ 42.328125 56 49.015625 48.375 \r\nQ 55.71875 40.765625 55.71875 27.296875 \r\nQ 55.71875 13.875 49.015625 6.21875 \r\nQ 42.328125 -1.421875 30.609375 -1.421875 \r\nQ 18.84375 -1.421875 12.171875 6.21875 \r\nQ 5.515625 13.875 5.515625 27.296875 \r\nQ 5.515625 40.765625 12.171875 48.375 \r\nQ 18.84375 56 30.609375 56 \r\nz\r\n\" id=\"DejaVuSans-111\"/>\r\n        <path d=\"M 44.28125 53.078125 \r\nL 44.28125 44.578125 \r\nQ 40.484375 46.53125 36.375 47.5 \r\nQ 32.28125 48.484375 27.875 48.484375 \r\nQ 21.1875 48.484375 17.84375 46.4375 \r\nQ 14.5 44.390625 14.5 40.28125 \r\nQ 14.5 37.15625 16.890625 35.375 \r\nQ 19.28125 33.59375 26.515625 31.984375 \r\nL 29.59375 31.296875 \r\nQ 39.15625 29.25 43.1875 25.515625 \r\nQ 47.21875 21.78125 47.21875 15.09375 \r\nQ 47.21875 7.46875 41.1875 3.015625 \r\nQ 35.15625 -1.421875 24.609375 -1.421875 \r\nQ 20.21875 -1.421875 15.453125 -0.5625 \r\nQ 10.6875 0.296875 5.421875 2 \r\nL 5.421875 11.28125 \r\nQ 10.40625 8.6875 15.234375 7.390625 \r\nQ 20.0625 6.109375 24.8125 6.109375 \r\nQ 31.15625 6.109375 34.5625 8.28125 \r\nQ 37.984375 10.453125 37.984375 14.40625 \r\nQ 37.984375 18.0625 35.515625 20.015625 \r\nQ 33.0625 21.96875 24.703125 23.78125 \r\nL 21.578125 24.515625 \r\nQ 13.234375 26.265625 9.515625 29.90625 \r\nQ 5.8125 33.546875 5.8125 39.890625 \r\nQ 5.8125 47.609375 11.28125 51.796875 \r\nQ 16.75 56 26.8125 56 \r\nQ 31.78125 56 36.171875 55.265625 \r\nQ 40.578125 54.546875 44.28125 53.078125 \r\nz\r\n\" id=\"DejaVuSans-115\"/>\r\n        <path d=\"M 18.3125 70.21875 \r\nL 18.3125 54.6875 \r\nL 36.8125 54.6875 \r\nL 36.8125 47.703125 \r\nL 18.3125 47.703125 \r\nL 18.3125 18.015625 \r\nQ 18.3125 11.328125 20.140625 9.421875 \r\nQ 21.96875 7.515625 27.59375 7.515625 \r\nL 36.8125 7.515625 \r\nL 36.8125 0 \r\nL 27.59375 0 \r\nQ 17.1875 0 13.234375 3.875 \r\nQ 9.28125 7.765625 9.28125 18.015625 \r\nL 9.28125 47.703125 \r\nL 2.6875 47.703125 \r\nL 2.6875 54.6875 \r\nL 9.28125 54.6875 \r\nL 9.28125 70.21875 \r\nz\r\n\" id=\"DejaVuSans-116\"/>\r\n       </defs>\r\n       <use xlink:href=\"#DejaVuSans-122\"/>\r\n       <use x=\"52.490234\" xlink:href=\"#DejaVuSans-101\"/>\r\n       <use x=\"114.013672\" xlink:href=\"#DejaVuSans-114\"/>\r\n       <use x=\"152.876953\" xlink:href=\"#DejaVuSans-111\"/>\r\n       <use x=\"214.058594\" xlink:href=\"#DejaVuSans-68\"/>\r\n       <use x=\"291.060547\" xlink:href=\"#DejaVuSans-101\"/>\r\n       <use x=\"352.583984\" xlink:href=\"#DejaVuSans-115\"/>\r\n       <use x=\"404.683594\" xlink:href=\"#DejaVuSans-116\"/>\r\n      </g>\r\n     </g>\r\n    </g>\r\n    <g id=\"ytick_3\">\r\n     <g id=\"line2d_10\">\r\n      <g>\r\n       <use style=\"stroke:#000000;stroke-width:0.8;\" x=\"97.223437\" xlink:href=\"#m752e1a654b\" y=\"179.34\"/>\r\n      </g>\r\n     </g>\r\n     <g id=\"text_10\">\r\n      <!-- newbalanceDest -->\r\n      <g transform=\"translate(7.2 183.139219)scale(0.1 -0.1)\">\r\n       <defs>\r\n        <path d=\"M 54.890625 33.015625 \r\nL 54.890625 0 \r\nL 45.90625 0 \r\nL 45.90625 32.71875 \r\nQ 45.90625 40.484375 42.875 44.328125 \r\nQ 39.84375 48.1875 33.796875 48.1875 \r\nQ 26.515625 48.1875 22.3125 43.546875 \r\nQ 18.109375 38.921875 18.109375 30.90625 \r\nL 18.109375 0 \r\nL 9.078125 0 \r\nL 9.078125 54.6875 \r\nL 18.109375 54.6875 \r\nL 18.109375 46.1875 \r\nQ 21.34375 51.125 25.703125 53.5625 \r\nQ 30.078125 56 35.796875 56 \r\nQ 45.21875 56 50.046875 50.171875 \r\nQ 54.890625 44.34375 54.890625 33.015625 \r\nz\r\n\" id=\"DejaVuSans-110\"/>\r\n        <path d=\"M 4.203125 54.6875 \r\nL 13.1875 54.6875 \r\nL 24.421875 12.015625 \r\nL 35.59375 54.6875 \r\nL 46.1875 54.6875 \r\nL 57.421875 12.015625 \r\nL 68.609375 54.6875 \r\nL 77.59375 54.6875 \r\nL 63.28125 0 \r\nL 52.6875 0 \r\nL 40.921875 44.828125 \r\nL 29.109375 0 \r\nL 18.5 0 \r\nz\r\n\" id=\"DejaVuSans-119\"/>\r\n        <path d=\"M 48.6875 27.296875 \r\nQ 48.6875 37.203125 44.609375 42.84375 \r\nQ 40.53125 48.484375 33.40625 48.484375 \r\nQ 26.265625 48.484375 22.1875 42.84375 \r\nQ 18.109375 37.203125 18.109375 27.296875 \r\nQ 18.109375 17.390625 22.1875 11.75 \r\nQ 26.265625 6.109375 33.40625 6.109375 \r\nQ 40.53125 6.109375 44.609375 11.75 \r\nQ 48.6875 17.390625 48.6875 27.296875 \r\nz\r\nM 18.109375 46.390625 \r\nQ 20.953125 51.265625 25.265625 53.625 \r\nQ 29.59375 56 35.59375 56 \r\nQ 45.5625 56 51.78125 48.09375 \r\nQ 58.015625 40.1875 58.015625 27.296875 \r\nQ 58.015625 14.40625 51.78125 6.484375 \r\nQ 45.5625 -1.421875 35.59375 -1.421875 \r\nQ 29.59375 -1.421875 25.265625 0.953125 \r\nQ 20.953125 3.328125 18.109375 8.203125 \r\nL 18.109375 0 \r\nL 9.078125 0 \r\nL 9.078125 75.984375 \r\nL 18.109375 75.984375 \r\nz\r\n\" id=\"DejaVuSans-98\"/>\r\n        <path d=\"M 34.28125 27.484375 \r\nQ 23.390625 27.484375 19.1875 25 \r\nQ 14.984375 22.515625 14.984375 16.5 \r\nQ 14.984375 11.71875 18.140625 8.90625 \r\nQ 21.296875 6.109375 26.703125 6.109375 \r\nQ 34.1875 6.109375 38.703125 11.40625 \r\nQ 43.21875 16.703125 43.21875 25.484375 \r\nL 43.21875 27.484375 \r\nz\r\nM 52.203125 31.203125 \r\nL 52.203125 0 \r\nL 43.21875 0 \r\nL 43.21875 8.296875 \r\nQ 40.140625 3.328125 35.546875 0.953125 \r\nQ 30.953125 -1.421875 24.3125 -1.421875 \r\nQ 15.921875 -1.421875 10.953125 3.296875 \r\nQ 6 8.015625 6 15.921875 \r\nQ 6 25.140625 12.171875 29.828125 \r\nQ 18.359375 34.515625 30.609375 34.515625 \r\nL 43.21875 34.515625 \r\nL 43.21875 35.40625 \r\nQ 43.21875 41.609375 39.140625 45 \r\nQ 35.0625 48.390625 27.6875 48.390625 \r\nQ 23 48.390625 18.546875 47.265625 \r\nQ 14.109375 46.140625 10.015625 43.890625 \r\nL 10.015625 52.203125 \r\nQ 14.9375 54.109375 19.578125 55.046875 \r\nQ 24.21875 56 28.609375 56 \r\nQ 40.484375 56 46.34375 49.84375 \r\nQ 52.203125 43.703125 52.203125 31.203125 \r\nz\r\n\" id=\"DejaVuSans-97\"/>\r\n        <path d=\"M 9.421875 75.984375 \r\nL 18.40625 75.984375 \r\nL 18.40625 0 \r\nL 9.421875 0 \r\nz\r\n\" id=\"DejaVuSans-108\"/>\r\n        <path d=\"M 48.78125 52.59375 \r\nL 48.78125 44.1875 \r\nQ 44.96875 46.296875 41.140625 47.34375 \r\nQ 37.3125 48.390625 33.40625 48.390625 \r\nQ 24.65625 48.390625 19.8125 42.84375 \r\nQ 14.984375 37.3125 14.984375 27.296875 \r\nQ 14.984375 17.28125 19.8125 11.734375 \r\nQ 24.65625 6.203125 33.40625 6.203125 \r\nQ 37.3125 6.203125 41.140625 7.25 \r\nQ 44.96875 8.296875 48.78125 10.40625 \r\nL 48.78125 2.09375 \r\nQ 45.015625 0.34375 40.984375 -0.53125 \r\nQ 36.96875 -1.421875 32.421875 -1.421875 \r\nQ 20.0625 -1.421875 12.78125 6.34375 \r\nQ 5.515625 14.109375 5.515625 27.296875 \r\nQ 5.515625 40.671875 12.859375 48.328125 \r\nQ 20.21875 56 33.015625 56 \r\nQ 37.15625 56 41.109375 55.140625 \r\nQ 45.0625 54.296875 48.78125 52.59375 \r\nz\r\n\" id=\"DejaVuSans-99\"/>\r\n       </defs>\r\n       <use xlink:href=\"#DejaVuSans-110\"/>\r\n       <use x=\"63.378906\" xlink:href=\"#DejaVuSans-101\"/>\r\n       <use x=\"124.902344\" xlink:href=\"#DejaVuSans-119\"/>\r\n       <use x=\"206.689453\" xlink:href=\"#DejaVuSans-98\"/>\r\n       <use x=\"270.166016\" xlink:href=\"#DejaVuSans-97\"/>\r\n       <use x=\"331.445312\" xlink:href=\"#DejaVuSans-108\"/>\r\n       <use x=\"359.228516\" xlink:href=\"#DejaVuSans-97\"/>\r\n       <use x=\"420.507812\" xlink:href=\"#DejaVuSans-110\"/>\r\n       <use x=\"483.886719\" xlink:href=\"#DejaVuSans-99\"/>\r\n       <use x=\"538.867188\" xlink:href=\"#DejaVuSans-101\"/>\r\n       <use x=\"600.390625\" xlink:href=\"#DejaVuSans-68\"/>\r\n       <use x=\"677.392578\" xlink:href=\"#DejaVuSans-101\"/>\r\n       <use x=\"738.916016\" xlink:href=\"#DejaVuSans-115\"/>\r\n       <use x=\"791.015625\" xlink:href=\"#DejaVuSans-116\"/>\r\n      </g>\r\n     </g>\r\n    </g>\r\n    <g id=\"ytick_4\">\r\n     <g id=\"line2d_11\">\r\n      <g>\r\n       <use style=\"stroke:#000000;stroke-width:0.8;\" x=\"97.223437\" xlink:href=\"#m752e1a654b\" y=\"161.22\"/>\r\n      </g>\r\n     </g>\r\n     <g id=\"text_11\">\r\n      <!-- CASH_OUT -->\r\n      <g transform=\"translate(36.232812 164.930937)scale(0.1 -0.1)\">\r\n       <defs>\r\n        <path d=\"M 64.40625 67.28125 \r\nL 64.40625 56.890625 \r\nQ 59.421875 61.53125 53.78125 63.8125 \r\nQ 48.140625 66.109375 41.796875 66.109375 \r\nQ 29.296875 66.109375 22.65625 58.46875 \r\nQ 16.015625 50.828125 16.015625 36.375 \r\nQ 16.015625 21.96875 22.65625 14.328125 \r\nQ 29.296875 6.6875 41.796875 6.6875 \r\nQ 48.140625 6.6875 53.78125 8.984375 \r\nQ 59.421875 11.28125 64.40625 15.921875 \r\nL 64.40625 5.609375 \r\nQ 59.234375 2.09375 53.4375 0.328125 \r\nQ 47.65625 -1.421875 41.21875 -1.421875 \r\nQ 24.65625 -1.421875 15.125 8.703125 \r\nQ 5.609375 18.84375 5.609375 36.375 \r\nQ 5.609375 53.953125 15.125 64.078125 \r\nQ 24.65625 74.21875 41.21875 74.21875 \r\nQ 47.75 74.21875 53.53125 72.484375 \r\nQ 59.328125 70.75 64.40625 67.28125 \r\nz\r\n\" id=\"DejaVuSans-67\"/>\r\n        <path d=\"M 34.1875 63.1875 \r\nL 20.796875 26.90625 \r\nL 47.609375 26.90625 \r\nz\r\nM 28.609375 72.90625 \r\nL 39.796875 72.90625 \r\nL 67.578125 0 \r\nL 57.328125 0 \r\nL 50.6875 18.703125 \r\nL 17.828125 18.703125 \r\nL 11.1875 0 \r\nL 0.78125 0 \r\nz\r\n\" id=\"DejaVuSans-65\"/>\r\n        <path d=\"M 53.515625 70.515625 \r\nL 53.515625 60.890625 \r\nQ 47.90625 63.578125 42.921875 64.890625 \r\nQ 37.9375 66.21875 33.296875 66.21875 \r\nQ 25.25 66.21875 20.875 63.09375 \r\nQ 16.5 59.96875 16.5 54.203125 \r\nQ 16.5 49.359375 19.40625 46.890625 \r\nQ 22.3125 44.4375 30.421875 42.921875 \r\nL 36.375 41.703125 \r\nQ 47.40625 39.59375 52.65625 34.296875 \r\nQ 57.90625 29 57.90625 20.125 \r\nQ 57.90625 9.515625 50.796875 4.046875 \r\nQ 43.703125 -1.421875 29.984375 -1.421875 \r\nQ 24.8125 -1.421875 18.96875 -0.25 \r\nQ 13.140625 0.921875 6.890625 3.21875 \r\nL 6.890625 13.375 \r\nQ 12.890625 10.015625 18.65625 8.296875 \r\nQ 24.421875 6.59375 29.984375 6.59375 \r\nQ 38.421875 6.59375 43.015625 9.90625 \r\nQ 47.609375 13.234375 47.609375 19.390625 \r\nQ 47.609375 24.75 44.3125 27.78125 \r\nQ 41.015625 30.8125 33.5 32.328125 \r\nL 27.484375 33.5 \r\nQ 16.453125 35.6875 11.515625 40.375 \r\nQ 6.59375 45.0625 6.59375 53.421875 \r\nQ 6.59375 63.09375 13.40625 68.65625 \r\nQ 20.21875 74.21875 32.171875 74.21875 \r\nQ 37.3125 74.21875 42.625 73.28125 \r\nQ 47.953125 72.359375 53.515625 70.515625 \r\nz\r\n\" id=\"DejaVuSans-83\"/>\r\n        <path d=\"M 9.8125 72.90625 \r\nL 19.671875 72.90625 \r\nL 19.671875 43.015625 \r\nL 55.515625 43.015625 \r\nL 55.515625 72.90625 \r\nL 65.375 72.90625 \r\nL 65.375 0 \r\nL 55.515625 0 \r\nL 55.515625 34.71875 \r\nL 19.671875 34.71875 \r\nL 19.671875 0 \r\nL 9.8125 0 \r\nz\r\n\" id=\"DejaVuSans-72\"/>\r\n        <path d=\"M 50.984375 -16.609375 \r\nL 50.984375 -23.578125 \r\nL -0.984375 -23.578125 \r\nL -0.984375 -16.609375 \r\nz\r\n\" id=\"DejaVuSans-95\"/>\r\n        <path d=\"M 39.40625 66.21875 \r\nQ 28.65625 66.21875 22.328125 58.203125 \r\nQ 16.015625 50.203125 16.015625 36.375 \r\nQ 16.015625 22.609375 22.328125 14.59375 \r\nQ 28.65625 6.59375 39.40625 6.59375 \r\nQ 50.140625 6.59375 56.421875 14.59375 \r\nQ 62.703125 22.609375 62.703125 36.375 \r\nQ 62.703125 50.203125 56.421875 58.203125 \r\nQ 50.140625 66.21875 39.40625 66.21875 \r\nz\r\nM 39.40625 74.21875 \r\nQ 54.734375 74.21875 63.90625 63.9375 \r\nQ 73.09375 53.65625 73.09375 36.375 \r\nQ 73.09375 19.140625 63.90625 8.859375 \r\nQ 54.734375 -1.421875 39.40625 -1.421875 \r\nQ 24.03125 -1.421875 14.8125 8.828125 \r\nQ 5.609375 19.09375 5.609375 36.375 \r\nQ 5.609375 53.65625 14.8125 63.9375 \r\nQ 24.03125 74.21875 39.40625 74.21875 \r\nz\r\n\" id=\"DejaVuSans-79\"/>\r\n        <path d=\"M 8.6875 72.90625 \r\nL 18.609375 72.90625 \r\nL 18.609375 28.609375 \r\nQ 18.609375 16.890625 22.84375 11.734375 \r\nQ 27.09375 6.59375 36.625 6.59375 \r\nQ 46.09375 6.59375 50.34375 11.734375 \r\nQ 54.59375 16.890625 54.59375 28.609375 \r\nL 54.59375 72.90625 \r\nL 64.5 72.90625 \r\nL 64.5 27.390625 \r\nQ 64.5 13.140625 57.4375 5.859375 \r\nQ 50.390625 -1.421875 36.625 -1.421875 \r\nQ 22.796875 -1.421875 15.734375 5.859375 \r\nQ 8.6875 13.140625 8.6875 27.390625 \r\nz\r\n\" id=\"DejaVuSans-85\"/>\r\n       </defs>\r\n       <use xlink:href=\"#DejaVuSans-67\"/>\r\n       <use x=\"69.824219\" xlink:href=\"#DejaVuSans-65\"/>\r\n       <use x=\"138.232422\" xlink:href=\"#DejaVuSans-83\"/>\r\n       <use x=\"201.708984\" xlink:href=\"#DejaVuSans-72\"/>\r\n       <use x=\"276.904297\" xlink:href=\"#DejaVuSans-95\"/>\r\n       <use x=\"326.904297\" xlink:href=\"#DejaVuSans-79\"/>\r\n       <use x=\"405.615234\" xlink:href=\"#DejaVuSans-85\"/>\r\n       <use x=\"478.808594\" xlink:href=\"#DejaVuSans-84\"/>\r\n      </g>\r\n     </g>\r\n    </g>\r\n    <g id=\"ytick_5\">\r\n     <g id=\"line2d_12\">\r\n      <g>\r\n       <use style=\"stroke:#000000;stroke-width:0.8;\" x=\"97.223437\" xlink:href=\"#m752e1a654b\" y=\"143.1\"/>\r\n      </g>\r\n     </g>\r\n     <g id=\"text_12\">\r\n      <!-- oldbalanceDest -->\r\n      <g transform=\"translate(12.623437 146.899219)scale(0.1 -0.1)\">\r\n       <defs>\r\n        <path d=\"M 45.40625 46.390625 \r\nL 45.40625 75.984375 \r\nL 54.390625 75.984375 \r\nL 54.390625 0 \r\nL 45.40625 0 \r\nL 45.40625 8.203125 \r\nQ 42.578125 3.328125 38.25 0.953125 \r\nQ 33.9375 -1.421875 27.875 -1.421875 \r\nQ 17.96875 -1.421875 11.734375 6.484375 \r\nQ 5.515625 14.40625 5.515625 27.296875 \r\nQ 5.515625 40.1875 11.734375 48.09375 \r\nQ 17.96875 56 27.875 56 \r\nQ 33.9375 56 38.25 53.625 \r\nQ 42.578125 51.265625 45.40625 46.390625 \r\nz\r\nM 14.796875 27.296875 \r\nQ 14.796875 17.390625 18.875 11.75 \r\nQ 22.953125 6.109375 30.078125 6.109375 \r\nQ 37.203125 6.109375 41.296875 11.75 \r\nQ 45.40625 17.390625 45.40625 27.296875 \r\nQ 45.40625 37.203125 41.296875 42.84375 \r\nQ 37.203125 48.484375 30.078125 48.484375 \r\nQ 22.953125 48.484375 18.875 42.84375 \r\nQ 14.796875 37.203125 14.796875 27.296875 \r\nz\r\n\" id=\"DejaVuSans-100\"/>\r\n       </defs>\r\n       <use xlink:href=\"#DejaVuSans-111\"/>\r\n       <use x=\"61.181641\" xlink:href=\"#DejaVuSans-108\"/>\r\n       <use x=\"88.964844\" xlink:href=\"#DejaVuSans-100\"/>\r\n       <use x=\"152.441406\" xlink:href=\"#DejaVuSans-98\"/>\r\n       <use x=\"215.917969\" xlink:href=\"#DejaVuSans-97\"/>\r\n       <use x=\"277.197266\" xlink:href=\"#DejaVuSans-108\"/>\r\n       <use x=\"304.980469\" xlink:href=\"#DejaVuSans-97\"/>\r\n       <use x=\"366.259766\" xlink:href=\"#DejaVuSans-110\"/>\r\n       <use x=\"429.638672\" xlink:href=\"#DejaVuSans-99\"/>\r\n       <use x=\"484.619141\" xlink:href=\"#DejaVuSans-101\"/>\r\n       <use x=\"546.142578\" xlink:href=\"#DejaVuSans-68\"/>\r\n       <use x=\"623.144531\" xlink:href=\"#DejaVuSans-101\"/>\r\n       <use x=\"684.667969\" xlink:href=\"#DejaVuSans-115\"/>\r\n       <use x=\"736.767578\" xlink:href=\"#DejaVuSans-116\"/>\r\n      </g>\r\n     </g>\r\n    </g>\r\n    <g id=\"ytick_6\">\r\n     <g id=\"line2d_13\">\r\n      <g>\r\n       <use style=\"stroke:#000000;stroke-width:0.8;\" x=\"97.223437\" xlink:href=\"#m752e1a654b\" y=\"124.98\"/>\r\n      </g>\r\n     </g>\r\n     <g id=\"text_13\">\r\n      <!-- zeroOrig -->\r\n      <g transform=\"translate(47.707812 128.779219)scale(0.1 -0.1)\">\r\n       <defs>\r\n        <path d=\"M 9.421875 54.6875 \r\nL 18.40625 54.6875 \r\nL 18.40625 0 \r\nL 9.421875 0 \r\nz\r\nM 9.421875 75.984375 \r\nL 18.40625 75.984375 \r\nL 18.40625 64.59375 \r\nL 9.421875 64.59375 \r\nz\r\n\" id=\"DejaVuSans-105\"/>\r\n        <path d=\"M 45.40625 27.984375 \r\nQ 45.40625 37.75 41.375 43.109375 \r\nQ 37.359375 48.484375 30.078125 48.484375 \r\nQ 22.859375 48.484375 18.828125 43.109375 \r\nQ 14.796875 37.75 14.796875 27.984375 \r\nQ 14.796875 18.265625 18.828125 12.890625 \r\nQ 22.859375 7.515625 30.078125 7.515625 \r\nQ 37.359375 7.515625 41.375 12.890625 \r\nQ 45.40625 18.265625 45.40625 27.984375 \r\nz\r\nM 54.390625 6.78125 \r\nQ 54.390625 -7.171875 48.1875 -13.984375 \r\nQ 42 -20.796875 29.203125 -20.796875 \r\nQ 24.46875 -20.796875 20.265625 -20.09375 \r\nQ 16.0625 -19.390625 12.109375 -17.921875 \r\nL 12.109375 -9.1875 \r\nQ 16.0625 -11.328125 19.921875 -12.34375 \r\nQ 23.78125 -13.375 27.78125 -13.375 \r\nQ 36.625 -13.375 41.015625 -8.765625 \r\nQ 45.40625 -4.15625 45.40625 5.171875 \r\nL 45.40625 9.625 \r\nQ 42.625 4.78125 38.28125 2.390625 \r\nQ 33.9375 0 27.875 0 \r\nQ 17.828125 0 11.671875 7.65625 \r\nQ 5.515625 15.328125 5.515625 27.984375 \r\nQ 5.515625 40.671875 11.671875 48.328125 \r\nQ 17.828125 56 27.875 56 \r\nQ 33.9375 56 38.28125 53.609375 \r\nQ 42.625 51.21875 45.40625 46.390625 \r\nL 45.40625 54.6875 \r\nL 54.390625 54.6875 \r\nz\r\n\" id=\"DejaVuSans-103\"/>\r\n       </defs>\r\n       <use xlink:href=\"#DejaVuSans-122\"/>\r\n       <use x=\"52.490234\" xlink:href=\"#DejaVuSans-101\"/>\r\n       <use x=\"114.013672\" xlink:href=\"#DejaVuSans-114\"/>\r\n       <use x=\"152.876953\" xlink:href=\"#DejaVuSans-111\"/>\r\n       <use x=\"214.058594\" xlink:href=\"#DejaVuSans-79\"/>\r\n       <use x=\"292.769531\" xlink:href=\"#DejaVuSans-114\"/>\r\n       <use x=\"333.882812\" xlink:href=\"#DejaVuSans-105\"/>\r\n       <use x=\"361.666016\" xlink:href=\"#DejaVuSans-103\"/>\r\n      </g>\r\n     </g>\r\n    </g>\r\n    <g id=\"ytick_7\">\r\n     <g id=\"line2d_14\">\r\n      <g>\r\n       <use style=\"stroke:#000000;stroke-width:0.8;\" x=\"97.223437\" xlink:href=\"#m752e1a654b\" y=\"106.86\"/>\r\n      </g>\r\n     </g>\r\n     <g id=\"text_14\">\r\n      <!-- PAYMENT -->\r\n      <g transform=\"translate(44.121875 110.659219)scale(0.1 -0.1)\">\r\n       <defs>\r\n        <path d=\"M 19.671875 64.796875 \r\nL 19.671875 37.40625 \r\nL 32.078125 37.40625 \r\nQ 38.96875 37.40625 42.71875 40.96875 \r\nQ 46.484375 44.53125 46.484375 51.125 \r\nQ 46.484375 57.671875 42.71875 61.234375 \r\nQ 38.96875 64.796875 32.078125 64.796875 \r\nz\r\nM 9.8125 72.90625 \r\nL 32.078125 72.90625 \r\nQ 44.34375 72.90625 50.609375 67.359375 \r\nQ 56.890625 61.8125 56.890625 51.125 \r\nQ 56.890625 40.328125 50.609375 34.8125 \r\nQ 44.34375 29.296875 32.078125 29.296875 \r\nL 19.671875 29.296875 \r\nL 19.671875 0 \r\nL 9.8125 0 \r\nz\r\n\" id=\"DejaVuSans-80\"/>\r\n        <path d=\"M -0.203125 72.90625 \r\nL 10.40625 72.90625 \r\nL 30.609375 42.921875 \r\nL 50.6875 72.90625 \r\nL 61.28125 72.90625 \r\nL 35.5 34.71875 \r\nL 35.5 0 \r\nL 25.59375 0 \r\nL 25.59375 34.71875 \r\nz\r\n\" id=\"DejaVuSans-89\"/>\r\n        <path d=\"M 9.8125 72.90625 \r\nL 24.515625 72.90625 \r\nL 43.109375 23.296875 \r\nL 61.8125 72.90625 \r\nL 76.515625 72.90625 \r\nL 76.515625 0 \r\nL 66.890625 0 \r\nL 66.890625 64.015625 \r\nL 48.09375 14.015625 \r\nL 38.1875 14.015625 \r\nL 19.390625 64.015625 \r\nL 19.390625 0 \r\nL 9.8125 0 \r\nz\r\n\" id=\"DejaVuSans-77\"/>\r\n        <path d=\"M 9.8125 72.90625 \r\nL 23.09375 72.90625 \r\nL 55.421875 11.921875 \r\nL 55.421875 72.90625 \r\nL 64.984375 72.90625 \r\nL 64.984375 0 \r\nL 51.703125 0 \r\nL 19.390625 60.984375 \r\nL 19.390625 0 \r\nL 9.8125 0 \r\nz\r\n\" id=\"DejaVuSans-78\"/>\r\n       </defs>\r\n       <use xlink:href=\"#DejaVuSans-80\"/>\r\n       <use x=\"53.927734\" xlink:href=\"#DejaVuSans-65\"/>\r\n       <use x=\"114.585938\" xlink:href=\"#DejaVuSans-89\"/>\r\n       <use x=\"175.669922\" xlink:href=\"#DejaVuSans-77\"/>\r\n       <use x=\"261.949219\" xlink:href=\"#DejaVuSans-69\"/>\r\n       <use x=\"325.132812\" xlink:href=\"#DejaVuSans-78\"/>\r\n       <use x=\"399.9375\" xlink:href=\"#DejaVuSans-84\"/>\r\n      </g>\r\n     </g>\r\n    </g>\r\n    <g id=\"ytick_8\">\r\n     <g id=\"line2d_15\">\r\n      <g>\r\n       <use style=\"stroke:#000000;stroke-width:0.8;\" x=\"97.223437\" xlink:href=\"#m752e1a654b\" y=\"88.74\"/>\r\n      </g>\r\n     </g>\r\n     <g id=\"text_15\">\r\n      <!-- step -->\r\n      <g transform=\"translate(68.592187 92.539219)scale(0.1 -0.1)\">\r\n       <defs>\r\n        <path d=\"M 18.109375 8.203125 \r\nL 18.109375 -20.796875 \r\nL 9.078125 -20.796875 \r\nL 9.078125 54.6875 \r\nL 18.109375 54.6875 \r\nL 18.109375 46.390625 \r\nQ 20.953125 51.265625 25.265625 53.625 \r\nQ 29.59375 56 35.59375 56 \r\nQ 45.5625 56 51.78125 48.09375 \r\nQ 58.015625 40.1875 58.015625 27.296875 \r\nQ 58.015625 14.40625 51.78125 6.484375 \r\nQ 45.5625 -1.421875 35.59375 -1.421875 \r\nQ 29.59375 -1.421875 25.265625 0.953125 \r\nQ 20.953125 3.328125 18.109375 8.203125 \r\nz\r\nM 48.6875 27.296875 \r\nQ 48.6875 37.203125 44.609375 42.84375 \r\nQ 40.53125 48.484375 33.40625 48.484375 \r\nQ 26.265625 48.484375 22.1875 42.84375 \r\nQ 18.109375 37.203125 18.109375 27.296875 \r\nQ 18.109375 17.390625 22.1875 11.75 \r\nQ 26.265625 6.109375 33.40625 6.109375 \r\nQ 40.53125 6.109375 44.609375 11.75 \r\nQ 48.6875 17.390625 48.6875 27.296875 \r\nz\r\n\" id=\"DejaVuSans-112\"/>\r\n       </defs>\r\n       <use xlink:href=\"#DejaVuSans-115\"/>\r\n       <use x=\"52.099609\" xlink:href=\"#DejaVuSans-116\"/>\r\n       <use x=\"91.308594\" xlink:href=\"#DejaVuSans-101\"/>\r\n       <use x=\"152.832031\" xlink:href=\"#DejaVuSans-112\"/>\r\n      </g>\r\n     </g>\r\n    </g>\r\n    <g id=\"ytick_9\">\r\n     <g id=\"line2d_16\">\r\n      <g>\r\n       <use style=\"stroke:#000000;stroke-width:0.8;\" x=\"97.223437\" xlink:href=\"#m752e1a654b\" y=\"70.62\"/>\r\n      </g>\r\n     </g>\r\n     <g id=\"text_16\">\r\n      <!-- TRANSFER -->\r\n      <g transform=\"translate(37.878125 74.419219)scale(0.1 -0.1)\">\r\n       <defs>\r\n        <path d=\"M 44.390625 34.1875 \r\nQ 47.5625 33.109375 50.5625 29.59375 \r\nQ 53.5625 26.078125 56.59375 19.921875 \r\nL 66.609375 0 \r\nL 56 0 \r\nL 46.6875 18.703125 \r\nQ 43.0625 26.03125 39.671875 28.421875 \r\nQ 36.28125 30.8125 30.421875 30.8125 \r\nL 19.671875 30.8125 \r\nL 19.671875 0 \r\nL 9.8125 0 \r\nL 9.8125 72.90625 \r\nL 32.078125 72.90625 \r\nQ 44.578125 72.90625 50.734375 67.671875 \r\nQ 56.890625 62.453125 56.890625 51.90625 \r\nQ 56.890625 45.015625 53.6875 40.46875 \r\nQ 50.484375 35.9375 44.390625 34.1875 \r\nz\r\nM 19.671875 64.796875 \r\nL 19.671875 38.921875 \r\nL 32.078125 38.921875 \r\nQ 39.203125 38.921875 42.84375 42.21875 \r\nQ 46.484375 45.515625 46.484375 51.90625 \r\nQ 46.484375 58.296875 42.84375 61.546875 \r\nQ 39.203125 64.796875 32.078125 64.796875 \r\nz\r\n\" id=\"DejaVuSans-82\"/>\r\n        <path d=\"M 9.8125 72.90625 \r\nL 51.703125 72.90625 \r\nL 51.703125 64.59375 \r\nL 19.671875 64.59375 \r\nL 19.671875 43.109375 \r\nL 48.578125 43.109375 \r\nL 48.578125 34.8125 \r\nL 19.671875 34.8125 \r\nL 19.671875 0 \r\nL 9.8125 0 \r\nz\r\n\" id=\"DejaVuSans-70\"/>\r\n       </defs>\r\n       <use xlink:href=\"#DejaVuSans-84\"/>\r\n       <use x=\"61.083984\" xlink:href=\"#DejaVuSans-82\"/>\r\n       <use x=\"126.566406\" xlink:href=\"#DejaVuSans-65\"/>\r\n       <use x=\"194.974609\" xlink:href=\"#DejaVuSans-78\"/>\r\n       <use x=\"269.779297\" xlink:href=\"#DejaVuSans-83\"/>\r\n       <use x=\"333.255859\" xlink:href=\"#DejaVuSans-70\"/>\r\n       <use x=\"390.775391\" xlink:href=\"#DejaVuSans-69\"/>\r\n       <use x=\"453.958984\" xlink:href=\"#DejaVuSans-82\"/>\r\n      </g>\r\n     </g>\r\n    </g>\r\n    <g id=\"ytick_10\">\r\n     <g id=\"line2d_17\">\r\n      <g>\r\n       <use style=\"stroke:#000000;stroke-width:0.8;\" x=\"97.223437\" xlink:href=\"#m752e1a654b\" y=\"52.5\"/>\r\n      </g>\r\n     </g>\r\n     <g id=\"text_17\">\r\n      <!-- newbalanceOrig -->\r\n      <g transform=\"translate(9.073437 56.299219)scale(0.1 -0.1)\">\r\n       <use xlink:href=\"#DejaVuSans-110\"/>\r\n       <use x=\"63.378906\" xlink:href=\"#DejaVuSans-101\"/>\r\n       <use x=\"124.902344\" xlink:href=\"#DejaVuSans-119\"/>\r\n       <use x=\"206.689453\" xlink:href=\"#DejaVuSans-98\"/>\r\n       <use x=\"270.166016\" xlink:href=\"#DejaVuSans-97\"/>\r\n       <use x=\"331.445312\" xlink:href=\"#DejaVuSans-108\"/>\r\n       <use x=\"359.228516\" xlink:href=\"#DejaVuSans-97\"/>\r\n       <use x=\"420.507812\" xlink:href=\"#DejaVuSans-110\"/>\r\n       <use x=\"483.886719\" xlink:href=\"#DejaVuSans-99\"/>\r\n       <use x=\"538.867188\" xlink:href=\"#DejaVuSans-101\"/>\r\n       <use x=\"600.390625\" xlink:href=\"#DejaVuSans-79\"/>\r\n       <use x=\"679.101562\" xlink:href=\"#DejaVuSans-114\"/>\r\n       <use x=\"720.214844\" xlink:href=\"#DejaVuSans-105\"/>\r\n       <use x=\"747.998047\" xlink:href=\"#DejaVuSans-103\"/>\r\n      </g>\r\n     </g>\r\n    </g>\r\n    <g id=\"ytick_11\">\r\n     <g id=\"line2d_18\">\r\n      <g>\r\n       <use style=\"stroke:#000000;stroke-width:0.8;\" x=\"97.223437\" xlink:href=\"#m752e1a654b\" y=\"34.38\"/>\r\n      </g>\r\n     </g>\r\n     <g id=\"text_18\">\r\n      <!-- amount -->\r\n      <g transform=\"translate(51.640625 38.179219)scale(0.1 -0.1)\">\r\n       <defs>\r\n        <path d=\"M 52 44.1875 \r\nQ 55.375 50.25 60.0625 53.125 \r\nQ 64.75 56 71.09375 56 \r\nQ 79.640625 56 84.28125 50.015625 \r\nQ 88.921875 44.046875 88.921875 33.015625 \r\nL 88.921875 0 \r\nL 79.890625 0 \r\nL 79.890625 32.71875 \r\nQ 79.890625 40.578125 77.09375 44.375 \r\nQ 74.3125 48.1875 68.609375 48.1875 \r\nQ 61.625 48.1875 57.5625 43.546875 \r\nQ 53.515625 38.921875 53.515625 30.90625 \r\nL 53.515625 0 \r\nL 44.484375 0 \r\nL 44.484375 32.71875 \r\nQ 44.484375 40.625 41.703125 44.40625 \r\nQ 38.921875 48.1875 33.109375 48.1875 \r\nQ 26.21875 48.1875 22.15625 43.53125 \r\nQ 18.109375 38.875 18.109375 30.90625 \r\nL 18.109375 0 \r\nL 9.078125 0 \r\nL 9.078125 54.6875 \r\nL 18.109375 54.6875 \r\nL 18.109375 46.1875 \r\nQ 21.1875 51.21875 25.484375 53.609375 \r\nQ 29.78125 56 35.6875 56 \r\nQ 41.65625 56 45.828125 52.96875 \r\nQ 50 49.953125 52 44.1875 \r\nz\r\n\" id=\"DejaVuSans-109\"/>\r\n        <path d=\"M 8.5 21.578125 \r\nL 8.5 54.6875 \r\nL 17.484375 54.6875 \r\nL 17.484375 21.921875 \r\nQ 17.484375 14.15625 20.5 10.265625 \r\nQ 23.53125 6.390625 29.59375 6.390625 \r\nQ 36.859375 6.390625 41.078125 11.03125 \r\nQ 45.3125 15.671875 45.3125 23.6875 \r\nL 45.3125 54.6875 \r\nL 54.296875 54.6875 \r\nL 54.296875 0 \r\nL 45.3125 0 \r\nL 45.3125 8.40625 \r\nQ 42.046875 3.421875 37.71875 1 \r\nQ 33.40625 -1.421875 27.6875 -1.421875 \r\nQ 18.265625 -1.421875 13.375 4.4375 \r\nQ 8.5 10.296875 8.5 21.578125 \r\nz\r\nM 31.109375 56 \r\nz\r\n\" id=\"DejaVuSans-117\"/>\r\n       </defs>\r\n       <use xlink:href=\"#DejaVuSans-97\"/>\r\n       <use x=\"61.279297\" xlink:href=\"#DejaVuSans-109\"/>\r\n       <use x=\"158.691406\" xlink:href=\"#DejaVuSans-111\"/>\r\n       <use x=\"219.873047\" xlink:href=\"#DejaVuSans-117\"/>\r\n       <use x=\"283.251953\" xlink:href=\"#DejaVuSans-110\"/>\r\n       <use x=\"346.630859\" xlink:href=\"#DejaVuSans-116\"/>\r\n      </g>\r\n     </g>\r\n    </g>\r\n    <g id=\"ytick_12\">\r\n     <g id=\"line2d_19\">\r\n      <g>\r\n       <use style=\"stroke:#000000;stroke-width:0.8;\" x=\"97.223437\" xlink:href=\"#m752e1a654b\" y=\"16.26\"/>\r\n      </g>\r\n     </g>\r\n     <g id=\"text_19\">\r\n      <!-- oldbalanceOrg -->\r\n      <g transform=\"translate(17.45 20.059219)scale(0.1 -0.1)\">\r\n       <use xlink:href=\"#DejaVuSans-111\"/>\r\n       <use x=\"61.181641\" xlink:href=\"#DejaVuSans-108\"/>\r\n       <use x=\"88.964844\" xlink:href=\"#DejaVuSans-100\"/>\r\n       <use x=\"152.441406\" xlink:href=\"#DejaVuSans-98\"/>\r\n       <use x=\"215.917969\" xlink:href=\"#DejaVuSans-97\"/>\r\n       <use x=\"277.197266\" xlink:href=\"#DejaVuSans-108\"/>\r\n       <use x=\"304.980469\" xlink:href=\"#DejaVuSans-97\"/>\r\n       <use x=\"366.259766\" xlink:href=\"#DejaVuSans-110\"/>\r\n       <use x=\"429.638672\" xlink:href=\"#DejaVuSans-99\"/>\r\n       <use x=\"484.619141\" xlink:href=\"#DejaVuSans-101\"/>\r\n       <use x=\"546.142578\" xlink:href=\"#DejaVuSans-79\"/>\r\n       <use x=\"624.853516\" xlink:href=\"#DejaVuSans-114\"/>\r\n       <use x=\"664.216797\" xlink:href=\"#DejaVuSans-103\"/>\r\n      </g>\r\n     </g>\r\n    </g>\r\n   </g>\r\n   <g id=\"patch_15\">\r\n    <path d=\"M 97.223437 224.64 \r\nL 97.223437 7.2 \r\n\" style=\"fill:none;stroke:#000000;stroke-linecap:square;stroke-linejoin:miter;stroke-width:0.8;\"/>\r\n   </g>\r\n   <g id=\"patch_16\">\r\n    <path d=\"M 432.023438 224.64 \r\nL 432.023438 7.2 \r\n\" style=\"fill:none;stroke:#000000;stroke-linecap:square;stroke-linejoin:miter;stroke-width:0.8;\"/>\r\n   </g>\r\n   <g id=\"patch_17\">\r\n    <path d=\"M 97.223437 224.64 \r\nL 432.023438 224.64 \r\n\" style=\"fill:none;stroke:#000000;stroke-linecap:square;stroke-linejoin:miter;stroke-width:0.8;\"/>\r\n   </g>\r\n   <g id=\"patch_18\">\r\n    <path d=\"M 97.223437 7.2 \r\nL 432.023438 7.2 \r\n\" style=\"fill:none;stroke:#000000;stroke-linecap:square;stroke-linejoin:miter;stroke-width:0.8;\"/>\r\n   </g>\r\n  </g>\r\n </g>\r\n <defs>\r\n  <clipPath id=\"p8290b72f3b\">\r\n   <rect height=\"217.44\" width=\"334.8\" x=\"97.223437\" y=\"7.2\"/>\r\n  </clipPath>\r\n </defs>\r\n</svg>\r\n",
      "image/png": "[encoded data removed]"
     },
     "metadata": {
      "needs_background": "light"
     }
    },
    {
     "output_type": "stream",
     "name": "stdout",
     "text": "Test accuracy of best CV params: 0.9330493000608643\nArea Under the ROC Curve: 0.9802107763473212\nF1 Score: 0.9324739103744629\n"
    }
   ],
   "source": [
    "# Random Forest Classifier\n",
    "rf = RandomForestClassifier(random_state=123)\n",
    "# print(rf.get_params())\n",
    "parameters = {'n_estimators': [100, 350, 500], 'max_features': ['log2', 'sqrt'],\n",
    "              'min_samples_leaf': [0.10, 0.15, 0.20]}\n",
    "searcher = GridSearchCV(rf, parameters, n_jobs=-1, verbose=1)\n",
    "searcher.fit(X_train, y_train)\n",
    "print(\"Best CV params\", searcher.best_params_)\n",
    "\n",
    "best_rf = searcher.best_estimator_\n",
    "y_pred = best_rf.predict(X_test)\n",
    "y_pred_proba = best_rf.predict_proba(X_test)[:,1]\n",
    "\n",
    "importances_rf = pd.Series(best_rf.feature_importances_, index=X.columns)\n",
    "sorted_importances_rf = importances_rf.sort_values()\n",
    "sorted_importances_rf.plot(kind='barh', color='blue')\n",
    "plt.show()\n",
    "\n",
    "Accuracy4 = searcher.score(X_test, y_test)\n",
    "ROC_AUC4 = roc_auc_score(y_test, y_pred_proba)\n",
    "F1Score4 = f1_score(y_test, y_pred)\n",
    "print(\"Test accuracy of best CV params:\", Accuracy4)\n",
    "print(\"Area Under the ROC Curve:\", ROC_AUC4)\n",
    "print(\"F1 Score:\", F1Score4)"
   ]
  },
  {
   "cell_type": "markdown",
   "metadata": {},
   "source": [
    "## AdaBoost Classifier"
   ]
  },
  {
   "cell_type": "code",
   "execution_count": 18,
   "metadata": {
    "tags": []
   },
   "outputs": [
    {
     "output_type": "stream",
     "name": "stdout",
     "text": "Fitting 5 folds for each of 27 candidates, totalling 135 fits\n[Parallel(n_jobs=-1)]: Using backend LokyBackend with 8 concurrent workers.\n[Parallel(n_jobs=-1)]: Done  34 tasks      | elapsed:   42.3s\n[Parallel(n_jobs=-1)]: Done 135 out of 135 | elapsed:  3.1min finished\nBest CV params {'base_estimator__max_depth': 3, 'base_estimator__min_samples_leaf': 0.1, 'n_estimators': 500}\nTest accuracy of best CV params: 0.9954351795496044\nArea Under the ROC Curve: 0.9991027798635944\nF1 Score: 0.9954448830853324\n"
    }
   ],
   "source": [
    "# AdaBoost Classifier\n",
    "dt = DecisionTreeClassifier(random_state=123)\n",
    "ada = AdaBoostClassifier(base_estimator=dt)\n",
    "# print(ada.get_params())\n",
    "parameters = {'n_estimators': [100, 350, 500], 'base_estimator__max_depth': [2, 3, 4],\n",
    "              'base_estimator__min_samples_leaf': [0.10, 0.15, 0.20]}\n",
    "searcher = GridSearchCV(ada, parameters, n_jobs=-1, verbose=1)\n",
    "searcher.fit(X_train, y_train)\n",
    "print(\"Best CV params\", searcher.best_params_)\n",
    "\n",
    "best_ada = searcher.best_estimator_\n",
    "y_pred = best_ada.predict(X_test)\n",
    "y_pred_proba = best_ada.predict_proba(X_test)[:,1]\n",
    "\n",
    "Accuracy5 = searcher.score(X_test, y_test)\n",
    "ROC_AUC5 = roc_auc_score(y_test, y_pred_proba)\n",
    "F1Score5 = f1_score(y_test, y_pred)\n",
    "print(\"Test accuracy of best CV params:\", Accuracy5)\n",
    "print(\"Area Under the ROC Curve:\", ROC_AUC5)\n",
    "print(\"F1 Score:\", F1Score5)"
   ]
  },
  {
   "cell_type": "markdown",
   "metadata": {},
   "source": [
    "## XGBoost Classifier"
   ]
  },
  {
   "cell_type": "code",
   "execution_count": 19,
   "metadata": {
    "tags": []
   },
   "outputs": [
    {
     "output_type": "stream",
     "name": "stdout",
     "text": "Fitting 5 folds for each of 27 candidates, totalling 135 fits\n[Parallel(n_jobs=-1)]: Using backend LokyBackend with 8 concurrent workers.\n[Parallel(n_jobs=-1)]: Done  34 tasks      | elapsed:    6.7s\n[Parallel(n_jobs=-1)]: Done 135 out of 135 | elapsed:   33.6s finished\nBest CV params {'colsample_bytree': 0.7, 'max_depth': 4, 'n_estimators': 350}\nTest accuracy of best CV params: 0.995739500912964\nArea Under the ROC Curve: 0.9994869323332279\nF1 Score: 0.9957498482088646\n"
    }
   ],
   "source": [
    "# XGBoost Classifier\n",
    "xgcl = xgb.XGBClassifier(seed=123)\n",
    "# print(xgcl.get_params())\n",
    "parameters = {'colsample_bytree': [0.3, 0.5, 0.7],\n",
    "              'n_estimators': [100, 350, 500],\n",
    "              'max_depth': [2, 3, 4]}\n",
    "searcher = GridSearchCV(xgcl, parameters, n_jobs=-1, verbose=1)\n",
    "searcher.fit(X_train, y_train)\n",
    "print(\"Best CV params\", searcher.best_params_)\n",
    "\n",
    "best_xgcl = searcher.best_estimator_\n",
    "y_pred = best_xgcl.predict(X_test)\n",
    "y_pred_proba = best_xgcl.predict_proba(X_test)[:,1]\n",
    "\n",
    "Accuracy6 = searcher.score(X_test, y_test)\n",
    "ROC_AUC6 = roc_auc_score(y_test, y_pred_proba)\n",
    "F1Score6 = f1_score(y_test, y_pred)\n",
    "print(\"Test accuracy of best CV params:\", Accuracy6)\n",
    "print(\"Area Under the ROC Curve:\", ROC_AUC6)\n",
    "print(\"F1 Score:\", F1Score6)\n"
   ]
  },
  {
   "cell_type": "markdown",
   "metadata": {},
   "source": [
    "## Evaluación final\n",
    "En esta sección final se compara el desempeño de los distintos modelos. Se observa que, en general, todos los modelos tuvieron un excelente desempeño. El modelo más débil fue el Decision Tree, mientras que el mejor modelo fue **XGBoost**, que obtuvo los mejores indicadores en Accuracy y F1Score. Además, destaca **AdaBoost**, que obtuvo el mejor desempeño en ROC AUC."
   ]
  },
  {
   "cell_type": "code",
   "execution_count": 21,
   "metadata": {
    "tags": []
   },
   "outputs": [
    {
     "output_type": "stream",
     "name": "stdout",
     "text": "Accuracy    XGBoost\nROC AUC     XGBoost\nF1Score     XGBoost\ndtype: object\n"
    },
    {
     "output_type": "execute_result",
     "data": {
      "text/plain": "          Accuracy  ROC AUC  F1Score\nLR          0.9562   0.9935   0.9566\nSVM         0.9614   0.9947   0.9618\nDTree       0.9057   0.9446   0.9000\nRForest     0.9330   0.9802   0.9325\nAdaBoost    0.9954   0.9991   0.9954\nXGBoost     0.9957   0.9995   0.9957",
      "text/html": "<div>\n<style scoped>\n    .dataframe tbody tr th:only-of-type {\n        vertical-align: middle;\n    }\n\n    .dataframe tbody tr th {\n        vertical-align: top;\n    }\n\n    .dataframe thead th {\n        text-align: right;\n    }\n</style>\n<table border=\"1\" class=\"dataframe\">\n  <thead>\n    <tr style=\"text-align: right;\">\n      <th></th>\n      <th>Accuracy</th>\n      <th>ROC AUC</th>\n      <th>F1Score</th>\n    </tr>\n  </thead>\n  <tbody>\n    <tr>\n      <th>LR</th>\n      <td>0.9562</td>\n      <td>0.9935</td>\n      <td>0.9566</td>\n    </tr>\n    <tr>\n      <th>SVM</th>\n      <td>0.9614</td>\n      <td>0.9947</td>\n      <td>0.9618</td>\n    </tr>\n    <tr>\n      <th>DTree</th>\n      <td>0.9057</td>\n      <td>0.9446</td>\n      <td>0.9000</td>\n    </tr>\n    <tr>\n      <th>RForest</th>\n      <td>0.9330</td>\n      <td>0.9802</td>\n      <td>0.9325</td>\n    </tr>\n    <tr>\n      <th>AdaBoost</th>\n      <td>0.9954</td>\n      <td>0.9991</td>\n      <td>0.9954</td>\n    </tr>\n    <tr>\n      <th>XGBoost</th>\n      <td>0.9957</td>\n      <td>0.9995</td>\n      <td>0.9957</td>\n    </tr>\n  </tbody>\n</table>\n</div>"
     },
     "metadata": {},
     "execution_count": 21
    }
   ],
   "source": [
    "Classifier = ['LR', 'SVM', 'DTree', 'RForest', 'AdaBoost', 'XGBoost']\n",
    "Accuracy = [Accuracy1, Accuracy2, Accuracy3, Accuracy4, Accuracy5, Accuracy6]\n",
    "ROC_AUC = [ROC_AUC1, ROC_AUC2, ROC_AUC3, ROC_AUC4, ROC_AUC5, ROC_AUC6]\n",
    "F1Score = [F1Score1, F1Score2, F1Score3, F1Score4, F1Score5, F1Score6]\n",
    "Resultados = pd.DataFrame({'Accuracy':Accuracy, 'ROC AUC':ROC_AUC, 'F1Score':F1Score}, index=Classifier)\n",
    "print(Resultados.idxmax())\n",
    "Resultados"
   ]
  },
  {
   "cell_type": "code",
   "execution_count": null,
   "metadata": {},
   "outputs": [],
   "source": []
  }
 ],
 "metadata": {
  "kernelspec": {
   "display_name": "Python 3",
   "language": "python",
   "name": "python3"
  },
  "language_info": {
   "codemirror_mode": {
    "name": "ipython",
    "version": 3
   },
   "file_extension": ".py",
   "mimetype": "text/x-python",
   "name": "python",
   "nbconvert_exporter": "python",
   "pygments_lexer": "ipython3",
   "version": "3.7.9"
  }
 },
 "nbformat": 4,
 "nbformat_minor": 4
}